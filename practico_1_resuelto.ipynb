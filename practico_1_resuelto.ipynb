{
  "nbformat": 4,
  "nbformat_minor": 0,
  "metadata": {
    "colab": {
      "provenance": [],
      "collapsed_sections": [
        "e5ddPvOF9KdG",
        "2iSXiPew9XOZ",
        "Adc_7Ee29EpE",
        "bmHmMiAboqzs",
        "W4HxPu2-9Q68"
      ],
      "include_colab_link": true
    },
    "kernelspec": {
      "name": "python3",
      "display_name": "Python 3"
    },
    "language_info": {
      "name": "python"
    }
  },
  "cells": [
    {
      "cell_type": "markdown",
      "metadata": {
        "id": "view-in-github",
        "colab_type": "text"
      },
      "source": [
        "<a href=\"https://colab.research.google.com/github/Baudier13/NN/blob/main/practico_1_resuelto.ipynb\" target=\"_parent\"><img src=\"https://colab.research.google.com/assets/colab-badge.svg\" alt=\"Open In Colab\"/></a>"
      ]
    },
    {
      "cell_type": "markdown",
      "source": [
        "# Familiarizandose con **Google Colab**\n",
        "\n",
        "## **Ejercicio 1)** Importando librerías\n",
        "\n",
        "Importe las librerías `numpy` para operar con arrays y `matplotlib.pyplot` para graficar."
      ],
      "metadata": {
        "id": "NRYEofSD0xoF"
      }
    },
    {
      "cell_type": "code",
      "source": [
        "import numpy as np\n",
        "import matplotlib.pyplot as plt"
      ],
      "metadata": {
        "id": "I8N3D_nU1_oT"
      },
      "execution_count": null,
      "outputs": []
    },
    {
      "cell_type": "markdown",
      "source": [
        "## **Ejercicio 2)** Practicando instrucciones básicas\n",
        "\n",
        "**a)** Ingrese un comentario\n",
        "\n",
        "**b)** Implemente una suma, una multiplicación y una división entera.\n",
        "\n",
        "**c)** Repita con números flotantes.\n",
        "\n",
        "**d)** Ingrese un string.\n",
        "\n",
        "**e)** Ingrese un docstring.\n",
        "\n",
        "**f)** Concatene dos strings."
      ],
      "metadata": {
        "id": "NcaGEHAd10sb"
      }
    },
    {
      "cell_type": "code",
      "source": [
        "# 2.a) esto es un comentario"
      ],
      "metadata": {
        "id": "tntEwNvE4SZC"
      },
      "execution_count": null,
      "outputs": []
    },
    {
      "cell_type": "code",
      "source": [
        "# 2.b)\n",
        "1+1,5*3,3//2,3/2"
      ],
      "metadata": {
        "colab": {
          "base_uri": "https://localhost:8080/"
        },
        "id": "zSN2CcQ33N5D",
        "outputId": "24a9c4e9-cc84-4f84-c053-152de70e015c"
      },
      "execution_count": null,
      "outputs": [
        {
          "output_type": "execute_result",
          "data": {
            "text/plain": [
              "(2, 15, 1, 1.5)"
            ]
          },
          "metadata": {},
          "execution_count": 3
        }
      ]
    },
    {
      "cell_type": "code",
      "source": [
        "# 2.c)\n",
        "1.+1,2.5*3.,3/2."
      ],
      "metadata": {
        "colab": {
          "base_uri": "https://localhost:8080/"
        },
        "id": "dHao7DK93SMN",
        "outputId": "fa135a3d-b013-46f6-ff8d-da9c9069dc9a"
      },
      "execution_count": null,
      "outputs": [
        {
          "output_type": "execute_result",
          "data": {
            "text/plain": [
              "(2.0, 7.5, 1.5)"
            ]
          },
          "metadata": {},
          "execution_count": 4
        }
      ]
    },
    {
      "cell_type": "code",
      "source": [
        "# 2.d)\n",
        "\"Hola mundo!\""
      ],
      "metadata": {
        "colab": {
          "base_uri": "https://localhost:8080/",
          "height": 35
        },
        "id": "32XEMIBA3vn9",
        "outputId": "8945d988-f578-4d12-b15a-a1cb675b79d9"
      },
      "execution_count": null,
      "outputs": [
        {
          "output_type": "execute_result",
          "data": {
            "text/plain": [
              "'Hola mundo!'"
            ],
            "application/vnd.google.colaboratory.intrinsic+json": {
              "type": "string"
            }
          },
          "metadata": {},
          "execution_count": 5
        }
      ]
    },
    {
      "cell_type": "code",
      "source": [
        "# 2.e)\n",
        "\"\"\"El doctstring me permite\n",
        "\n",
        "escribir varias líneas, entre otras cosas\"\"\""
      ],
      "metadata": {
        "id": "lGYCv6KW320M",
        "colab": {
          "base_uri": "https://localhost:8080/",
          "height": 35
        },
        "outputId": "905ea417-02e8-48db-a593-e2c8489e35b0"
      },
      "execution_count": null,
      "outputs": [
        {
          "output_type": "execute_result",
          "data": {
            "text/plain": [
              "'El doctstring me permite\\n\\nescribir varias líneas, entre otras cosas'"
            ],
            "application/vnd.google.colaboratory.intrinsic+json": {
              "type": "string"
            }
          },
          "metadata": {},
          "execution_count": 6
        }
      ]
    },
    {
      "cell_type": "code",
      "source": [
        "# 2.f)\n",
        "\"hola\"+\"mundo\""
      ],
      "metadata": {
        "colab": {
          "base_uri": "https://localhost:8080/",
          "height": 35
        },
        "id": "r4WGvpoX4WES",
        "outputId": "8c891c4a-ee9f-490b-de3d-2f385a52f825"
      },
      "execution_count": null,
      "outputs": [
        {
          "output_type": "execute_result",
          "data": {
            "text/plain": [
              "'holamundo'"
            ],
            "application/vnd.google.colaboratory.intrinsic+json": {
              "type": "string"
            }
          },
          "metadata": {},
          "execution_count": 7
        }
      ]
    },
    {
      "cell_type": "markdown",
      "source": [
        "## **Ejercicio 3)** Practicando con variables\n",
        "\n",
        "**a)** Inicialize una variable `x` con el valor `3`\n",
        "\n",
        "**b)** Evalue la variable `x`.\n",
        "\n",
        "**c)** Inicialize otra variable `y` con el valor `4` y evalue la suma de `x` con `y`.\n",
        "\n",
        "**d)** Inicialize otra variable `z` con el resultado de evaluar `x*(2+y)`. Luego, evalúe `z`.\n",
        "\n",
        "**e)** Inicialize una variable `s1` con el string `\"hola\"` y otra `s2` con el string  `\"mundo\"`.\n",
        "\n",
        "**f)** Inicialize otra variable `s` con el resultado de concatenar `s1` con `s2`. Luego, evalùe `s`."
      ],
      "metadata": {
        "id": "z9AlDWS02Xrm"
      }
    },
    {
      "cell_type": "code",
      "source": [
        "# 3.a)\n",
        "x = 3"
      ],
      "metadata": {
        "id": "7RZp9Wq_5c5o"
      },
      "execution_count": null,
      "outputs": []
    },
    {
      "cell_type": "code",
      "source": [
        "# 3.b)\n",
        "x"
      ],
      "metadata": {
        "colab": {
          "base_uri": "https://localhost:8080/"
        },
        "id": "9cDO2G3e5lU_",
        "outputId": "882303f5-cf1d-4f88-d4aa-fcd5d1e5b738"
      },
      "execution_count": null,
      "outputs": [
        {
          "output_type": "execute_result",
          "data": {
            "text/plain": [
              "3"
            ]
          },
          "metadata": {},
          "execution_count": 9
        }
      ]
    },
    {
      "cell_type": "code",
      "source": [
        "# 3.c)\n",
        "y = 4\n",
        "x + y"
      ],
      "metadata": {
        "colab": {
          "base_uri": "https://localhost:8080/"
        },
        "id": "jgkHAT4b5ogJ",
        "outputId": "3721c112-e5b2-477c-a626-46807e3b8c62"
      },
      "execution_count": null,
      "outputs": [
        {
          "output_type": "execute_result",
          "data": {
            "text/plain": [
              "7"
            ]
          },
          "metadata": {},
          "execution_count": 10
        }
      ]
    },
    {
      "cell_type": "code",
      "source": [
        "# 3.d)\n",
        "z = x*(2+y)"
      ],
      "metadata": {
        "id": "SQV4C45B5tof"
      },
      "execution_count": null,
      "outputs": []
    },
    {
      "cell_type": "code",
      "source": [
        "z"
      ],
      "metadata": {
        "colab": {
          "base_uri": "https://localhost:8080/"
        },
        "id": "QdijqmAD51AT",
        "outputId": "2402c28a-1172-4631-eb01-c9f37d853a98"
      },
      "execution_count": null,
      "outputs": [
        {
          "output_type": "execute_result",
          "data": {
            "text/plain": [
              "18"
            ]
          },
          "metadata": {},
          "execution_count": 12
        }
      ]
    },
    {
      "cell_type": "code",
      "source": [
        "# 3.e)\n",
        "s1 = \"hola\"\n",
        "s2 = \"mundo\""
      ],
      "metadata": {
        "id": "Dm2j_lp752bg"
      },
      "execution_count": null,
      "outputs": []
    },
    {
      "cell_type": "code",
      "source": [
        "# 3.f)\n",
        "s = s1 + s2\n",
        "s"
      ],
      "metadata": {
        "colab": {
          "base_uri": "https://localhost:8080/",
          "height": 35
        },
        "id": "bGFmi37C59Xg",
        "outputId": "17fc637a-a9c6-474c-cdc5-bc31cc3852ab"
      },
      "execution_count": null,
      "outputs": [
        {
          "output_type": "execute_result",
          "data": {
            "text/plain": [
              "'holamundo'"
            ],
            "application/vnd.google.colaboratory.intrinsic+json": {
              "type": "string"
            }
          },
          "metadata": {},
          "execution_count": 14
        }
      ]
    },
    {
      "cell_type": "markdown",
      "source": [
        "## **Ejercicio 4)** Practicando igualdades y desigualdades\n",
        "\n",
        "**a)** Evalúe `1 == 1`.\n",
        "\n",
        "**b)** Evalúe `1 == 2`.\n",
        "\n",
        "**c)** Evalúe `1 != 1`.\n",
        "\n",
        "**d)** Evalúe `1 != 2`.\n",
        "\n",
        "**e)** Evalúe `\"hola\" == \"hola\"`.\n",
        "\n",
        "**f)** Evalúe `\"hola\" != \"hola\"`.\n",
        "\n",
        "**g)** Evalúe `\"hola\" == \"mundo\"`.\n",
        "\n",
        "**h)** Evalúe `\"hola\" != \"mundo\"`.\n",
        "\n",
        "**i)** Evalúe `True == True`.\n",
        "\n",
        "**j)** Evalúe `False == True`.\n",
        "\n",
        "**k)** Evalúe `False != True`.\n",
        "\n",
        "**l)** Evalúe `False == False`.\n",
        "\n",
        "**l)** Evalúe `1 < 2`.\n",
        "\n",
        "**l)** Evalúe `1 > 2`.\n",
        "\n",
        "**m)** Evalúe `1 <= 2`.\n",
        "\n",
        "**n)** Evalúe `1 >= 2`."
      ],
      "metadata": {
        "id": "1q4dmsnN2Z_A"
      }
    },
    {
      "cell_type": "code",
      "source": [
        "# 4.a)\n",
        "1 == 1"
      ],
      "metadata": {
        "colab": {
          "base_uri": "https://localhost:8080/"
        },
        "id": "pzU9Y1PB6vxq",
        "outputId": "1a8df46c-cf54-4236-a085-a9c660bc9427"
      },
      "execution_count": null,
      "outputs": [
        {
          "output_type": "execute_result",
          "data": {
            "text/plain": [
              "True"
            ]
          },
          "metadata": {},
          "execution_count": 15
        }
      ]
    },
    {
      "cell_type": "code",
      "source": [
        "# 4.b)\n",
        "1 == 2"
      ],
      "metadata": {
        "colab": {
          "base_uri": "https://localhost:8080/"
        },
        "id": "KnCj665F7G_7",
        "outputId": "a833b5a5-2377-4a13-eb8f-9d3f8de061e1"
      },
      "execution_count": null,
      "outputs": [
        {
          "output_type": "execute_result",
          "data": {
            "text/plain": [
              "False"
            ]
          },
          "metadata": {},
          "execution_count": 16
        }
      ]
    },
    {
      "cell_type": "code",
      "source": [],
      "metadata": {
        "id": "X1OG5vk-7Rbw"
      },
      "execution_count": null,
      "outputs": []
    },
    {
      "cell_type": "markdown",
      "source": [
        "## **Ejercicio 5)** Practicando con la función `print`.\n",
        "\n",
        "**a)** Imprima un número.\n",
        "\n",
        "**b)** Imprima un string.\n",
        "\n",
        "**c)** Imprima dos números.\n",
        "\n",
        "**d)** Imprima dos strings.\n",
        "\n",
        "**e)** Imprima dos strings con separador vacío.\n",
        "\n",
        "**f)** Imprima un número y un string."
      ],
      "metadata": {
        "id": "K3Oh_Sne7f-p"
      }
    },
    {
      "cell_type": "code",
      "source": [
        "# 5.a)\n",
        "print(1)"
      ],
      "metadata": {
        "colab": {
          "base_uri": "https://localhost:8080/"
        },
        "id": "JiKAmQxT7sMJ",
        "outputId": "6730826e-133d-4eca-ad6e-ddbc6b8c2661"
      },
      "execution_count": null,
      "outputs": [
        {
          "output_type": "stream",
          "name": "stdout",
          "text": [
            "1\n"
          ]
        }
      ]
    },
    {
      "cell_type": "code",
      "source": [
        "# 5.b)\n",
        "print(1,2)"
      ],
      "metadata": {
        "colab": {
          "base_uri": "https://localhost:8080/"
        },
        "id": "z63wxhG_72Ow",
        "outputId": "51b1630e-c8c8-44b8-9d2c-a65a75a157be"
      },
      "execution_count": null,
      "outputs": [
        {
          "output_type": "stream",
          "name": "stdout",
          "text": [
            "1 2\n"
          ]
        }
      ]
    },
    {
      "cell_type": "code",
      "source": [
        "# 5.c)\n",
        "print(\"hola\")"
      ],
      "metadata": {
        "colab": {
          "base_uri": "https://localhost:8080/"
        },
        "id": "J2TUfMs675NK",
        "outputId": "7d68e7ac-8ebf-435b-8d0b-c35d84b6ca18"
      },
      "execution_count": null,
      "outputs": [
        {
          "output_type": "stream",
          "name": "stdout",
          "text": [
            "hola\n"
          ]
        }
      ]
    },
    {
      "cell_type": "code",
      "source": [
        "# 5.d)\n",
        "print(\"hola\",\"mundo\")"
      ],
      "metadata": {
        "colab": {
          "base_uri": "https://localhost:8080/"
        },
        "id": "O6DTWt5v77p5",
        "outputId": "93f4724c-86e7-4744-9f5f-59f9a633ec16"
      },
      "execution_count": null,
      "outputs": [
        {
          "output_type": "stream",
          "name": "stdout",
          "text": [
            "hola mundo\n"
          ]
        }
      ]
    },
    {
      "cell_type": "code",
      "source": [
        "# 5.d)\n",
        "print(\"hola\",\"mundo\",sep=\"\")"
      ],
      "metadata": {
        "colab": {
          "base_uri": "https://localhost:8080/"
        },
        "id": "_mburiNe8I9a",
        "outputId": "54e0547c-540e-4094-dd7c-e99330c2ae9f"
      },
      "execution_count": null,
      "outputs": [
        {
          "output_type": "stream",
          "name": "stdout",
          "text": [
            "holamundo\n"
          ]
        }
      ]
    },
    {
      "cell_type": "code",
      "source": [
        "# 5.d)\n",
        "print(1,\"mundo\")"
      ],
      "metadata": {
        "id": "gIgvW6dX8SEZ",
        "colab": {
          "base_uri": "https://localhost:8080/"
        },
        "outputId": "25ddb8e9-d784-4c0e-d9d0-8511d59ec78e"
      },
      "execution_count": null,
      "outputs": [
        {
          "output_type": "stream",
          "name": "stdout",
          "text": [
            "1 mundo\n"
          ]
        }
      ]
    },
    {
      "cell_type": "markdown",
      "source": [
        "## **Ejercicio 6)** Practicando con condicionales `if`, `else` y `elif`\n",
        "\n",
        "**a)** Imprime algo el siguiente código?\n",
        "\n",
        "      if 1 == 1:\n",
        "          print(\"hola\")\n",
        "\n",
        "**b)** Y el siguiente código?\n",
        "\n",
        "      if 1 != 1:\n",
        "          print(\"hola\")\n",
        "\n",
        "**c)** Que imprime el siguiente código?\n",
        "\n",
        "      if 1 == 2:\n",
        "          print(\"hola\")\n",
        "      else:\n",
        "          print(\"mundo\")\n",
        "\n",
        "**d)** Que imprime el siguiente código?\n",
        "\n",
        "      if 1 == 2:\n",
        "          print(\"hola\")\n",
        "      elif 1 < 2:\n",
        "          print(\"mundo\")\n",
        "      else:\n",
        "          print(\"argentina\")"
      ],
      "metadata": {
        "id": "B6wbgSO87aAE"
      }
    },
    {
      "cell_type": "code",
      "source": [
        "# 6.a)\n",
        "if 1 == 1:\n",
        "    print(\"hola\")"
      ],
      "metadata": {
        "colab": {
          "base_uri": "https://localhost:8080/"
        },
        "id": "G4bYNL7B8Wme",
        "outputId": "bcda6f19-c5f7-4d6d-f0db-e71ec44ab2e4"
      },
      "execution_count": null,
      "outputs": [
        {
          "output_type": "stream",
          "name": "stdout",
          "text": [
            "hola\n"
          ]
        }
      ]
    },
    {
      "cell_type": "code",
      "source": [
        "# 6.b)\n",
        "if 1 != 1:\n",
        "    print(\"hola\")"
      ],
      "metadata": {
        "id": "cz6wARPd2Mvc"
      },
      "execution_count": null,
      "outputs": []
    },
    {
      "cell_type": "code",
      "source": [
        "# 6.c)\n",
        "if 1 == 2:\n",
        "    print(\"hola\")\n",
        "else:\n",
        "    print(\"mundo\")"
      ],
      "metadata": {
        "colab": {
          "base_uri": "https://localhost:8080/"
        },
        "id": "iMTGOasJ2QFW",
        "outputId": "a6e904fe-40c7-4aaf-af0a-32a95284a89f"
      },
      "execution_count": null,
      "outputs": [
        {
          "output_type": "stream",
          "name": "stdout",
          "text": [
            "mundo\n"
          ]
        }
      ]
    },
    {
      "cell_type": "code",
      "source": [
        "# 6.d)\n",
        "if 1 == 2:\n",
        "    print(\"hola\")\n",
        "elif 1 < 2:\n",
        "    print(\"mundo\")\n",
        "else:\n",
        "    print(\"argentina\")"
      ],
      "metadata": {
        "colab": {
          "base_uri": "https://localhost:8080/"
        },
        "id": "8SJ1RjFQ2Qjk",
        "outputId": "0d3dfc78-6cb9-4fd4-b0f0-5526a22e53a2"
      },
      "execution_count": null,
      "outputs": [
        {
          "output_type": "stream",
          "name": "stdout",
          "text": [
            "mundo\n"
          ]
        }
      ]
    },
    {
      "cell_type": "markdown",
      "source": [
        "## **Ejercicio 7)** Practicando con listas\n",
        "\n",
        "**a)** Cree una lista con las siguientes strings `\"perro\"`, `\"gato\"`, `\"loro\"`, `\"caballo\"` y `\"llama\"`. Guardela en una variable llamada `animales`.\n",
        "\n",
        "**b)** Acceda al 3er elemento de la lista.\n",
        "\n",
        "**c)** Use slicing para acceder a los primeros 3 elementos de la lista.\n",
        "\n",
        "**d)** Use slicing para acceder a los últimos 3 elementos de la lista.\n",
        "\n",
        "**e)** Use slicing para acceder a los 3 elementos de la lista contando desde el segundo.\n",
        "\n",
        "**f)** Use *list comprehension* para generar una lista con los animales que posean una letra `l` en su nombre.\n",
        "\n",
        "**g)** Cree una lista con los números del 1 al 10, asignándola a una variable `a`.\n",
        "\n",
        "**h)** Modifique la entrada `a[5]`, asignandole el nuevo valor `\"hola\"`. Luego, evalúe `a`.\n",
        "\n",
        "**i)** Modifique las entradas `a[2:6]` con los valores de la lista `[\"perro\", \"gato\",\"loro\",\"caballo\"]`. Luego, evalúe `a`."
      ],
      "metadata": {
        "id": "8A3sq4Qm8_4T"
      }
    },
    {
      "cell_type": "code",
      "source": [
        "# 7.a)\n",
        "animales = [\"perro\",\"gato\",\"loro\",\"caballo\",\"llama\"]"
      ],
      "metadata": {
        "id": "7OX-mL5606x1"
      },
      "execution_count": null,
      "outputs": []
    },
    {
      "cell_type": "code",
      "source": [
        "# 7.b)\n",
        "animales[2]"
      ],
      "metadata": {
        "colab": {
          "base_uri": "https://localhost:8080/",
          "height": 35
        },
        "id": "4oW-GhR-1Gnj",
        "outputId": "8fc590a5-e355-474b-8788-8de4e894f045"
      },
      "execution_count": null,
      "outputs": [
        {
          "output_type": "execute_result",
          "data": {
            "text/plain": [
              "'loro'"
            ],
            "application/vnd.google.colaboratory.intrinsic+json": {
              "type": "string"
            }
          },
          "metadata": {},
          "execution_count": 9
        }
      ]
    },
    {
      "cell_type": "code",
      "source": [
        "# 7.c)\n",
        "animales[:3]"
      ],
      "metadata": {
        "colab": {
          "base_uri": "https://localhost:8080/"
        },
        "id": "uMjtPKDZ1TT0",
        "outputId": "6f6516b4-fb35-4e27-fa3b-e89653a3dcec"
      },
      "execution_count": null,
      "outputs": [
        {
          "output_type": "execute_result",
          "data": {
            "text/plain": [
              "['perro', 'gato', 'loro']"
            ]
          },
          "metadata": {},
          "execution_count": 10
        }
      ]
    },
    {
      "cell_type": "code",
      "source": [
        "# 7.d)\n",
        "animales[-3:]"
      ],
      "metadata": {
        "colab": {
          "base_uri": "https://localhost:8080/"
        },
        "id": "ftOSvK181ZGt",
        "outputId": "501e8da8-2533-43dd-ac0f-290f791a92f5"
      },
      "execution_count": null,
      "outputs": [
        {
          "output_type": "execute_result",
          "data": {
            "text/plain": [
              "['loro', 'caballo', 'llama']"
            ]
          },
          "metadata": {},
          "execution_count": 11
        }
      ]
    },
    {
      "cell_type": "code",
      "source": [
        "# 7.e)\n",
        "animales[1:1+3]"
      ],
      "metadata": {
        "colab": {
          "base_uri": "https://localhost:8080/"
        },
        "id": "pgFk7_Wj1q3x",
        "outputId": "92de58e4-d6f4-43a3-a0da-30aad4510027"
      },
      "execution_count": null,
      "outputs": [
        {
          "output_type": "execute_result",
          "data": {
            "text/plain": [
              "['gato', 'loro', 'caballo']"
            ]
          },
          "metadata": {},
          "execution_count": 12
        }
      ]
    },
    {
      "cell_type": "code",
      "source": [
        "# 7.f)\n",
        "[animal for animal in animales if 'l' in animal]"
      ],
      "metadata": {
        "colab": {
          "base_uri": "https://localhost:8080/"
        },
        "id": "Rr8kl-Jq10_u",
        "outputId": "ee1068d5-6a60-4042-a6cc-9ca2f6b25373"
      },
      "execution_count": null,
      "outputs": [
        {
          "output_type": "execute_result",
          "data": {
            "text/plain": [
              "['loro', 'caballo', 'llama']"
            ]
          },
          "metadata": {},
          "execution_count": 13
        }
      ]
    },
    {
      "cell_type": "code",
      "source": [
        "# 7.g)\n",
        "a = list(range(1,11))"
      ],
      "metadata": {
        "id": "NyUzuEfVognI"
      },
      "execution_count": null,
      "outputs": []
    },
    {
      "cell_type": "code",
      "source": [
        "# 7.h)\n",
        "a[5] = \"hola\"\n",
        "a"
      ],
      "metadata": {
        "colab": {
          "base_uri": "https://localhost:8080/"
        },
        "id": "VJrnxb5QlkWu",
        "outputId": "8ba1305c-a486-429a-ec7b-b9ca20e304f3"
      },
      "execution_count": null,
      "outputs": [
        {
          "output_type": "execute_result",
          "data": {
            "text/plain": [
              "[1, 2, 3, 4, 5, 'hola', 7, 8, 9, 10]"
            ]
          },
          "metadata": {},
          "execution_count": 17
        }
      ]
    },
    {
      "cell_type": "code",
      "source": [
        "# 7.i)\n",
        "a[2:6] = [\"perro\", \"gato\",\"loro\",\"caballo\"]\n",
        "a"
      ],
      "metadata": {
        "colab": {
          "base_uri": "https://localhost:8080/"
        },
        "id": "3cmLCeEIl0JA",
        "outputId": "60891e30-8856-4d38-d940-9c1faa97421d"
      },
      "execution_count": null,
      "outputs": [
        {
          "output_type": "execute_result",
          "data": {
            "text/plain": [
              "[1, 2, 'perro', 'gato', 'loro', 'caballo', 7, 8, 9, 10]"
            ]
          },
          "metadata": {},
          "execution_count": 19
        }
      ]
    },
    {
      "cell_type": "markdown",
      "source": [
        "## **Ejercicio 8)** Practicando con tuplas\n",
        "\n",
        "**a)** Determine si la tupla `(1,2,3)` es igual a si misma.\n",
        "\n",
        "**b)** Determine si la tupla `(1,2,3)` es igual a la tupla `(1,2,3,4)`.\n",
        "\n",
        "**c)** Inicialize una variable `t` con una tupla `(1,2,3)`. Luego, evalúe `t[0]`, `t[1]`, `t[2]` y `t[3]`.\n",
        "\n",
        "**d)** Intente modificar el valor de `t[0]`.\n",
        "\n",
        "**e)** Determine si la tupla `(1,2,3)` es igual a la lista `[1,2,3]`.\n",
        "\n",
        "**f)** Inicialize las variables `x`, `y` y `z` asignando la tupla `\"hola\",\"mundo\",100`. Evalúe `x`, `y` y `z`."
      ],
      "metadata": {
        "id": "0y2VKhA2oijd"
      }
    },
    {
      "cell_type": "code",
      "source": [
        "# 8.a)\n",
        "(1,2,3) == (1,2,3)"
      ],
      "metadata": {
        "colab": {
          "base_uri": "https://localhost:8080/"
        },
        "id": "smLKfDhZLUBJ",
        "outputId": "abd64d1b-b710-4274-b5ec-978223dc6252"
      },
      "execution_count": null,
      "outputs": [
        {
          "output_type": "execute_result",
          "data": {
            "text/plain": [
              "True"
            ]
          },
          "metadata": {},
          "execution_count": 36
        }
      ]
    },
    {
      "cell_type": "code",
      "source": [
        "# 8.b)\n",
        "(1,2,3) == (1,2,3,4)"
      ],
      "metadata": {
        "colab": {
          "base_uri": "https://localhost:8080/"
        },
        "id": "KN6Z4o-CLZ4K",
        "outputId": "2e908c76-30de-4975-ea63-6817f287ecfd"
      },
      "execution_count": null,
      "outputs": [
        {
          "output_type": "execute_result",
          "data": {
            "text/plain": [
              "False"
            ]
          },
          "metadata": {},
          "execution_count": 37
        }
      ]
    },
    {
      "cell_type": "code",
      "source": [
        "# 8.c)\n",
        "t = (1,2,3)"
      ],
      "metadata": {
        "id": "rpknZbSALkNC"
      },
      "execution_count": null,
      "outputs": []
    },
    {
      "cell_type": "code",
      "source": [
        "t[0]"
      ],
      "metadata": {
        "colab": {
          "base_uri": "https://localhost:8080/"
        },
        "id": "-3y8P74TLofA",
        "outputId": "29a15370-a3b1-452e-be74-94e56b152a8e"
      },
      "execution_count": null,
      "outputs": [
        {
          "output_type": "execute_result",
          "data": {
            "text/plain": [
              "1"
            ]
          },
          "metadata": {},
          "execution_count": 2
        }
      ]
    },
    {
      "cell_type": "code",
      "source": [
        "t[1]"
      ],
      "metadata": {
        "colab": {
          "base_uri": "https://localhost:8080/"
        },
        "id": "EjVM4MdrLq96",
        "outputId": "f27fe170-baba-44cb-b1ee-8a3f5b600fac"
      },
      "execution_count": null,
      "outputs": [
        {
          "output_type": "execute_result",
          "data": {
            "text/plain": [
              "2"
            ]
          },
          "metadata": {},
          "execution_count": 3
        }
      ]
    },
    {
      "cell_type": "code",
      "source": [
        "t[2]"
      ],
      "metadata": {
        "colab": {
          "base_uri": "https://localhost:8080/"
        },
        "id": "26ZY6yofLsbI",
        "outputId": "84f1e8ea-9f4f-4cd2-e05a-a48ec70dcc57"
      },
      "execution_count": null,
      "outputs": [
        {
          "output_type": "execute_result",
          "data": {
            "text/plain": [
              "3"
            ]
          },
          "metadata": {},
          "execution_count": 4
        }
      ]
    },
    {
      "cell_type": "code",
      "source": [
        "t[3]"
      ],
      "metadata": {
        "colab": {
          "base_uri": "https://localhost:8080/",
          "height": 174
        },
        "id": "BPy9byf7LuU-",
        "outputId": "16a3cebc-a1bb-42f2-af86-2f0ba3da6c11"
      },
      "execution_count": null,
      "outputs": [
        {
          "output_type": "error",
          "ename": "IndexError",
          "evalue": "ignored",
          "traceback": [
            "\u001b[0;31m---------------------------------------------------------------------------\u001b[0m",
            "\u001b[0;31mIndexError\u001b[0m                                Traceback (most recent call last)",
            "\u001b[0;32m<ipython-input-5-ffabd0b4a246>\u001b[0m in \u001b[0;36m<module>\u001b[0;34m\u001b[0m\n\u001b[0;32m----> 1\u001b[0;31m \u001b[0mt\u001b[0m\u001b[0;34m[\u001b[0m\u001b[0;36m3\u001b[0m\u001b[0;34m]\u001b[0m\u001b[0;34m\u001b[0m\u001b[0;34m\u001b[0m\u001b[0m\n\u001b[0m",
            "\u001b[0;31mIndexError\u001b[0m: tuple index out of range"
          ]
        }
      ]
    },
    {
      "cell_type": "code",
      "source": [
        "# 8.d)\n",
        "t[0] = 100"
      ],
      "metadata": {
        "colab": {
          "base_uri": "https://localhost:8080/",
          "height": 174
        },
        "id": "P01M7f4_kq9w",
        "outputId": "1d35b80b-24c1-49f1-b875-cdf1bf84779b"
      },
      "execution_count": null,
      "outputs": [
        {
          "output_type": "error",
          "ename": "TypeError",
          "evalue": "ignored",
          "traceback": [
            "\u001b[0;31m---------------------------------------------------------------------------\u001b[0m",
            "\u001b[0;31mTypeError\u001b[0m                                 Traceback (most recent call last)",
            "\u001b[0;32m<ipython-input-6-e6cf7836e708>\u001b[0m in \u001b[0;36m<module>\u001b[0;34m\u001b[0m\n\u001b[0;32m----> 1\u001b[0;31m \u001b[0mt\u001b[0m\u001b[0;34m[\u001b[0m\u001b[0;36m0\u001b[0m\u001b[0;34m]\u001b[0m \u001b[0;34m=\u001b[0m \u001b[0;36m100\u001b[0m\u001b[0;34m\u001b[0m\u001b[0;34m\u001b[0m\u001b[0m\n\u001b[0m",
            "\u001b[0;31mTypeError\u001b[0m: 'tuple' object does not support item assignment"
          ]
        }
      ]
    },
    {
      "cell_type": "code",
      "source": [
        "# 8.e)\n",
        "(1,2,3) == [1,2,3]"
      ],
      "metadata": {
        "colab": {
          "base_uri": "https://localhost:8080/"
        },
        "id": "JxGUOJ_JLyAv",
        "outputId": "86ef7917-39da-424c-a8a3-406e732fe6f1"
      },
      "execution_count": null,
      "outputs": [
        {
          "output_type": "execute_result",
          "data": {
            "text/plain": [
              "False"
            ]
          },
          "metadata": {},
          "execution_count": 43
        }
      ]
    },
    {
      "cell_type": "code",
      "source": [
        "# 8.f)\n",
        "x,y,z = \"hola\",\"mundo\",100"
      ],
      "metadata": {
        "id": "2wOvJeodL8P8"
      },
      "execution_count": null,
      "outputs": []
    },
    {
      "cell_type": "code",
      "source": [
        "x"
      ],
      "metadata": {
        "colab": {
          "base_uri": "https://localhost:8080/",
          "height": 35
        },
        "id": "LLqfWt1KMC7R",
        "outputId": "74abf709-d0af-415a-ab7c-b8f0a95a68b0"
      },
      "execution_count": null,
      "outputs": [
        {
          "output_type": "execute_result",
          "data": {
            "text/plain": [
              "'hola'"
            ],
            "application/vnd.google.colaboratory.intrinsic+json": {
              "type": "string"
            }
          },
          "metadata": {},
          "execution_count": 45
        }
      ]
    },
    {
      "cell_type": "code",
      "source": [
        "y"
      ],
      "metadata": {
        "colab": {
          "base_uri": "https://localhost:8080/",
          "height": 35
        },
        "id": "vxIcYZ8LMET1",
        "outputId": "1527ebbf-2958-40c8-f6d3-9b8428ac870d"
      },
      "execution_count": null,
      "outputs": [
        {
          "output_type": "execute_result",
          "data": {
            "text/plain": [
              "'mundo'"
            ],
            "application/vnd.google.colaboratory.intrinsic+json": {
              "type": "string"
            }
          },
          "metadata": {},
          "execution_count": 46
        }
      ]
    },
    {
      "cell_type": "code",
      "source": [
        "z"
      ],
      "metadata": {
        "colab": {
          "base_uri": "https://localhost:8080/"
        },
        "id": "fG8iqjxxMFZ4",
        "outputId": "2454ea27-2abf-4553-816c-0968d2db4be5"
      },
      "execution_count": null,
      "outputs": [
        {
          "output_type": "execute_result",
          "data": {
            "text/plain": [
              "100"
            ]
          },
          "metadata": {},
          "execution_count": 47
        }
      ]
    },
    {
      "cell_type": "markdown",
      "source": [
        "## **Ejercicio 9)** Practicando con loops\n",
        "\n",
        "**a)** Implemente un loop usando la instrucción `for` que imprima los números pares desde el 0 hasta el 10.\n",
        "\n",
        "**b)** *Conjetura de Collatz:* Implemente un loop usando la instrucción `while` calcule la iteración\n",
        "\n",
        "\\begin{equation}\n",
        "n_{t+1} = f(n_t)\n",
        "\\end{equation}\n",
        "\n",
        "donde $f(n) = n/2$ si $n$ es par y $f(n)=3n+1$ si $n$ es impar, partiendo de $n_0=10$. El loop debe detenerse cuando se cumple la condición $n_t=1$ para algún $t$. Que observa? Comente. Cuantas iteraciones (valor de $t$) realiza el loop?\n",
        "\n",
        "**c)** Use `for` para iterar sobre la lista `[\"perro\",\"gato\",\"loro\",\"caballo\",\"llama\"]`, imprimiendo los cada item en cada iteración."
      ],
      "metadata": {
        "id": "e5ddPvOF9KdG"
      }
    },
    {
      "cell_type": "code",
      "source": [],
      "metadata": {
        "id": "AMhhOXJhIH5r"
      },
      "execution_count": null,
      "outputs": []
    },
    {
      "cell_type": "code",
      "source": [
        "# 9.a)\n",
        "for i in range(11):\n",
        "    if i%2==0:\n",
        "      print(i)"
      ],
      "metadata": {
        "colab": {
          "base_uri": "https://localhost:8080/"
        },
        "id": "Gd2RahNG5NUT",
        "outputId": "6ef9ddb9-9e6a-4b4b-8fc8-5a601cbc3bf9"
      },
      "execution_count": null,
      "outputs": [
        {
          "output_type": "stream",
          "name": "stdout",
          "text": [
            "0\n",
            "2\n",
            "4\n",
            "6\n",
            "8\n",
            "10\n"
          ]
        }
      ]
    },
    {
      "cell_type": "code",
      "source": [
        "# 9.b)\n",
        "n=10\n",
        "t=0\n",
        "print(t,n)\n",
        "while n!=1:\n",
        "  if n%2==0:\n",
        "    n/=2\n",
        "  else:\n",
        "    n=3*n+1\n",
        "  print(t,n)"
      ],
      "metadata": {
        "colab": {
          "base_uri": "https://localhost:8080/"
        },
        "id": "_Oezw3S15ccW",
        "outputId": "243d3885-211e-4a4d-a89f-c48b5e026e13"
      },
      "execution_count": null,
      "outputs": [
        {
          "output_type": "stream",
          "name": "stdout",
          "text": [
            "0 10\n",
            "0 5.0\n",
            "0 16.0\n",
            "0 8.0\n",
            "0 4.0\n",
            "0 2.0\n",
            "0 1.0\n"
          ]
        }
      ]
    },
    {
      "cell_type": "code",
      "source": [
        "for animal in [\"perro\",\"gato\",\"loro\",\"caballo\",\"llama\"]:\n",
        "    print(animal)"
      ],
      "metadata": {
        "colab": {
          "base_uri": "https://localhost:8080/"
        },
        "id": "licaN7ru6Wgd",
        "outputId": "dee2e4d4-f5dd-4e93-8f10-70ba35746845"
      },
      "execution_count": null,
      "outputs": [
        {
          "output_type": "stream",
          "name": "stdout",
          "text": [
            "perro\n",
            "gato\n",
            "loro\n",
            "caballo\n",
            "llama\n"
          ]
        }
      ]
    },
    {
      "cell_type": "markdown",
      "source": [
        "## **Ejercicio 10)** Definiendo y evaluando funciones\n",
        "\n",
        "**a)** Implemente una función llamada `suma` que retorne la sume dos números. Testeela.\n",
        "\n",
        "**b)** Implemente una función llamada `opcional` que adopte dos parámetros de entrada, y que el segundo de ellos sea opcional con un valor por defecto igual a 1. La función debe retornar la resta de ambos números. Testeela.\n",
        "\n",
        "**c)** Implemente una función llamada `fact` que calcule y retorne el factorial de un número `n` si es que `n` es natural o zero. En caso contrario, que imprima el mensaje \"El número n no es un entero no negativo.\" y retorne `None`. Testeela."
      ],
      "metadata": {
        "id": "2iSXiPew9XOZ"
      }
    },
    {
      "cell_type": "code",
      "source": [
        "# 10.a)\n",
        "def suma(x,y):\n",
        "    return x+y\n",
        "suma(1,2)"
      ],
      "metadata": {
        "colab": {
          "base_uri": "https://localhost:8080/"
        },
        "id": "IWQiVNIk3i81",
        "outputId": "e02851d4-5515-4c96-fdd0-16e64f2f43b4"
      },
      "execution_count": null,
      "outputs": [
        {
          "output_type": "execute_result",
          "data": {
            "text/plain": [
              "3"
            ]
          },
          "metadata": {},
          "execution_count": 20
        }
      ]
    },
    {
      "cell_type": "code",
      "source": [
        "# 10.b)\n",
        "def opcional(x,y=1):\n",
        "    return x-y"
      ],
      "metadata": {
        "id": "azT9vtVa3oAa"
      },
      "execution_count": null,
      "outputs": []
    },
    {
      "cell_type": "code",
      "source": [
        "opcional(2,3)"
      ],
      "metadata": {
        "colab": {
          "base_uri": "https://localhost:8080/"
        },
        "id": "apVjZKHJ5hvb",
        "outputId": "3478722b-fe19-42d8-df66-f259094632e9"
      },
      "execution_count": null,
      "outputs": [
        {
          "output_type": "execute_result",
          "data": {
            "text/plain": [
              "-1"
            ]
          },
          "metadata": {},
          "execution_count": 8
        }
      ]
    },
    {
      "cell_type": "code",
      "source": [
        "opcional(2,y=3)"
      ],
      "metadata": {
        "colab": {
          "base_uri": "https://localhost:8080/"
        },
        "id": "t0_WzxgB5k-L",
        "outputId": "19db077a-883c-4a37-b322-25998c516b5e"
      },
      "execution_count": null,
      "outputs": [
        {
          "output_type": "execute_result",
          "data": {
            "text/plain": [
              "-1"
            ]
          },
          "metadata": {},
          "execution_count": 52
        }
      ]
    },
    {
      "cell_type": "code",
      "source": [
        "# 10.c)\n",
        "def fact(n):\n",
        "    if isinstance(n,int):\n",
        "        if n > 0:\n",
        "            return n*fact(n-1)\n",
        "        else:\n",
        "            return 1\n",
        "    else:\n",
        "        print(f'El número n={n} no es un entero no negativo.')\n",
        "        return None"
      ],
      "metadata": {
        "id": "CO5vx3VX3xZ5"
      },
      "execution_count": null,
      "outputs": []
    },
    {
      "cell_type": "code",
      "source": [
        "fact(5)"
      ],
      "metadata": {
        "colab": {
          "base_uri": "https://localhost:8080/"
        },
        "id": "1AHNaddT4UHg",
        "outputId": "dc6b82ae-fb5a-4be0-b337-d1ff49506396"
      },
      "execution_count": null,
      "outputs": [
        {
          "output_type": "execute_result",
          "data": {
            "text/plain": [
              "120"
            ]
          },
          "metadata": {},
          "execution_count": 13
        }
      ]
    },
    {
      "cell_type": "code",
      "source": [
        "fact(5.5)"
      ],
      "metadata": {
        "colab": {
          "base_uri": "https://localhost:8080/"
        },
        "id": "yQIe2wcR4VhI",
        "outputId": "f2f69100-2bad-4544-de02-ae764b4dd84f"
      },
      "execution_count": null,
      "outputs": [
        {
          "output_type": "stream",
          "name": "stdout",
          "text": [
            "El número n=5.5 no es un entero no negativo.\n"
          ]
        }
      ]
    },
    {
      "cell_type": "markdown",
      "source": [
        "## **Ejercicio 11)** Practicando con arrays\n",
        "\n",
        "**a)** Inicialize un array de enteros a partir de la lista `[1,2,3]`. Llamelo `b`.\n",
        "\n",
        "**b)** Inicialize un array 2-dimensional a partir de las listas anidadas `[[1,2,3],[4,5,6],[7,8,9]]`. Llamelo `a`.\n",
        "\n",
        "**c)** Acceda a la entrada de la fila $i=1$ y la columna $j=2$ del array `a`.\n",
        "\n",
        "**d)** Inicialice un array de 10 valores 0 en representacón flotante de 64 bits.\n",
        "\n",
        "**e)** Inicialice un array de 10 valores 3.14 en representacón flotante de 32 bits."
      ],
      "metadata": {
        "id": "Adc_7Ee29EpE"
      }
    },
    {
      "cell_type": "code",
      "source": [
        "# 11.a)\n",
        "b = np.array([1,2,3])\n",
        "b"
      ],
      "metadata": {
        "id": "FiR0OpNq05pa",
        "colab": {
          "base_uri": "https://localhost:8080/"
        },
        "outputId": "ec5e386b-213e-43e1-ab19-6a3727189644"
      },
      "execution_count": null,
      "outputs": [
        {
          "output_type": "execute_result",
          "data": {
            "text/plain": [
              "array([1, 2, 3])"
            ]
          },
          "metadata": {},
          "execution_count": 27
        }
      ]
    },
    {
      "cell_type": "code",
      "source": [
        "# 11.b)\n",
        "a = np.array([[1,2,3],[4,5,6],[7,8,9]])\n",
        "a"
      ],
      "metadata": {
        "colab": {
          "base_uri": "https://localhost:8080/"
        },
        "id": "GTMMQadt7HWD",
        "outputId": "7ce0a1fc-c7aa-4b2c-ac44-3870da9e5443"
      },
      "execution_count": null,
      "outputs": [
        {
          "output_type": "execute_result",
          "data": {
            "text/plain": [
              "array([[1, 2, 3],\n",
              "       [4, 5, 6],\n",
              "       [7, 8, 9]])"
            ]
          },
          "metadata": {},
          "execution_count": 28
        }
      ]
    },
    {
      "cell_type": "code",
      "source": [
        "# 11.c)\n",
        "i=1\n",
        "j=2\n",
        "a[i,j]"
      ],
      "metadata": {
        "colab": {
          "base_uri": "https://localhost:8080/"
        },
        "id": "J5FEzBO37eWB",
        "outputId": "bcf4b9c9-02a6-41c0-e7d7-9ddc468c7bc7"
      },
      "execution_count": null,
      "outputs": [
        {
          "output_type": "execute_result",
          "data": {
            "text/plain": [
              "6"
            ]
          },
          "metadata": {},
          "execution_count": 30
        }
      ]
    },
    {
      "cell_type": "code",
      "source": [
        "# 11.d)\n",
        "np.zeros(10,dtype=np.float64)"
      ],
      "metadata": {
        "colab": {
          "base_uri": "https://localhost:8080/"
        },
        "id": "jKPtYzut75k_",
        "outputId": "8b73ea4d-f800-4d4d-e2e2-e136c6c8f804"
      },
      "execution_count": null,
      "outputs": [
        {
          "output_type": "execute_result",
          "data": {
            "text/plain": [
              "array([0., 0., 0., 0., 0., 0., 0., 0., 0., 0.])"
            ]
          },
          "metadata": {},
          "execution_count": 32
        }
      ]
    },
    {
      "cell_type": "code",
      "source": [
        "# 11.e)\n",
        "3.14*np.ones(10,dtype=np.float32)"
      ],
      "metadata": {
        "colab": {
          "base_uri": "https://localhost:8080/"
        },
        "id": "XRRTVxnP9O5W",
        "outputId": "6003d7c1-7486-4680-9118-26cfc921c5a8"
      },
      "execution_count": null,
      "outputs": [
        {
          "output_type": "execute_result",
          "data": {
            "text/plain": [
              "array([3.14, 3.14, 3.14, 3.14, 3.14, 3.14, 3.14, 3.14, 3.14, 3.14],\n",
              "      dtype=float32)"
            ]
          },
          "metadata": {},
          "execution_count": 14
        }
      ]
    },
    {
      "cell_type": "markdown",
      "source": [
        "## **Ejercicio 12)** Practicando con clases\n",
        "\n",
        "**a)** Defina una clase llamada `MiClase` que posea una variable miembro llamada `nombre`. El inicializador `__init__()` de la clase debe poseer un argumento opcional, que debe usarse para inicializar el valor de la variable miembro `nombre` con el valor por defecto `\"mi clase\"`.\n",
        "\n",
        "**b)** Agregue a la clase la función miembro `__str__()` que retorne el valor de la variable miembro `nombre`.\n",
        "\n",
        "**c)** Cree un objeto de la clase en cuestión y de nombre `mi_objeto`, y testee la función `__str__()` evaluando la expresión `str(mi_objeto)`.\n",
        "\n",
        "**d)** Agregue a la clase la función `__len__()` que retorne el largo de la variable miembro `nombre`. Testee dicha función.\n",
        "\n",
        "**e)** Agregue a la clase una función miembro llamada `cambiar_nombre` que sirva para cambiar el valor de la variable miembro `nombre`. Testee dicha función."
      ],
      "metadata": {
        "id": "bmHmMiAboqzs"
      }
    },
    {
      "cell_type": "code",
      "source": [
        "# 11.a) y b)\n",
        "class MiClase:\n",
        "    def __init__(self,nombre=\"mi clase\"):\n",
        "        self.nombre = nombre\n",
        "    def __str__(self):\n",
        "        return self.nombre\n",
        "    def __len__(self):\n",
        "        return len(self.nombre)\n",
        "    def cambiar_nombre(self,nombre):\n",
        "        self.nombre = nombre"
      ],
      "metadata": {
        "id": "P9PC2JGvqWSU"
      },
      "execution_count": null,
      "outputs": []
    },
    {
      "cell_type": "code",
      "source": [
        "# 11.c)\n",
        "mi_objeto = MiClase(nombre=\"Juan\")"
      ],
      "metadata": {
        "id": "u5VBuVbR5r7E"
      },
      "execution_count": null,
      "outputs": []
    },
    {
      "cell_type": "code",
      "source": [
        "mi_objeto"
      ],
      "metadata": {
        "colab": {
          "base_uri": "https://localhost:8080/"
        },
        "id": "WxJTqz-B5zm_",
        "outputId": "c3505044-ea15-4191-e75b-576bf26944c4"
      },
      "execution_count": null,
      "outputs": [
        {
          "output_type": "execute_result",
          "data": {
            "text/plain": [
              "<__main__.MiClase at 0x7f0508659810>"
            ]
          },
          "metadata": {},
          "execution_count": 77
        }
      ]
    },
    {
      "cell_type": "code",
      "source": [
        "str(mi_objeto)"
      ],
      "metadata": {
        "colab": {
          "base_uri": "https://localhost:8080/",
          "height": 36
        },
        "id": "DuuNKhlI52M1",
        "outputId": "73f98a92-4a4a-448d-eb8e-b711394df876"
      },
      "execution_count": null,
      "outputs": [
        {
          "output_type": "execute_result",
          "data": {
            "text/plain": [
              "'Juan'"
            ],
            "application/vnd.google.colaboratory.intrinsic+json": {
              "type": "string"
            }
          },
          "metadata": {},
          "execution_count": 78
        }
      ]
    },
    {
      "cell_type": "code",
      "source": [
        "# 11.d)\n",
        "len(mi_objeto)"
      ],
      "metadata": {
        "colab": {
          "base_uri": "https://localhost:8080/"
        },
        "id": "zFTcR8a96Qua",
        "outputId": "2e80cb99-d3ac-4fce-9930-aad3a511dac7"
      },
      "execution_count": null,
      "outputs": [
        {
          "output_type": "execute_result",
          "data": {
            "text/plain": [
              "4"
            ]
          },
          "metadata": {},
          "execution_count": 79
        }
      ]
    },
    {
      "cell_type": "code",
      "source": [
        "# 11.e)\n",
        "mi_objeto.cambiar_nombre(\"Pedro\")"
      ],
      "metadata": {
        "id": "msH95RbX52TJ"
      },
      "execution_count": null,
      "outputs": []
    },
    {
      "cell_type": "code",
      "source": [
        "str(mi_objeto)"
      ],
      "metadata": {
        "colab": {
          "base_uri": "https://localhost:8080/",
          "height": 36
        },
        "id": "rU13aizv6IfS",
        "outputId": "fc5b6093-f24a-445d-e2ab-7587cf5f13aa"
      },
      "execution_count": null,
      "outputs": [
        {
          "output_type": "execute_result",
          "data": {
            "text/plain": [
              "'Pedro'"
            ],
            "application/vnd.google.colaboratory.intrinsic+json": {
              "type": "string"
            }
          },
          "metadata": {},
          "execution_count": 81
        }
      ]
    },
    {
      "cell_type": "markdown",
      "source": [
        "## **Ejercicio 13)** Graficando\n",
        "\n",
        "**a)** Utilice `np.linspace` para generar un array de 100 valores equidistantes entre 0 y 5. Almacene el array en una variable `valores_x`.\n",
        "\n",
        "**b)** Calcule el array llamado `valores_y1` de valores `np.cos(x)` para cada `x` en `valores_x`.\n",
        "\n",
        "**c)** Calcule el array llamado `valores_y2` de valores `np.sin(x)` para cada `x` en `valores_x`.\n",
        "\n",
        "**d)** Use estos arrays para graficar, con curvas, las funciones $\\cos(x)$ y $\\sin(x)$ en el rango $[0,5]$. Use una línea contínua para el coseno y una punteada para el seno.\n",
        "\n",
        "**e)** Acomode el gráfico: agregue etiquetas a los ejes y a las curvas. Modifique los límites del área graficada para que se vean correctamente las curvas. Agregue un título a la figura."
      ],
      "metadata": {
        "id": "W4HxPu2-9Q68"
      }
    },
    {
      "cell_type": "code",
      "source": [
        "# 13.a)\n",
        "plt.xlabel('$x$')\n",
        "plt.ylabel('$y(x)$')\n",
        "plt.xlim(-0.1,5.1)\n",
        "#plt.ylim(-0.1,1.1)\n",
        "valores_x=np.linspace(0,5,100)\n",
        "valores_y1=np.cos(valores_x)\n",
        "valores_y2=np.sin(valores_x)\n",
        "plt.plot(valores_x,valores_y1,label=\"$\\cos(x)$\",linestyle='-',c='red')\n",
        "plt.plot(valores_x,valores_y2,label=\"$\\sin(x)$\",linestyle='--',c='green')\n",
        "plt.title('Mi primer plot')\n",
        "plt.legend()"
      ],
      "metadata": {
        "id": "uasToO-NrDJH",
        "colab": {
          "base_uri": "https://localhost:8080/",
          "height": 313
        },
        "outputId": "24dc7657-0bf7-4cf4-d110-3a1f4fbe476d"
      },
      "execution_count": null,
      "outputs": [
        {
          "output_type": "execute_result",
          "data": {
            "text/plain": [
              "<matplotlib.legend.Legend at 0x7fde2c183610>"
            ]
          },
          "metadata": {},
          "execution_count": 36
        },
        {
          "output_type": "display_data",
          "data": {
            "text/plain": [
              "<Figure size 432x288 with 1 Axes>"
            ],
            "image/png": "[encoded data removed]"
          },
          "metadata": {
            "needs_background": "light"
          }
        }
      ]
    },
    {
      "cell_type": "code",
      "source": [],
      "metadata": {
        "id": "fl4zK4qwAo7e"
      },
      "execution_count": null,
      "outputs": []
    }
  ]
}