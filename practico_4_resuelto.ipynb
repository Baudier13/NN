{
  "nbformat": 4,
  "nbformat_minor": 0,
  "metadata": {
    "colab": {
      "provenance": [],
      "collapsed_sections": [],
      "include_colab_link": true
    },
    "kernelspec": {
      "name": "python3",
      "display_name": "Python 3"
    },
    "language_info": {
      "name": "python"
    }
  },
  "cells": [
    {
      "cell_type": "markdown",
      "metadata": {
        "id": "view-in-github",
        "colab_type": "text"
      },
      "source": [
        "<a href=\"https://colab.research.google.com/github/Baudier13/NN/blob/main/practico_4_resuelto.ipynb\" target=\"_parent\"><img src=\"https://colab.research.google.com/assets/colab-badge.svg\" alt=\"Open In Colab\"/></a>"
      ]
    },
    {
      "cell_type": "markdown",
      "source": [
        "# Integración numérica de ODEs\n",
        "\n",
        "En este práctico introduciremos los métodos de **Euler** y de **RK4** (Runge-Kutta de orden 4) de integración numérica de Ecuaciones Diferenciales Ordinarias (ODEs).\n",
        "\n",
        "## **Ejercicio 1)** Importando librerías\n",
        "\n",
        "Importe las librerías `numpy` para operar con arrays, `scipy` para utilizar rutinas de algebra lineal y `matplotlib.pyplot` para graficar."
      ],
      "metadata": {
        "id": "NRYEofSD0xoF"
      }
    },
    {
      "cell_type": "code",
      "source": [
        "import numpy as np\n",
        "import scipy as sp\n",
        "import scipy.linalg as linalg\n",
        "import matplotlib.pyplot as plt"
      ],
      "metadata": {
        "id": "I8N3D_nU1_oT"
      },
      "execution_count": null,
      "outputs": []
    },
    {
      "cell_type": "markdown",
      "source": [
        "## **Ejercicio 2)** Integrador de **Euler**\n",
        "\n",
        "### Ecuaciones Diferenciales Ordinarias (ODEs)\n",
        "\n",
        "El comportamiento de un sistema dinámico se suele describir en términos de trayectorias. Una trayectoria es una función del tiempo \n",
        "\n",
        "\\begin{eqnarray}\n",
        "x:\\mathbb{R}\\ni t\\to x(t)\\in X\n",
        "\\end{eqnarray}\n",
        "\n",
        "en donde $x(t)\\in X$ representa el estado que exhibe el sistema al tiempo $t$ y $X$ es un espacio vectorial.\n",
        "Típicamente, $X=\\mathbb{R}^n$.\n",
        "\n",
        "Las trayectorias de un sistema dinámico suelen ser soluciones de una ecuación diferencial.\n",
        "Nosotros, nos enfocaremos en sistemas dinámicos caracterizados por Ecuaciones Diferenciales Ordinarias (ODEs).\n",
        "\n",
        "Decimos que una trayectoria $x:t\\to x(t)$ es su solución de una ODE caracterizada por una función \n",
        "\n",
        "\\begin{eqnarray}\n",
        "f: X,\\mathbb{R} \\ni x,t \\to f(x,t) \\in X\n",
        "\\end{eqnarray}\n",
        "\n",
        "cuando\n",
        "\n",
        "\\begin{eqnarray}\n",
        "x'(t) = f(x(t),t)\n",
        "\\end{eqnarray}\n",
        "\n",
        "para todo tiempo $t$ perteneciente a algún intervalo de tiempo $ T\\subseteq \\mathbb{R}$. Aquí, $x'(t)$ es la derivada con respecto al tiempo $t$ de la función $x:t\\to x(t)$ que representa la trayectoria.\n",
        "\n",
        "En una ODE, una trayectoria particular $x$ queda unívocamente determinada por el valor de $x(t)$ en algún tiempo específico. Típicamente, se considera una *condición incial* $x(a)$, y nos interesa computar el valor de $x(t)$ para todo $t\\in [a,b]$, i.e. conocer la trayectoria para todo tiempo entre un tiempo incial $a$ y un tiempo final $b$.\n",
        "\n",
        "### Métodos de integración numérica de ODEs\n",
        "\n",
        "Los métodos de integración de sistemas de Ecuaciones Diferenciales Ordinarias (ODEs) consisten, básicamente, de dos partes.\n",
        "\n",
        "* Un método de extrapolación que permita aproximar **un paso de integración**, i.e. aproximar $x(t+h)$ a partir de conocer $t$, $x(t)$ y $f$ para valores de $h\\in \\mathbb{R}$ suficientementes pequeños.\n",
        "\n",
        "* Un **integrador** de sucesivas aproximaciones $w_0$, $w_1$, ..., $w_k$ de los valores $x(a)$, $x(a+h)$, $x(a+2h)$, ..., $x(a+kh)=x(b)$ computadas secuencialmente a partir de un valor incial $w_0=x(a)$.\n",
        "\n",
        "Existen varios métodos de aproximar un paso de integración.\n",
        "En cambio, el integrador suele ser común a los diferentes métodos.\n",
        "\n",
        "### Método de Euler\n",
        "\n",
        "El método de Euler es, quizás, el más simple que existe.\n",
        "Esencialmente, consiste en aproximar de $x(t+h)$ utilizando $f(x,t)$ para calcular la extrapolación lineal \n",
        "\n",
        "\\begin{eqnarray}\n",
        "x(t+h) \n",
        "&=& \n",
        "x(t) + x'(t)h + x''(t)\\frac{h^2}{2} + ...\n",
        "\\\\\n",
        "&\\approx & \n",
        "x(t) + x'(t)h\n",
        "\\\\\n",
        "&=&\n",
        "x(t) + f(x(t),t)h\n",
        "\\end{eqnarray}\n",
        "\n",
        "para un valor de $h$ que sea relativamente pequeño.\n",
        "\n",
        "### Integrador\n",
        "\n",
        "Si $t_0,t_1,...,t_n$ son valores equiespaciados en el intervalo de tiempo $[a,b]$, entonces $t_j=a+jh$ para $j\\in \\{0,1,2,...,n\\}$ con $t_n=b$ y $h=(b-a)/n$.\n",
        "Luego, utilizando el método $m$ proveido por el usuario, se computan sucesivamente las aproximaciones\n",
        "\n",
        "\\begin{eqnarray}\n",
        "w_{j} &=& m(f,w_{j-1},t_{j-1},h)\n",
        "\\end{eqnarray}\n",
        "\n",
        "de los valores $x(t+ih)$ para $j=1,...,n$, partiendo de la condición inicial $w_0=x(t_0)=x(a)$.\n",
        "\n",
        "Por ejemplo, si el método proveido es el de Euler, las aproximaciones adoptan la forma\n",
        "\n",
        "\\begin{eqnarray}\n",
        "w_{j} &=& w_{j-1} + f(w_{j-1},t_{j-1})h\n",
        "\\end{eqnarray}\n",
        "\n",
        "**a)** Implemente una función de Python llamada `euler` que compute un paso de integración según el método de **Euler**. \n",
        "Dicha función debe tomar como argumentos:\n",
        "\n",
        "* La función $f:\\mathbb{R}^n,\\mathbb{R} \\to \\mathbb{R}^n$ que caracterize el lado derecho de la ODE.\n",
        "\n",
        "* Un valor de $x \\in \\mathbb{R}^n$.\n",
        "\n",
        "* Un valor de $t \\in \\mathbb{R}$.\n",
        "\n",
        "* El paso de integración $h \\in \\mathbb{R}$.\n",
        "\n",
        "* Un vector de parámetros $p \\in \\mathbb{R}^m$.\n",
        "\n",
        "La función  `euler` debe retornar el lado derecho de la aproximación $x(t+h)\\approx x(t) + f(x(t),t)h$.\n",
        "\n",
        "**b)** Implemente una función de Python llamada `integrador_ode` que integre el cómputo de sucesivos pasos de integración.\n",
        "Dicha función debe tomar como argumentos:\n",
        "\n",
        "* Una función `m` que aproxime el paso de integración (ej. `euler`).\n",
        "\n",
        "* La función $f:\\mathbb{R}^n,\\mathbb{R} \\to \\mathbb{R}^n$.\n",
        "\n",
        "* La condición inicial $x_0=x(a)\\in \\mathbb{R}^n$.\n",
        "\n",
        "* El tiempo inciial $a\\in \\mathbb{R}$.\n",
        "\n",
        "* El tiempo final $b\\in \\mathbb{R}$.\n",
        "\n",
        "* El número $k\\in \\mathbb{N}$ de pasos de integración.\n",
        "\n",
        "* Un vector de parámetros $p \\in \\mathbb{R}^m$.\n",
        "\n",
        "* Y, opcionalmente, una *función condicionante* \n",
        "\\begin{eqnarray}\n",
        "c:\\mathbb{R}^n,\\mathbb{R},\\mathbb{R}^m\\ni x(t),t,p \\to c(x(t),t,p)\\in \\mathbb{R}^n\n",
        "\\end{eqnarray}\n",
        "que permita intervenir en el cómputo de la trayectoria cuando se desee.\n",
        "Veremos más adelante para que sirve esta función condicionante."
      ],
      "metadata": {
        "id": "NcaGEHAd10sb"
      }
    },
    {
      "cell_type": "code",
      "source": [
        "# 2.a)\n",
        "def euler(f,x,t,h,p):\n",
        "    \"\"\"\n",
        "    Calcula un paso de integración del método de Euler.\n",
        "    \n",
        "    Argumentos de entrada:\n",
        "    \n",
        "        f : R^n,R -> R^n\n",
        "        x = x(t) : R^n\n",
        "        t = tiempo : R\n",
        "        h = paso de tiempo : R\n",
        "        p = parametros : R^q        \n",
        "        \n",
        "    Retorna aproximacion numérica de\n",
        "    \n",
        "        x(t+h) : R^n\n",
        "\n",
        "    según el método de Euler.\n",
        "\n",
        "    # Ejemplos:\n",
        "    \"\"\"    \n",
        "    return x+h*f(x,t,p)"
      ],
      "metadata": {
        "id": "ffotpn_Xgy85"
      },
      "execution_count": null,
      "outputs": []
    },
    {
      "cell_type": "code",
      "source": [
        "# 2.b)\n",
        "def integrador_ode(m,f,xa,a,b,k,p,c=lambda x,t,p:x):\n",
        "    \"\"\"\n",
        "    Integra numéricamente la ODE\n",
        "    \n",
        "        dx/dt = f(x,t)\n",
        "        \n",
        "    sobre el intervalo t:[a,b] usando k pasos de integración y el método m, bajo condicion inicial x(a)=x0.\n",
        "    No es necesario que a<b.\n",
        "    \n",
        "    Argumentos de entrada:\n",
        "    \n",
        "        m = metodo de integracion (ej. euler, rk2, etc.)\n",
        "        f : R^n -> R^n\n",
        "        xa = condicion inicial : R\n",
        "        a = tiempo inicial : R\n",
        "        b = tiempo final : R\n",
        "        k = num. pasos de integracion : N\n",
        "        p = parametros : R^q\n",
        "        c = función condicionante : R^n,R,p -> R^n\n",
        "    \n",
        "    Retorna:\n",
        "    \n",
        "        t : R^{k+1} , t_j = a+j*h para j=0,1,...,k\n",
        "        w : R^{n,k+1} , w_ij = x_i(t_j) para i=0,1,...,n-1 y j=0,1,...,k\n",
        "        \n",
        "    donde a+k*dt = b.\n",
        "    \"\"\"  \n",
        "    assert k>0\n",
        "    n = len(xa)\n",
        "    h = (b-a)/k\n",
        "    w = np.zeros((n,k+1)) # Produce un array con forma y tipo especificada con los parametros, \n",
        "                          # lleno de ceros. la forma puede ser espcificada con un entero o tupla (n,k+1)    \n",
        "    t = np.zeros(k+1)\n",
        "    w[:,0] = xa           # actualiza la posicion inicial (columna de indice 0) de las variables con los valores \n",
        "                          # de las condiciones iniciales\n",
        "    t[0] = a              # actualiza la posicion cero con el valor del tiempo inicial\n",
        "    \n",
        "    for j in range(k):    #Aca se produce la iteración en j \n",
        "        \n",
        "        t[j+1] = t[j] + h                # iteracion tiempo \n",
        "        w[:,j+1] = m(f,w[:,j],t[j],h,p)  # iteracion de w \n",
        "        w[:,j+1] = c(w[:,j+1],t[j+1],p)  # condicion sobre w\n",
        "\n",
        "    return t,w"
      ],
      "metadata": {
        "id": "VTRxmrRP18ZV"
      },
      "execution_count": null,
      "outputs": []
    },
    {
      "cell_type": "markdown",
      "source": [
        "## **Ejercicio 3)** Crecimiento exponencial\n",
        "\n",
        "Considere la ODE\n",
        "\n",
        "\\begin{eqnarray}\n",
        "x'(t)\n",
        "&=&\n",
        "qx(t)\n",
        "\\end{eqnarray}\n",
        "\n",
        "donde $q$ es una constante positiva.\n",
        "\n",
        "**a)** Utilice el integrador ODE implementado en el ejercicio 2) para integrar la ODE arriba definida, a partir de la condición inicial $x(t=0)=1$ hasta el tiempo $t=3$, y para $q=1$. Utilice el paso de integración $h=0.1$.\n",
        "\n",
        "**b)** Grafique la solución numérica computada en el inciso anterior. Incluya en el gráfico la solución exacta que se deriva a continuación\n",
        "\n",
        "\\begin{eqnarray}\n",
        "x'(t)\n",
        "&=&\n",
        "qx(t)\n",
        "\\\\\n",
        "\\frac{dx}{dt}\n",
        "&=&\n",
        "qx\n",
        "\\\\\n",
        "\\frac{dx}{x}\n",
        "&=&\n",
        "qdt\n",
        "\\\\\n",
        "\\int_{x(0)}^{x(\\tau)}\n",
        "\\frac{dx}{x}\n",
        "&=&\n",
        "q\n",
        "\\int_0^{\\tau} dt\n",
        "\\\\\n",
        "\\ln(x(\\tau))-\\ln(x(0))\n",
        "&=&\n",
        "q\\tau\n",
        "\\\\\n",
        "\\ln(x(t))\n",
        "&=&\n",
        "qt\n",
        "+\n",
        "\\ln(x(0))\n",
        "\\\\\n",
        "x(t)\n",
        "&=&\n",
        "e^{\n",
        "qt\n",
        "+\n",
        "\\ln(x(0))\n",
        "}\n",
        "\\\\\n",
        "x(t)\n",
        "&=&\n",
        "e^{\\ln(x(0))}\n",
        "e^{qt}\n",
        "\\\\\n",
        "x(t)\n",
        "&=&\n",
        "x(0)\n",
        "e^{qt}\n",
        "\\end{eqnarray}\n",
        "\n",
        "**c)** Repita para $h=0.01$."
      ],
      "metadata": {
        "id": "yBKvIBvmr3Wb"
      }
    },
    {
      "cell_type": "code",
      "source": [
        "#3.a)\n",
        "def f(x,t,p):\n",
        "    \"\"\"\n",
        "    q = p[0]\n",
        "    \"\"\"\n",
        "    return p[0]*np.array(x[0])"
      ],
      "metadata": {
        "id": "JDdjPQWDu3JE"
      },
      "execution_count": null,
      "outputs": []
    },
    {
      "cell_type": "code",
      "source": [
        "a=0\n",
        "b=3\n",
        "h=0.1\n",
        "k = int((b-a)/h)#+1\n",
        "xa = np.array([1]) # x(a)=x(0)=1\n",
        "p = np.array([1])"
      ],
      "metadata": {
        "id": "ZY5hIjHcvK-C"
      },
      "execution_count": null,
      "outputs": []
    },
    {
      "cell_type": "code",
      "source": [
        "t,w = integrador_ode(euler,f,xa,a,b,k,p)"
      ],
      "metadata": {
        "id": "9hUz7QT0vdmM"
      },
      "execution_count": null,
      "outputs": []
    },
    {
      "cell_type": "code",
      "source": [
        "# 3.b)\n",
        "plt.xlabel('$t$')\n",
        "plt.ylabel('$x(t)$')\n",
        "#plt.xlim(-0.1,5.1)\n",
        "#plt.ylim(-0.1,1.1)\n",
        "plt.scatter(t,w[0,:],label=\"numérica\",linestyle='-',c='red')\n",
        "plt.plot(t,np.exp(p[0]*t),label=\"exacta\",linestyle='-',c='blue')\n",
        "plt.title('Crecimiento exponencial, Euler, $h=0.1$')\n",
        "plt.legend()"
      ],
      "metadata": {
        "colab": {
          "base_uri": "https://localhost:8080/",
          "height": 316
        },
        "id": "s02I135MvfgV",
        "outputId": "2d331e3c-d292-431a-b55b-37fe3880ba05"
      },
      "execution_count": null,
      "outputs": [
        {
          "output_type": "execute_result",
          "data": {
            "text/plain": [
              "<matplotlib.legend.Legend at 0x7f95fbaffc90>"
            ]
          },
          "metadata": {},
          "execution_count": 92
        },
        {
          "output_type": "display_data",
          "data": {
            "text/plain": [
              "<Figure size 432x288 with 1 Axes>"
            ],
            "image/png": "[encoded data removed]"
          },
          "metadata": {
            "needs_background": "light"
          }
        }
      ]
    },
    {
      "cell_type": "code",
      "source": [
        "# 3.c)\n",
        "h=0.01\n",
        "k = int((b-a)/h)+1"
      ],
      "metadata": {
        "id": "RBAW42EkwJeZ"
      },
      "execution_count": null,
      "outputs": []
    },
    {
      "cell_type": "code",
      "source": [
        "t,w = integrador_ode(euler,f,xa,a,b,k,p)"
      ],
      "metadata": {
        "id": "4mW5viHiwPkl"
      },
      "execution_count": null,
      "outputs": []
    },
    {
      "cell_type": "code",
      "source": [
        "# 3.b)\n",
        "plt.xlabel('$t$')\n",
        "plt.ylabel('$x(t)$')\n",
        "#plt.xlim(-0.1,5.1)\n",
        "#plt.ylim(-0.1,1.1)\n",
        "plt.scatter(t,w[0,:],label=\"numérica\",linestyle='-',c='red')\n",
        "plt.plot(t,np.exp(p[0]*t),label=\"exacta\",linestyle='-',c='blue')\n",
        "plt.title('Crecimiento exponencial, Euler, $h=0.01$')\n",
        "plt.legend()"
      ],
      "metadata": {
        "colab": {
          "base_uri": "https://localhost:8080/",
          "height": 316
        },
        "id": "5BEE5Y_GwTc5",
        "outputId": "ee4a2a5e-7709-41f7-8737-c2658feca760"
      },
      "execution_count": null,
      "outputs": [
        {
          "output_type": "execute_result",
          "data": {
            "text/plain": [
              "<matplotlib.legend.Legend at 0x7f95f4564ed0>"
            ]
          },
          "metadata": {},
          "execution_count": 140
        },
        {
          "output_type": "display_data",
          "data": {
            "text/plain": [
              "<Figure size 432x288 with 1 Axes>"
            ],
            "image/png": "[encoded data removed]"
          },
          "metadata": {
            "needs_background": "light"
          }
        }
      ]
    },
    {
      "cell_type": "markdown",
      "source": [
        "## **Ejercicio 4)** Decaimiento exponencial\n",
        "\n",
        "Considere la ODE\n",
        "\n",
        "\\begin{eqnarray}\n",
        "x'(t)\n",
        "&=&\n",
        "-qx(t)+r\n",
        "\\end{eqnarray}\n",
        "\n",
        "donde $q$ es una constante positiva y $r$ es una constante arbitraria.\n",
        "\n",
        "**a)** Use el integrador ODE con el método de Euler para encontrar una aproximación numérica de la ODE arriba especificada.\n",
        "Considere la condición inicial $x(0)=3$ e integre hasta $t=3$.\n",
        "Utilice el paso de integración $h=0.1$ y los valores de los parámetros $q=2$ y $r=3$.\n",
        "\n",
        "**b)** Grafique la trayectoria computada en el inciso anterior y, con el fin de comparar, grafique simultaneamente la correspondiente solución analítica derivada a continuación\n",
        "\n",
        "\\begin{eqnarray}\n",
        "\\frac{dx}{dt}\n",
        "&=&\n",
        "-qx+r\n",
        "\\\\\n",
        "-\\frac{1}{q}\\frac{du}{dt}\n",
        "&=&\n",
        "u,\n",
        "\\;\\;\\;\\;\n",
        "\\;\\;\\;\\;\n",
        "\\;\\;\\;\\;\n",
        "u=-qx+r\n",
        "\\\\\n",
        "\\frac{du}{dt}\n",
        "&=&\n",
        "-qu\n",
        "\\\\\n",
        "u(t)\n",
        "&=&\n",
        "u(0)e^{-qt}\n",
        "\\\\\n",
        "-qx(t)+r\n",
        "&=&\n",
        "(-qx(0)+r)e^{-qt}\n",
        "\\\\\n",
        "x(t)\n",
        "&=&\n",
        "(x(0)-r/q)e^{-qt}+r/q\n",
        "\\end{eqnarray}\n",
        "\n",
        "**c)** Repita para $h=0.01$.\n",
        "\n",
        "**d)** Repita para $x(0)=1$."
      ],
      "metadata": {
        "id": "TGYPvZmyzp7w"
      }
    },
    {
      "cell_type": "code",
      "source": [
        "# 4.a)\n",
        "def f(x,t,p):\n",
        "    \"\"\"\n",
        "    q = p[0]\n",
        "    r = p[1]\n",
        "    \"\"\"\n",
        "    return -p[0]*np.array(x[0])+p[1]"
      ],
      "metadata": {
        "id": "jd8cvsQ49B-N"
      },
      "execution_count": null,
      "outputs": []
    },
    {
      "cell_type": "code",
      "source": [
        "a=0\n",
        "b=3\n",
        "h=0.1\n",
        "k = int((b-a)/h)+1\n",
        "xa = np.array([3])\n",
        "p = np.array([2,3])"
      ],
      "metadata": {
        "id": "PX89o2Mo-I6G"
      },
      "execution_count": null,
      "outputs": []
    },
    {
      "cell_type": "code",
      "source": [
        "t,w = integrador_ode(euler,f,xa,a,b,k,p)"
      ],
      "metadata": {
        "id": "NCGvHXLw-LXg"
      },
      "execution_count": null,
      "outputs": []
    },
    {
      "cell_type": "code",
      "source": [
        "# 4.b)\n",
        "plt.xlabel('$t$')\n",
        "plt.ylabel('$x(t)$')\n",
        "#plt.xlim(-0.1,5.1)\n",
        "plt.ylim(1.48,1.53)\n",
        "plt.scatter(t,w[0,:],label=\"numérica\",linestyle='-',c='red')\n",
        "plt.plot(t,(xa-p[1]/p[0])*np.exp(-p[0]*t)+p[1]/p[0],label=\"exacta\",linestyle='-',c='blue')\n",
        "plt.title('Decaimiento exponencial, Euler, $h=0.1$')\n",
        "plt.legend()"
      ],
      "metadata": {
        "colab": {
          "base_uri": "https://localhost:8080/",
          "height": 316
        },
        "id": "F-RAlS3Y-Svr",
        "outputId": "9637f30b-b0fa-435e-921f-6f308771a3c0"
      },
      "execution_count": null,
      "outputs": [
        {
          "output_type": "execute_result",
          "data": {
            "text/plain": [
              "<matplotlib.legend.Legend at 0x7f95f40a9d10>"
            ]
          },
          "metadata": {},
          "execution_count": 161
        },
        {
          "output_type": "display_data",
          "data": {
            "text/plain": [
              "<Figure size 432x288 with 1 Axes>"
            ],
            "image/png": "[encoded data removed]"
          },
          "metadata": {
            "needs_background": "light"
          }
        }
      ]
    },
    {
      "cell_type": "code",
      "source": [
        "# 4.c)\n",
        "h=0.01\n",
        "k = int((b-a)/h)#+1"
      ],
      "metadata": {
        "id": "c8CbxG6v-ytr"
      },
      "execution_count": null,
      "outputs": []
    },
    {
      "cell_type": "code",
      "source": [
        "t,w = integrador_ode(euler,f,xa,a,b,k,p)"
      ],
      "metadata": {
        "id": "Dc1jfjKA-6Ax"
      },
      "execution_count": null,
      "outputs": []
    },
    {
      "cell_type": "code",
      "source": [
        "plt.xlabel('$t$')\n",
        "plt.ylabel('$x(t)$')\n",
        "#plt.xlim(-0.1,5.1)\n",
        "#plt.ylim(-0.1,1.1)\n",
        "plt.scatter(t,w[0,:],label=\"numérica\",linestyle='-',c='red')\n",
        "plt.plot(t,(xa-p[1]/p[0])*np.exp(-p[0]*t)+p[1]/p[0],label=\"exacta\",linestyle='-',c='blue')\n",
        "plt.title('Decaimiento exponencial, Euler, $h=0.01$')\n",
        "plt.legend()"
      ],
      "metadata": {
        "colab": {
          "base_uri": "https://localhost:8080/",
          "height": 316
        },
        "id": "M75C9FPu-8RX",
        "outputId": "8f3f9ec3-0e8b-4e54-8099-86b5eaafb2d9"
      },
      "execution_count": null,
      "outputs": [
        {
          "output_type": "execute_result",
          "data": {
            "text/plain": [
              "<matplotlib.legend.Legend at 0x7f95f43f5a10>"
            ]
          },
          "metadata": {},
          "execution_count": 148
        },
        {
          "output_type": "display_data",
          "data": {
            "text/plain": [
              "<Figure size 432x288 with 1 Axes>"
            ],
            "image/png": "[encoded data removed]"
          },
          "metadata": {
            "needs_background": "light"
          }
        }
      ]
    },
    {
      "cell_type": "code",
      "source": [
        "# 4.d)\n",
        "a=0\n",
        "b=3\n",
        "h=0.01\n",
        "k = int((b-a)/h)#+1\n",
        "xa = np.array([1])\n",
        "p = np.array([2,3])"
      ],
      "metadata": {
        "id": "PdMgD-Pg_IbP"
      },
      "execution_count": null,
      "outputs": []
    },
    {
      "cell_type": "code",
      "source": [
        "t,w = integrador_ode(euler,f,xa,a,b,k,p)"
      ],
      "metadata": {
        "id": "hiZhDsUe_M-7"
      },
      "execution_count": null,
      "outputs": []
    },
    {
      "cell_type": "code",
      "source": [
        "plt.xlabel('$t$')\n",
        "plt.ylabel('$x(t)$')\n",
        "#plt.xlim(-0.1,5.1)\n",
        "#plt.ylim(-0.1,1.1)\n",
        "plt.scatter(t,w[0,:],label=\"numérica\",linestyle='-',c='red')\n",
        "plt.plot(t,(xa-p[1]/p[0])*np.exp(-p[0]*t)+p[1]/p[0],label=\"exacta\",linestyle='-',c='blue')\n",
        "plt.title('Decaimiento exponencial, Euler, $h=0.01$')\n",
        "plt.legend()"
      ],
      "metadata": {
        "id": "S0wueqZi_Ozr",
        "outputId": "f4933230-d8af-43ef-8ccd-108c850f8838",
        "colab": {
          "base_uri": "https://localhost:8080/",
          "height": 316
        }
      },
      "execution_count": null,
      "outputs": [
        {
          "output_type": "execute_result",
          "data": {
            "text/plain": [
              "<matplotlib.legend.Legend at 0x7f95f43a3390>"
            ]
          },
          "metadata": {},
          "execution_count": 151
        },
        {
          "output_type": "display_data",
          "data": {
            "text/plain": [
              "<Figure size 432x288 with 1 Axes>"
            ],
            "image/png": "[encoded data removed]"
          },
          "metadata": {
            "needs_background": "light"
          }
        }
      ]
    },
    {
      "cell_type": "markdown",
      "source": [
        "## **Ejercicio 5)** Ecuación Logística\n",
        "\n",
        "Considere la ODE\n",
        "\n",
        "\\begin{eqnarray}\n",
        "x'(t)\n",
        "&=&\n",
        "rx(t)(1-x/K)\n",
        "\\end{eqnarray}\n",
        "\n",
        "**a)** Integre numéricamente la anterior ODE utilizando el método de Euler, la condición inicial $x(0)=0.1$, hasta $t=5$, utilizando un paso de integración $h=0.1$, una tasa de reproducción $r=1$ y una capacidad de carga $K=1$.\n",
        "\n",
        "**b)** Grafique la solución computada en el inciso anterior, comparandola con la solución analítica que se deriva a continuación\n",
        "\n",
        "\\begin{eqnarray}\n",
        "\\frac{dx}{dt}\n",
        "&=&\n",
        "rx(1-x/K)\n",
        "\\\\\n",
        "\\frac{dx}{x(1-x/K)}\n",
        "&=&\n",
        "rdt\n",
        "\\\\\n",
        "\\int_{x(0)}^{x(t)}\\frac{dx}{x(1-x/K)}\n",
        "&=&\n",
        "rt\n",
        "\\\\\n",
        "\\int_{x(0)}^{x(t)}dx\\,\\frac{1}{x}+\\frac{1}{K-x}\n",
        "&=&\n",
        "rt\n",
        "\\\\\n",
        "\\ln(x(t))-\\ln(x(0))\n",
        "-\n",
        "\\ln(K-x(t))\n",
        "+\n",
        "\\ln(K-x(0))\n",
        "&=&\n",
        "rt\n",
        "\\\\\n",
        "\\ln\\frac{x(t)}{K-x(t)}\n",
        "&=&\n",
        "rt\n",
        "+\n",
        "\\ln\\frac{x(0)}{K-x(0)}\n",
        "\\\\\n",
        "\\frac{x(t)}{K-x(t)}\n",
        "&=&\n",
        "f(t)\n",
        "=\n",
        "\\frac{x(0)}{K-x(0)}e^{rt}\n",
        "\\\\\n",
        "x(t)\n",
        "&=&\n",
        "(K-x(t))f(t)\n",
        "\\\\\n",
        "x(t)(1+f(t))\n",
        "&=&\n",
        "Kf(t)\n",
        "\\\\\n",
        "x(t)\n",
        "&=&\n",
        "K\\frac{f(t)}{1+f(t)}\n",
        "=\n",
        "K\\frac{1}{1+\\frac{1}{f(t)}}\n",
        "\\\\\n",
        "x(t)\n",
        "&=&\n",
        "K\\left(1+\\frac{K-x(0)}{x(0)}e^{-rt}\\right)^{-1}\n",
        "\\end{eqnarray}\n",
        "\n",
        "**c)** Repita para $x(0)=1.5$."
      ],
      "metadata": {
        "id": "ELWhPITQXyQ8"
      }
    },
    {
      "cell_type": "code",
      "source": [
        "# 5.a)\n",
        "def f(x,t,p):\n",
        "    \"\"\"\n",
        "    r = p[0]\n",
        "    K = p[1]\n",
        "    \"\"\"\n",
        "    r=p[0]\n",
        "    K=p[1]\n",
        "    return r*np.array([x[0]*(1-x[0]/K)])"
      ],
      "metadata": {
        "id": "b7c19MoCY4Jy"
      },
      "execution_count": null,
      "outputs": []
    },
    {
      "cell_type": "code",
      "source": [
        "a=0\n",
        "b=5\n",
        "h=0.1\n",
        "k = int((b-a)/h)#+1\n",
        "xa = np.array([0.1])\n",
        "p = np.array([1,1])"
      ],
      "metadata": {
        "id": "fSp9fb0ZZMFA"
      },
      "execution_count": null,
      "outputs": []
    },
    {
      "cell_type": "code",
      "source": [
        "t,w = integrador_ode(euler,f,xa,a,b,k,p)"
      ],
      "metadata": {
        "id": "Ak_KtitcZX8O"
      },
      "execution_count": null,
      "outputs": []
    },
    {
      "cell_type": "code",
      "source": [
        "def exacta(t,xa,p):\n",
        "    \"\"\"\n",
        "    r=p[0]\n",
        "    K=p[1]\n",
        "    \"\"\"\n",
        "    r=p[0]\n",
        "    K=p[1]\n",
        "    f=xa/(K-xa)*np.exp(r*t)\n",
        "    return K/(1+1/f)"
      ],
      "metadata": {
        "id": "go9PWghExgFR"
      },
      "execution_count": null,
      "outputs": []
    },
    {
      "cell_type": "code",
      "source": [
        "# 5.b)\n",
        "plt.xlabel('$t$')\n",
        "plt.ylabel('$x(t)$')\n",
        "#plt.xlim(-0.1,5.1)\n",
        "#plt.ylim(-0.1,1.1)\n",
        "plt.scatter(t,w[0,:],label=\"numérica\",linestyle='-',c='red')\n",
        "plt.plot(t,np.vectorize(lambda t:exacta(t,xa,p))(t),label=\"exacta\",linestyle='-',c='blue')\n",
        "plt.title('Logística, Euler, $h=0.1$')\n",
        "plt.legend()"
      ],
      "metadata": {
        "colab": {
          "base_uri": "https://localhost:8080/",
          "height": 316
        },
        "id": "zknLc5nTZcwC",
        "outputId": "f70db9e1-9afe-4937-e901-26c5ebb88087"
      },
      "execution_count": null,
      "outputs": [
        {
          "output_type": "execute_result",
          "data": {
            "text/plain": [
              "<matplotlib.legend.Legend at 0x7f95f4042250>"
            ]
          },
          "metadata": {},
          "execution_count": 168
        },
        {
          "output_type": "display_data",
          "data": {
            "text/plain": [
              "<Figure size 432x288 with 1 Axes>"
            ],
            "image/png": "[encoded data removed]"
          },
          "metadata": {
            "needs_background": "light"
          }
        }
      ]
    },
    {
      "cell_type": "code",
      "source": [
        "# 5.c)\n",
        "xa = np.array([1.5])"
      ],
      "metadata": {
        "id": "cPAi3VWQ4SCN"
      },
      "execution_count": null,
      "outputs": []
    },
    {
      "cell_type": "code",
      "source": [
        "t,w = integrador_ode(euler,f,xa,a,b,k,p)"
      ],
      "metadata": {
        "id": "opsv1rVv4hCt"
      },
      "execution_count": null,
      "outputs": []
    },
    {
      "cell_type": "code",
      "source": [
        "plt.xlabel('$t$')\n",
        "plt.ylabel('$x(t)$')\n",
        "#plt.xlim(-0.1,5.1)\n",
        "#plt.ylim(-0.1,1.1)\n",
        "plt.scatter(t,w[0,:],label=\"numérica\",linestyle='-',c='red')\n",
        "plt.plot(t,np.vectorize(lambda t:exacta(t,xa,p))(t),label=\"exacta\",linestyle='-',c='blue')\n",
        "plt.title('Logística, Euler, $h=0.1$')\n",
        "plt.legend()"
      ],
      "metadata": {
        "colab": {
          "base_uri": "https://localhost:8080/",
          "height": 316
        },
        "id": "NSV835Ls4lkc",
        "outputId": "ad027dc3-7178-46c0-c1bf-0ca7f6295a54"
      },
      "execution_count": null,
      "outputs": [
        {
          "output_type": "execute_result",
          "data": {
            "text/plain": [
              "<matplotlib.legend.Legend at 0x7f95f3f4e5d0>"
            ]
          },
          "metadata": {},
          "execution_count": 171
        },
        {
          "output_type": "display_data",
          "data": {
            "text/plain": [
              "<Figure size 432x288 with 1 Axes>"
            ],
            "image/png": "[encoded data removed]"
          },
          "metadata": {
            "needs_background": "light"
          }
        }
      ]
    },
    {
      "cell_type": "markdown",
      "source": [
        "## **Ejercicio 6)** Oscilador armónico\n",
        "\n",
        "### Redución del orden de una ODE\n",
        "\n",
        "En general, una ODE tiene la siguiente forma\n",
        "\n",
        "\\begin{eqnarray}\n",
        "y^{(n)}(t) \n",
        "&=&\n",
        "f(y(t),y'(t),y''(t),...,y^{(n-1)}(t),t)\n",
        "\\;\\;\\;\\; (1)\n",
        "\\end{eqnarray}\n",
        "\n",
        "donde $y^{(i)}$ denota la $i$-ésima derivada de $y$ respecto a $t$.\n",
        "Dicha ODE es de dimensión $d$ si $x:\\mathbb{R}\\ni t\\to y(t)\\in \\mathbb{R}^d$.\n",
        "Además, se dice que es de orden $n$ porque involucra derivadas de $x$ de hasta orden $n$.\n",
        "\n",
        "Una ODE de orden $n$ y dimensión $d$ como la de la ecuación $(1)$ siempre puede reducirse a una ODE de primero orden y dimensión $nd$ utilizando la siguiente transformación\n",
        "\n",
        "\\begin{eqnarray}\n",
        "x_1:t\\to x_1(t) &:=& y(t) \\\\\n",
        "x_2:t\\to x_2(t) &:=& y'(t) = x_1'(t) \\\\\n",
        "x_3:t\\to x_3(t) &:=& y''(t) = x_2'(t) \\\\\n",
        "&...& \\\\\n",
        "x_n:t\\to x_n(t) &:=& y^{(n-1)}(t) = x_{n-1}'(t) \\\\\n",
        "x_n':t\\to x_n'(t) &=& y^{(n)}(t)\n",
        "\\end{eqnarray}\n",
        "\n",
        "que vale para todo $t\\in [a,b]$ de manera que la ecuación $(1)$ adopte la forma\n",
        "\n",
        "\\begin{eqnarray}\n",
        "x_{1}'(t) &=& x_2(t) \\\\\n",
        "x_{2}'(t) &=& x_3(t) \\\\\n",
        "&...& \\\\\n",
        "x_{n-1}'(t) &=& x_n(t) \\\\\n",
        "x_n'(t) &=& f(x_1(t),x_2(t),x_3(t),...,x_{n}(t),t)\n",
        "\\end{eqnarray}\n",
        "\n",
        "### El oscilador armónico\n",
        "\n",
        "El oscilador armónico viene descripto por la siguiente ecuación diferencial ordinaria (ODE)\n",
        "\n",
        "\\begin{eqnarray}\n",
        "y''(t) &=& -\\alpha y(t)\n",
        "\\end{eqnarray}\n",
        "\n",
        "Esta es una ODE de segundo orden, ya que aparece la derivada segunda de la función $x:t\\to x(t)$.\n",
        "La convertimos a una de primer orden definiendo $x_1=y$ y $x_2=y'$, obteniéndose\n",
        "\n",
        "\\begin{eqnarray}\n",
        "x_1'(t) &=& x_2(t) \\\\\n",
        "x_2'(t) &=& -\\alpha x_1(t)\n",
        "\\end{eqnarray}\n",
        "\n",
        "**a)** Utilice lo implementado en el ejecicio 2) para resolver en el intervalo de tiempo $[a,b]=[0,10]$ la ODE del oscilador armónico sujeto a las siguientes condiciones iniciales\n",
        "\n",
        "\\begin{eqnarray}\n",
        "x_1(a) &=& y(a) = 1 \\\\\n",
        "x_2(a) &=& y'(a) = 0\n",
        "\\end{eqnarray}\n",
        "\n",
        "para $\\alpha=3$ y usando un paso de integración $h=0.1$.\n",
        "\n",
        "**b)** Grafique $x_1(t)$ vs $t$ y $x_2(t)$ vs $t$. No olvide agregar leyendas a los ejes y las curvas.\n",
        "Use `np.scatter()` en vez de `np.plot()` para graficar usando puntos en vez de curvas.\n",
        "\n",
        "**c)** Grafique $x_2(t)$ vs $x_1(t)$ paramétricamente en función de $t$."
      ],
      "metadata": {
        "id": "avaxswLISMWi"
      }
    },
    {
      "cell_type": "code",
      "source": [
        "# 6.a)\n",
        "def f(x,t,p):\n",
        "    \"\"\"\n",
        "    alpha = p[0]\n",
        "    \"\"\"\n",
        "    return np.array([x[1],-p[0]*x[0]])"
      ],
      "metadata": {
        "id": "R9IW3bQAsnCb"
      },
      "execution_count": null,
      "outputs": []
    },
    {
      "cell_type": "code",
      "source": [
        "a=0\n",
        "b=10\n",
        "h=0.1\n",
        "k = int((b-a)/h)#+1\n",
        "xa = np.array([1,0])\n",
        "p = np.array([3])"
      ],
      "metadata": {
        "id": "XW8PnEk5s5nw"
      },
      "execution_count": null,
      "outputs": []
    },
    {
      "cell_type": "code",
      "source": [
        "t,w = integrador_ode(euler,f,xa,a,b,k,p)"
      ],
      "metadata": {
        "id": "J9-Qw4WQtF0i"
      },
      "execution_count": null,
      "outputs": []
    },
    {
      "cell_type": "code",
      "source": [
        "# 6.b)\n",
        "plt.xlabel('$t$')\n",
        "#plt.xlim(-0.1,5.1)\n",
        "#plt.ylim(-0.1,1.1)\n",
        "valores_x=np.linspace(0,5,100)\n",
        "valores_y1=np.cos(valores_x)\n",
        "plt.scatter(t,w[0,:],label=\"$x_1(t)$\",linestyle='-',c='red')\n",
        "plt.scatter(t,w[1,:],label=\"$x_2(t)$\",linestyle='-',c='blue')\n",
        "plt.title('Oscilador armónico, Euler')\n",
        "plt.legend()"
      ],
      "metadata": {
        "colab": {
          "base_uri": "https://localhost:8080/",
          "height": 314
        },
        "id": "KLay7-6wtzPx",
        "outputId": "9cc16cda-487b-4ee2-bd81-e8f9419198c0"
      },
      "execution_count": null,
      "outputs": [
        {
          "output_type": "execute_result",
          "data": {
            "text/plain": [
              "<matplotlib.legend.Legend at 0x7f95f3ee0e90>"
            ]
          },
          "metadata": {},
          "execution_count": 176
        },
        {
          "output_type": "display_data",
          "data": {
            "text/plain": [
              "<Figure size 432x288 with 1 Axes>"
            ],
            "image/png": "[encoded data removed]"
          },
          "metadata": {
            "needs_background": "light"
          }
        }
      ]
    },
    {
      "cell_type": "code",
      "source": [
        "# 6.c)\n",
        "plt.xlabel('$x_1(t)$')\n",
        "plt.ylabel('$x_2(t)$')\n",
        "#plt.xlim(-0.1,5.1)\n",
        "#plt.ylim(-0.1,1.1)\n",
        "plt.scatter(w[0,:],w[1,:],label=\"\",linestyle='-',c='red')\n",
        "plt.title('Oscilador armónico, Euler')\n",
        "#plt.legend()"
      ],
      "metadata": {
        "colab": {
          "base_uri": "https://localhost:8080/",
          "height": 316
        },
        "id": "utQ-ZKy4ux8w",
        "outputId": "1debd2fc-3097-4438-90cc-1b8203179b26"
      },
      "execution_count": null,
      "outputs": [
        {
          "output_type": "execute_result",
          "data": {
            "text/plain": [
              "Text(0.5, 1.0, 'Oscilador armónico, Euler')"
            ]
          },
          "metadata": {},
          "execution_count": 180
        },
        {
          "output_type": "display_data",
          "data": {
            "text/plain": [
              "<Figure size 432x288 with 1 Axes>"
            ],
            "image/png": "[encoded data removed]"
          },
          "metadata": {
            "needs_background": "light"
          }
        }
      ]
    },
    {
      "cell_type": "markdown",
      "source": [
        "## **Ejercicio 7)** Integrador de **RK4**\n",
        "\n",
        "El método de Runge-Kutta de orden 4 utiliza la teoría de diferencias finitas para calcular la siguiente aproximación de orden 4ta de un paso de integración\n",
        "\n",
        "A saber\n",
        "\\begin{eqnarray}\n",
        "x(t+h)\n",
        "&=&\n",
        "x(t) \n",
        "+ \n",
        "\\frac{h}{6}\n",
        "(k_1+2k_2+2k_3+k_4)\n",
        "+\n",
        "\\mathcal{O}(h^5)\n",
        "\\end{eqnarray}\n",
        "\n",
        "donde\n",
        "\n",
        "\\begin{eqnarray}\n",
        "k_1 &=& f(x,t) \\\\\n",
        "k_2 &=& f(x+hk_1/2,t+h/2) \\\\\n",
        "k_3 &=& f(x+hk_2/2,t+h/2) \\\\\n",
        "k_4 &=& f(x+hk_3,t+h)\n",
        "\\end{eqnarray}\n",
        "\n",
        "**a)** Implemente el método de RK4.\n",
        "\n",
        "**b)** Repita el ejercicio **6)** pero usando **RK4** en vez de **Euler**.\n",
        "\n",
        "**c)** Nota alguna diferencia al comparar la solución obtenida con Euler y la solución obtenida con RK4?"
      ],
      "metadata": {
        "id": "M1ijOC6_ILf-"
      }
    },
    {
      "cell_type": "code",
      "source": [
        "# 7.a)\n",
        "def rk4(f,x,t,h,p):\n",
        "    \"\"\"\n",
        "    Calcula un paso de integración del método de Runge Kutta orden 4.\n",
        "    \n",
        "    Argumentos de entrada:\n",
        "    \n",
        "        f : R^n -> R^n\n",
        "        x = x(t) : R^n\n",
        "        t = tiempo : R\n",
        "        h = paso de tiempo : R\n",
        "        p = parametros : R^q        \n",
        "        \n",
        "    Retorna aproximacion numérica de\n",
        "    \n",
        "        x(t+h) : R^n\n",
        "\n",
        "    según el método de Runge-Kutta de orden 4.\n",
        "\n",
        "    # Ejemplos:\n",
        "    \"\"\"    \n",
        "    k1 = f(x,t,p)\n",
        "    k2 = f(x+0.5*h*k1,t+0.5*h,p)\n",
        "    k3 = f(x+0.5*h*k2,t+0.5*h,p)\n",
        "    k4 = f(x+h*k3,t+h,p)\n",
        "    return x+h*(k1+2.0*k2+2.0*k3+k4)/6.0"
      ],
      "metadata": {
        "id": "OFOv2a_qe516"
      },
      "execution_count": null,
      "outputs": []
    },
    {
      "cell_type": "code",
      "source": [
        "# 7.b.a)\n",
        "t,w = integrador_ode(rk4,f,xa,a,b,k,p)"
      ],
      "metadata": {
        "id": "Z34c0srivI6s"
      },
      "execution_count": null,
      "outputs": []
    },
    {
      "cell_type": "code",
      "source": [
        "# 7.b.b)\n",
        "plt.xlabel('$t$')\n",
        "#plt.xlim(-0.1,5.1)\n",
        "#plt.ylim(-0.1,1.1)\n",
        "valores_x=np.linspace(0,5,100)\n",
        "valores_y1=np.cos(valores_x)\n",
        "plt.scatter(t,w[0,:],label=\"$x_1(t)$\",linestyle='-',c='red')\n",
        "plt.scatter(t,w[1,:],label=\"$x_2(t)$\",linestyle='-',c='blue')\n",
        "plt.title('Oscilador armónico, RK4')\n",
        "plt.legend()"
      ],
      "metadata": {
        "colab": {
          "base_uri": "https://localhost:8080/",
          "height": 314
        },
        "id": "eSYraVlOxRya",
        "outputId": "32e62eef-9b24-4b57-e848-e589ce513cfa"
      },
      "execution_count": null,
      "outputs": [
        {
          "output_type": "execute_result",
          "data": {
            "text/plain": [
              "<matplotlib.legend.Legend at 0x7f95f3f47250>"
            ]
          },
          "metadata": {},
          "execution_count": 183
        },
        {
          "output_type": "display_data",
          "data": {
            "text/plain": [
              "<Figure size 432x288 with 1 Axes>"
            ],
            "image/png": "[encoded data removed]"
          },
          "metadata": {
            "needs_background": "light"
          }
        }
      ]
    },
    {
      "cell_type": "code",
      "source": [
        "# 3.b.c)\n",
        "plt.xlabel('$x_1(t)$')\n",
        "plt.ylabel('$x_2(t)$')\n",
        "#plt.xlim(-0.1,5.1)\n",
        "#plt.ylim(-0.1,1.1)\n",
        "plt.scatter(w[0,:],w[1,:],label=\"\",linestyle='-',c='red')\n",
        "plt.title('Oscilador armónico, RK4')\n",
        "#plt.legend()"
      ],
      "metadata": {
        "colab": {
          "base_uri": "https://localhost:8080/",
          "height": 316
        },
        "id": "RAwmVNM-xXrz",
        "outputId": "22ef29be-9790-4b9c-f20d-51154a1a6f4a"
      },
      "execution_count": null,
      "outputs": [
        {
          "output_type": "execute_result",
          "data": {
            "text/plain": [
              "Text(0.5, 1.0, 'Oscilador armónico, RK4')"
            ]
          },
          "metadata": {},
          "execution_count": 122
        },
        {
          "output_type": "display_data",
          "data": {
            "text/plain": [
              "<Figure size 432x288 with 1 Axes>"
            ],
            "image/png": "[encoded data removed]"
          },
          "metadata": {
            "needs_background": "light"
          }
        }
      ]
    },
    {
      "cell_type": "markdown",
      "source": [
        "## **Ejercicio 8)** Creando una \"libreria\" de integradores ODE\n",
        "\n",
        "**a)** Exporte el actual notebook `redes-neuronales-2022-practico-4.ipynb` a `ode.py`.\n",
        "\n",
        "**b)** Con su editor de texto favorito, elimine todo lo que sobra de `ode.py`. Deje, solamente, el código que:\n",
        "\n",
        "* importa `numpy`.\n",
        "\n",
        "* define la funcion `euler`.\n",
        "\n",
        "* define la funcion `rk4`.\n",
        "\n",
        "* define la funcion `integrador_ode`.\n",
        "\n",
        "**c)** En google colab, suba el archiv `ode.py` anteriormente credo.\n",
        "\n",
        "**d)** Importe la \"libreria\" `ode` escribiendo\n",
        "\n",
        "    import ode\n",
        "\n",
        "**e)** Pruebe la libreria `ode` escribiendo\n",
        "\n",
        "    t,x = ode.integrador_ode(ode.rk4,f,xa,a,b,k,p)"
      ],
      "metadata": {
        "id": "6aJZWisYQUfg"
      }
    },
    {
      "cell_type": "code",
      "source": [
        "# 8.e)\n",
        "import ode"
      ],
      "metadata": {
        "id": "5vx4k4CpQSmM"
      },
      "execution_count": null,
      "outputs": []
    },
    {
      "cell_type": "code",
      "source": [
        "t,w= ode.integrador_ode(ode.rk4,f,xa,a,b,k,p)"
      ],
      "metadata": {
        "id": "pcobpTUSRAuA"
      },
      "execution_count": null,
      "outputs": []
    },
    {
      "cell_type": "code",
      "source": [
        "plt.xlabel('$t$')\n",
        "valores_x=np.linspace(0,5,100)\n",
        "valores_y1=np.cos(valores_x)\n",
        "plt.scatter(t,w[0,:],label=\"$x_1(t)$\",linestyle='-',c='red')\n",
        "plt.scatter(t,w[1,:],label=\"$x_2(t)$\",linestyle='-',c='blue')\n",
        "plt.title('Oscilador armónico, RK4')\n",
        "plt.legend()"
      ],
      "metadata": {
        "colab": {
          "base_uri": "https://localhost:8080/",
          "height": 314
        },
        "id": "9mIrW5GHRQ_2",
        "outputId": "a5a4deb0-270f-4017-d636-83761199a02a"
      },
      "execution_count": null,
      "outputs": [
        {
          "output_type": "execute_result",
          "data": {
            "text/plain": [
              "<matplotlib.legend.Legend at 0x7f95f4178950>"
            ]
          },
          "metadata": {},
          "execution_count": 186
        },
        {
          "output_type": "display_data",
          "data": {
            "text/plain": [
              "<Figure size 432x288 with 1 Axes>"
            ],
            "image/png": "[encoded data removed]"
          },
          "metadata": {
            "needs_background": "light"
          }
        }
      ]
    },
    {
      "cell_type": "code",
      "source": [],
      "metadata": {
        "id": "YJ-OaeV4AEiT"
      },
      "execution_count": null,
      "outputs": []
    }
  ]
}