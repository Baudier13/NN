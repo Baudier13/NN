{
  "nbformat": 4,
  "nbformat_minor": 0,
  "metadata": {
    "colab": {
      "provenance": [],
      "collapsed_sections": [],
      "include_colab_link": true
    },
    "kernelspec": {
      "name": "python3",
      "display_name": "Python 3"
    },
    "language_info": {
      "name": "python"
    }
  },
  "cells": [
    {
      "cell_type": "markdown",
      "metadata": {
        "id": "view-in-github",
        "colab_type": "text"
      },
      "source": [
        "<a href=\"https://colab.research.google.com/github/Baudier13/NN/blob/main/practico_3_resuelto.ipynb\" target=\"_parent\"><img src=\"https://colab.research.google.com/assets/colab-badge.svg\" alt=\"Open In Colab\"/></a>"
      ]
    },
    {
      "cell_type": "markdown",
      "source": [
        "# Algebra lineal con **SciPy**\n",
        "\n",
        "Referencias:\n",
        "\n",
        "* https://docs.scipy.org/doc/scipy/reference/linalg.html\n",
        "* https://www.datacamp.com/cheat-sheet/scipy-cheat-sheet-linear-algebra-in-python\n",
        "\n",
        "## **Ejercicio 1)** Importando librerías\n",
        "\n",
        "Importe las librerías `numpy` para operar con arrays, `scipy` para utilizar rutinas de algebra lineal y `matplotlib.pyplot` para graficar."
      ],
      "metadata": {
        "id": "NRYEofSD0xoF"
      }
    },
    {
      "cell_type": "code",
      "source": [
        "import numpy as np\n",
        "import scipy as sp\n",
        "import scipy.linalg as linalg\n",
        "import matplotlib.pyplot as plt"
      ],
      "metadata": {
        "id": "I8N3D_nU1_oT"
      },
      "execution_count": null,
      "outputs": []
    },
    {
      "cell_type": "markdown",
      "source": [
        "## **Ejercicio 2)** Inversa de una matriz\n",
        "\n",
        "Referencias:\n",
        "\n",
        "* https://docs.scipy.org/doc/scipy/reference/generated/scipy.linalg.inv.html#scipy.linalg.inv\n",
        "\n",
        "**a)** Use `linalg.inv()` para calcular la inversa $A^{-1}$ de la matriz\n",
        "\n",
        "\\begin{equation}\n",
        "A = \\bigg(\n",
        "\\begin{array}{cc}\n",
        "1 & 2 \\\\\n",
        "3 & 4\n",
        "\\end{array}\n",
        "\\bigg)\n",
        "\\end{equation}\n",
        "\n",
        "**b)** Use `np.dot()` para chequear que $A^{-1}A \\approx \\mathbb{I}$, donde $\\mathbb{I}$ es la matriz identidad.\n",
        "\n",
        "**c)** Chequee que $AA^{-1} \\approx \\mathbb{I}$."
      ],
      "metadata": {
        "id": "NcaGEHAd10sb"
      }
    },
    {
      "cell_type": "code",
      "source": [
        "# 2.a)\n",
        "A = np.array([[1., 2.], [3., 4.]])\n",
        "iA = linalg.inv(A)"
      ],
      "metadata": {
        "id": "tntEwNvE4SZC"
      },
      "execution_count": null,
      "outputs": []
    },
    {
      "cell_type": "code",
      "source": [
        "# 2.b)\n",
        "np.dot(iA,A)"
      ],
      "metadata": {
        "colab": {
          "base_uri": "https://localhost:8080/"
        },
        "id": "mSFwGRil2UTj",
        "outputId": "32a56763-5221-4443-890d-903aa70e08fb"
      },
      "execution_count": null,
      "outputs": [
        {
          "output_type": "execute_result",
          "data": {
            "text/plain": [
              "array([[1.00000000e+00, 0.00000000e+00],\n",
              "       [1.11022302e-16, 1.00000000e+00]])"
            ]
          },
          "metadata": {},
          "execution_count": 4
        }
      ]
    },
    {
      "cell_type": "code",
      "source": [
        "# 2.c)\n",
        "np.dot(A,iA)"
      ],
      "metadata": {
        "colab": {
          "base_uri": "https://localhost:8080/"
        },
        "id": "lH4u8yx82YMe",
        "outputId": "5960f815-2468-4245-93da-d2eb02dac37c"
      },
      "execution_count": null,
      "outputs": [
        {
          "output_type": "execute_result",
          "data": {
            "text/plain": [
              "array([[1.0000000e+00, 0.0000000e+00],\n",
              "       [8.8817842e-16, 1.0000000e+00]])"
            ]
          },
          "metadata": {},
          "execution_count": 5
        }
      ]
    },
    {
      "cell_type": "markdown",
      "source": [
        "## **Ejercicio 3)** Sistema de ecuaciones lineales\n",
        "\n",
        "Referencias:\n",
        "\n",
        "* https://docs.scipy.org/doc/scipy/reference/generated/scipy.linalg.solve.html#scipy.linalg.solve\n",
        "\n",
        "**a)** Use `linalg.solve()` para resolver el sistema $Ax=b$ donde, $x$ es la incógnita,\n",
        "\n",
        "\\begin{equation}\n",
        "A = \\left(\n",
        "\\begin{array}{cc}\n",
        "3 & 2 & 0 \\\\\n",
        "1 & -1 & 0 \\\\\n",
        "0 & 5 & 1\n",
        "\\end{array}\n",
        "\\right)\n",
        "\\end{equation}\n",
        "\n",
        "y\n",
        "\n",
        "\\begin{equation}\n",
        "b = \\left(\n",
        "\\begin{array}{cc}\n",
        "2 \\\\\n",
        "4 \\\\\n",
        "1 \n",
        "\\end{array}\n",
        "\\right)\n",
        "\\end{equation}\n",
        "\n",
        "**b)** Chequee que $Ax=b$."
      ],
      "metadata": {
        "id": "4pp5DryY2azA"
      }
    },
    {
      "cell_type": "code",
      "source": [
        "# 3.a)\n",
        "A = np.array([[3, 2, 0], [1, -1, 0], [0, 5, 1]])\n",
        "A"
      ],
      "metadata": {
        "colab": {
          "base_uri": "https://localhost:8080/"
        },
        "id": "PshUolMT2ZtI",
        "outputId": "69dde0ae-eaa5-46b2-a42b-3b9086ed839c"
      },
      "execution_count": null,
      "outputs": [
        {
          "output_type": "execute_result",
          "data": {
            "text/plain": [
              "array([[ 3,  2,  0],\n",
              "       [ 1, -1,  0],\n",
              "       [ 0,  5,  1]])"
            ]
          },
          "metadata": {},
          "execution_count": 6
        }
      ]
    },
    {
      "cell_type": "code",
      "source": [
        "b = np.array([2, 4, -1])\n",
        "b"
      ],
      "metadata": {
        "colab": {
          "base_uri": "https://localhost:8080/"
        },
        "id": "BeqGgNVw2hG0",
        "outputId": "fa2fbc7f-818d-465c-9847-e3ddd5c0ced0"
      },
      "execution_count": null,
      "outputs": [
        {
          "output_type": "execute_result",
          "data": {
            "text/plain": [
              "array([ 2,  4, -1])"
            ]
          },
          "metadata": {},
          "execution_count": 7
        }
      ]
    },
    {
      "cell_type": "code",
      "source": [
        "x = linalg.solve(A,b)\n",
        "x"
      ],
      "metadata": {
        "colab": {
          "base_uri": "https://localhost:8080/"
        },
        "id": "atdpOgw22hem",
        "outputId": "f20d158e-9814-4387-b806-9f7fbf6e88be"
      },
      "execution_count": null,
      "outputs": [
        {
          "output_type": "execute_result",
          "data": {
            "text/plain": [
              "array([ 2., -2.,  9.])"
            ]
          },
          "metadata": {},
          "execution_count": 8
        }
      ]
    },
    {
      "cell_type": "code",
      "source": [
        "# 3.b)\n",
        "np.dot(A,x) == b"
      ],
      "metadata": {
        "colab": {
          "base_uri": "https://localhost:8080/"
        },
        "id": "avZElQyC2jQ_",
        "outputId": "e8cbe7d4-87ff-4b30-f8df-6fa724c91680"
      },
      "execution_count": null,
      "outputs": [
        {
          "output_type": "execute_result",
          "data": {
            "text/plain": [
              "array([ True,  True,  True])"
            ]
          },
          "metadata": {},
          "execution_count": 9
        }
      ]
    },
    {
      "cell_type": "markdown",
      "source": [
        "## **Ejercicio 4)** Cuadrados mínimos\n",
        "\n",
        "Dada una matriz $X$ de dimensiones $n\\times m$ y un vector $y$ de dimensión $n$, la función `linalg.lstsq(X,y,...)` se usa para encontrar el vector $y$ de dimensión $m$ que minimize la norma L2 $|y-Xc|$. Notar que minimizar esta cantidad no necesariamente implica que $Xc=y$. Minimizar $|y-Xc|$ es útil para infinidad de problemas. En particular, es útil para ajustar polinomios a datos.\n",
        "\n",
        "Referencias:\n",
        "\n",
        "* https://docs.scipy.org/doc/scipy/reference/generated/scipy.linalg.lstsq.html#scipy.linalg.lstsq\n",
        "\n",
        "**a)** Use `linalg.lstsq(X,y)` para encontrar los coeficientes $c_0, $c_1 y $c_2$ del polinomio $p(x)=c_0+c_1x+c_2x^2$ que ajuste lo mejor posible los siguientes datos\n",
        "\n",
        "    x = np.array([1.0, 2.5, 3.5, 4.0, 5.0, 7.0, 8.5])\n",
        "    y = np.array([0.3, 1.1, 1.5, 2.0, 3.2, 6.6, 8.6])\n",
        "\n",
        "de acuerdo al método de cuadrados mínimos\n",
        "\n",
        "\\begin{eqnarray}\n",
        "\\min_{c_0,c_1,c_2} \\sum_i (y_i-p(x_i))^2\n",
        "\\end{eqnarray}\n",
        "\n",
        "**Ayuda:** Utilizar la matriz $X$ de entradas $X_{ij}=x_i^j$, i.e. la $j$-ésima potencia de $x_i$.\n",
        "\n",
        "**b)** Con el fin de evaluar la bondad del ajuste, grafique en una misma figura:\n",
        "\n",
        "* con símbolos los datos y\n",
        "* con una curva el polinomio ajustado."
      ],
      "metadata": {
        "id": "YS7bf2SJ2nws"
      }
    },
    {
      "cell_type": "code",
      "source": [
        "# 4.a)\n",
        "x = np.array([1.0, 2.5, 3.5, 4.0, 5.0, 7.0, 8.5])\n",
        "y = np.array([0.3, 1.1, 1.5, 2.0, 3.2, 6.6, 8.6])"
      ],
      "metadata": {
        "id": "EQXxlhEM2k8s"
      },
      "execution_count": null,
      "outputs": []
    },
    {
      "cell_type": "code",
      "source": [
        "X = np.row_stack([x[:]**i for i in range(3)]).T\n",
        "X"
      ],
      "metadata": {
        "colab": {
          "base_uri": "https://localhost:8080/"
        },
        "id": "tearyu7o2qR3",
        "outputId": "37903749-f8ee-48b9-dab9-18e1035278d3"
      },
      "execution_count": null,
      "outputs": [
        {
          "output_type": "execute_result",
          "data": {
            "text/plain": [
              "array([[ 1.  ,  1.  ,  1.  ],\n",
              "       [ 1.  ,  2.5 ,  6.25],\n",
              "       [ 1.  ,  3.5 , 12.25],\n",
              "       [ 1.  ,  4.  , 16.  ],\n",
              "       [ 1.  ,  5.  , 25.  ],\n",
              "       [ 1.  ,  7.  , 49.  ],\n",
              "       [ 1.  ,  8.5 , 72.25]])"
            ]
          },
          "metadata": {},
          "execution_count": 11
        }
      ]
    },
    {
      "cell_type": "code",
      "source": [
        "c,res,rng,sng = linalg.lstsq(X,y)"
      ],
      "metadata": {
        "id": "wuefJKgH27xf"
      },
      "execution_count": null,
      "outputs": []
    },
    {
      "cell_type": "code",
      "source": [
        "c,res,rng,sng"
      ],
      "metadata": {
        "colab": {
          "base_uri": "https://localhost:8080/"
        },
        "id": "ywVe7YPQ3v9Z",
        "outputId": "ef82b96a-9037-4293-b1c9-272fb1125251"
      },
      "execution_count": null,
      "outputs": [
        {
          "output_type": "execute_result",
          "data": {
            "text/plain": [
              "(array([0.0578403 , 0.07701453, 0.11262261]),\n",
              " 0.3954624919193899,\n",
              " 3,\n",
              " array([94.14628205,  4.12516865,  0.63091939]))"
            ]
          },
          "metadata": {},
          "execution_count": 13
        }
      ]
    },
    {
      "cell_type": "code",
      "source": [
        "# 4.b)\n",
        "plt.plot(x,y,'o',label='datos')\n",
        "xx = np.linspace(0, 9, 101)\n",
        "yy = c[0]+c[1]*xx+c[2]*xx**2\n",
        "plt.plot(xx,yy,label='ajuste de cuadrados mínimos, $y = c_0 + c_1x + c_2x^2$')\n",
        "plt.xlabel('$x$')\n",
        "plt.ylabel('$y$')\n",
        "plt.legend(framealpha=1, shadow=True)\n",
        "plt.grid(alpha=0.25)\n",
        "plt.show()"
      ],
      "metadata": {
        "colab": {
          "base_uri": "https://localhost:8080/",
          "height": 279
        },
        "id": "BGFM3cB03w7v",
        "outputId": "4ce8bf13-e090-4aa4-d1b2-03fd28e28e05"
      },
      "execution_count": null,
      "outputs": [
        {
          "output_type": "display_data",
          "data": {
            "text/plain": [
              "<Figure size 432x288 with 1 Axes>"
            ],
            "image/png": "[encoded data removed]"
          },
          "metadata": {
            "needs_background": "light"
          }
        }
      ]
    },
    {
      "cell_type": "markdown",
      "source": [
        "## **Ejercicio 5)** pseudo-inversa de Moore-Penrose de una matriz\n",
        "\n",
        "La pseudo-inversa de Moore-Penrose es una generalización de la noción de inversa, que resulta útil porque existe para cualquier matriz de dimensiones y entradas arbitrarias sobre los números reales o complejos.\n",
        "\n",
        "Si una matriz $A$ es invertible (y por ende cuadrada), existe una matriz $B$ tal $ABBA=\\mathbb{I}$. Dicha matríz $B$ es única (para la $A$ dada) y, por ende, se la denota por $A^{-1}$ y se la denomina inversa de $A$. En particular, notar que $AA^{-1}A = A$ y $A^{-1}AA^{-1}=A^{-1}$. Estó último es lo que pseudo-inversa de Moore-Penrose generaliza.\n",
        "\n",
        "Si $A$ no es invertible, luego no existe una matriz $B$ para la cual se cumpla la primera condición $AB=BA=\\mathbb{I}$. Sin embargo, siempre existe una matriz $B$ para la cual se cumple $ABA = A$ y $BAB=B$. Dicha matriz $B$ es única (para la $A$ dada) y, por ende, se la denota por $A^+$ y se la denomina por pseudo-inversa de Moore-Penrose de $A$.\n",
        "\n",
        "Referencias:\n",
        "\n",
        "* https://en.wikipedia.org/wiki/Moore%E2%80%93Penrose_inverse\n",
        "* https://docs.scipy.org/doc/scipy/reference/generated/scipy.linalg.pinv.html#scipy.linalg.pinv\n",
        "\n",
        "**a)** Cree una matriz $A$ de dimensiones $n\\times m$ con $n=9$ y $m=6$ de números aleatorios generados a partir de la distribución normal de media 0 y varianza 1.\n",
        "\n",
        "**b)** Use `linalg.pinv()` para computar la psuedo-inversa de Moore-Penrose $A^+$ de $A$.\n",
        "\n",
        "**c)** Que dimensiones tiene $A^+$?\n",
        "\n",
        "**d)** Use `np.allclose()` para verifique que $AA^+A\\approx A$.\n",
        "\n",
        "**e)** Verifique que $A^+AA^+\\approx A^+$."
      ],
      "metadata": {
        "id": "Siuu1AyTP_cF"
      }
    },
    {
      "cell_type": "code",
      "source": [
        "# 5.a)\n",
        "A = np.random.random((9,6))\n",
        "A"
      ],
      "metadata": {
        "colab": {
          "base_uri": "https://localhost:8080/"
        },
        "id": "j139zRcL44_O",
        "outputId": "f915ebb8-4289-4720-c03f-a1f7b28a6975"
      },
      "execution_count": null,
      "outputs": [
        {
          "output_type": "execute_result",
          "data": {
            "text/plain": [
              "array([[0.12736569, 0.77387265, 0.96966291, 0.35195734, 0.74890178,\n",
              "        0.99285089],\n",
              "       [0.96512843, 0.91346521, 0.67485848, 0.46001805, 0.46138687,\n",
              "        0.67291792],\n",
              "       [0.98002073, 0.10840107, 0.89504812, 0.10382205, 0.37787881,\n",
              "        0.53200525],\n",
              "       [0.18067366, 0.10410395, 0.19123309, 0.07999956, 0.15818431,\n",
              "        0.45044655],\n",
              "       [0.54971707, 0.03787861, 0.63418044, 0.45405781, 0.93537647,\n",
              "        0.62039558],\n",
              "       [0.72090948, 0.90048403, 0.5305389 , 0.66269567, 0.66839969,\n",
              "        0.85242272],\n",
              "       [0.35834302, 0.65088261, 0.48136574, 0.31222679, 0.61461917,\n",
              "        0.38627694],\n",
              "       [0.41783795, 0.71324111, 0.21297272, 0.43995737, 0.61597915,\n",
              "        0.11960321],\n",
              "       [0.96730744, 0.50641824, 0.84803991, 0.66075764, 0.28312946,\n",
              "        0.88616236]])"
            ]
          },
          "metadata": {},
          "execution_count": 15
        }
      ]
    },
    {
      "cell_type": "code",
      "source": [
        "# 5.b)\n",
        "iA = linalg.pinv(A)\n",
        "iA"
      ],
      "metadata": {
        "colab": {
          "base_uri": "https://localhost:8080/"
        },
        "id": "HlZHFyZdSJnt",
        "outputId": "c3324095-4f33-4ea2-9954-416f55bc9c42"
      },
      "execution_count": null,
      "outputs": [
        {
          "output_type": "execute_result",
          "data": {
            "text/plain": [
              "array([[-0.901801  ,  0.60263974,  0.62274557,  0.5382801 ,  0.03910086,\n",
              "         0.35164806, -0.09112393, -0.03405001, -0.4160442 ],\n",
              "       [ 0.26339063,  0.55972399, -0.0340217 , -0.00501663, -0.84085378,\n",
              "         0.14095123,  0.33064089,  0.2719801 , -0.42490316],\n",
              "       [ 0.99661049, -0.48800834,  0.45198604, -1.60289542, -0.28242089,\n",
              "        -1.3275899 ,  0.33497312,  0.32601029,  1.08214924],\n",
              "       [-0.04606612, -0.96312162, -1.19703745, -1.48285828,  0.49564261,\n",
              "        -0.27062054, -0.21953724,  0.65227141,  2.17634409],\n",
              "       [-0.15297534, -0.00594378,  0.19596021,  0.43341731,  0.84159699,\n",
              "         0.22369751,  0.28984218,  0.29288592, -1.13229719],\n",
              "       [ 0.00804972,  0.26507714, -0.23995016,  1.73009213,  0.10286368,\n",
              "         1.0586242 , -0.48965388, -1.06904726, -0.54982547]])"
            ]
          },
          "metadata": {},
          "execution_count": 16
        }
      ]
    },
    {
      "cell_type": "code",
      "source": [
        "# 5.c)\n",
        "iA.shape"
      ],
      "metadata": {
        "colab": {
          "base_uri": "https://localhost:8080/"
        },
        "id": "F3LqtQ10Sf2I",
        "outputId": "9092da65-ecbc-4d9e-f831-c381f650f4aa"
      },
      "execution_count": null,
      "outputs": [
        {
          "output_type": "execute_result",
          "data": {
            "text/plain": [
              "(6, 9)"
            ]
          },
          "metadata": {},
          "execution_count": 17
        }
      ]
    },
    {
      "cell_type": "code",
      "source": [
        "# 5.d)\n",
        "np.allclose(A, A @ iA @ A)"
      ],
      "metadata": {
        "colab": {
          "base_uri": "https://localhost:8080/"
        },
        "id": "ruttE3oPSJqS",
        "outputId": "9fe9cdfd-dd8e-417b-ed0e-9fbb09707a34"
      },
      "execution_count": null,
      "outputs": [
        {
          "output_type": "execute_result",
          "data": {
            "text/plain": [
              "True"
            ]
          },
          "metadata": {},
          "execution_count": 18
        }
      ]
    },
    {
      "cell_type": "code",
      "source": [
        "# 5.e)\n",
        "np.allclose(iA, iA @ A @ iA)"
      ],
      "metadata": {
        "colab": {
          "base_uri": "https://localhost:8080/"
        },
        "id": "w6OaF6ZfSJua",
        "outputId": "3c1d2a74-ad71-454e-ac51-5d6ba2e1738e"
      },
      "execution_count": null,
      "outputs": [
        {
          "output_type": "execute_result",
          "data": {
            "text/plain": [
              "True"
            ]
          },
          "metadata": {},
          "execution_count": 19
        }
      ]
    },
    {
      "cell_type": "markdown",
      "source": [
        "## **Ejercicio 5)** Producto de Kronecker\n",
        "\n",
        "Considere las matrices\n",
        "\n",
        "\\begin{equation}\n",
        "A = \\left(\n",
        "\\begin{array}{cc}\n",
        "A_{11} & \\dots & A_{1m} \\\\\n",
        "\\vdots & \\ddots & \\vdots \\\\\n",
        "A_{nm} & \\dots & A_{nm}\n",
        "\\end{array}\n",
        "\\right)\n",
        "\\end{equation}\n",
        "\n",
        "y\n",
        "\n",
        "\\begin{equation}\n",
        "B = \\left(\n",
        "\\begin{array}{cc}\n",
        "B_{11} & \\dots & B_{1s} \\\\\n",
        "\\vdots & \\ddots & \\vdots \\\\\n",
        "B_{r1} & \\dots & B_{rs}\n",
        "\\end{array}\n",
        "\\right)\n",
        "\\end{equation}\n",
        "\n",
        "El producto de Kronecker es la matriz de dimensiones $nr\\times ms$ dada por\n",
        "\n",
        "\\begin{equation}\n",
        "A\\otimes B \n",
        "= \n",
        "\\left(\n",
        "\\begin{array}{cc}\n",
        "A_{11}B & \\dots & A_{1m}B \\\\\n",
        "\\vdots & \\ddots & \\vdots \\\\\n",
        "A_{n1}B & \\dots & A_{nm}B\n",
        "\\end{array}\n",
        "\\right)\n",
        "= \n",
        "\\left(\n",
        "\\begin{array}{cc}\n",
        "B_{11}A & \\dots & B_{1s}A \\\\\n",
        "\\vdots & \\ddots & \\vdots \\\\\n",
        "B_{r1}A & \\dots & B_{rs}A\n",
        "\\end{array}\n",
        "\\right)\n",
        "\\end{equation}\n",
        "\n",
        "donde $A_{ij}B$ es un bloque de la matriz $A\\otimes B$ igual al producto del escalar $A_{ij}$ por la matriz $B$.\n",
        "Idem para $B_{ij}A$.\n",
        "\n",
        "Referencias:\n",
        "\n",
        "* https://docs.scipy.org/doc/scipy/reference/generated/scipy.linalg.kron.html#scipy.linalg.kron\n",
        "\n",
        "**a)** Use `linalg.kron()` para calcular el producto de Kronecker de las matrices\n",
        "\n",
        "\\begin{equation}\n",
        "A = \\left(\n",
        "\\begin{array}{cc}\n",
        "1 & 2 \\\\\n",
        "3 & 4 \\\\\n",
        "\\end{array}\n",
        "\\right)\n",
        "\\end{equation}\n",
        "\n",
        "y\n",
        "\n",
        "\\begin{equation}\n",
        "B = \\left(\n",
        "\\begin{array}{cc}\n",
        "1 \\\\\n",
        "1 \\\\\n",
        "1 \\\\\n",
        "\\end{array}\n",
        "\\right)\n",
        "\\end{equation}\n",
        "\n",
        "Que dimensiones tiene $A\\otimes B$ en este caso?\n",
        "\n",
        "**b)** Repita para las matrices\n",
        "\n",
        "\\begin{equation}\n",
        "A = \\left(\n",
        "\\begin{array}{cc}\n",
        "1 & 2 \\\\\n",
        "3 & 4 \\\\\n",
        "\\end{array}\n",
        "\\right)\n",
        "\\end{equation}\n",
        "\n",
        "y\n",
        "\n",
        "\\begin{equation}\n",
        "B = \\left(\n",
        "\\begin{array}{cc}\n",
        "1 & 1 & 1 \n",
        "\\end{array}\n",
        "\\right)\n",
        "\\end{equation}\n",
        "\n",
        "Que dimensiones tiene $A\\otimes B$ en este otro caso?"
      ],
      "metadata": {
        "id": "lmq42jPWWvY0"
      }
    },
    {
      "cell_type": "code",
      "source": [
        "# 5.a)\n",
        "A = np.array([[1,2],[3,4]])\n",
        "B = np.array([[1,1,1]]).T\n",
        "A"
      ],
      "metadata": {
        "colab": {
          "base_uri": "https://localhost:8080/"
        },
        "id": "HMSSVY0-IMx_",
        "outputId": "6e43d8fa-7219-4a18-f084-4a0d1a852a4e"
      },
      "execution_count": null,
      "outputs": [
        {
          "output_type": "execute_result",
          "data": {
            "text/plain": [
              "array([[1, 2],\n",
              "       [3, 4]])"
            ]
          },
          "metadata": {},
          "execution_count": 20
        }
      ]
    },
    {
      "cell_type": "code",
      "source": [
        "B"
      ],
      "metadata": {
        "colab": {
          "base_uri": "https://localhost:8080/"
        },
        "id": "QPd6JaX7JNkc",
        "outputId": "92be7b81-6ccb-4bab-ecbe-8ea0b85a65f9"
      },
      "execution_count": null,
      "outputs": [
        {
          "output_type": "execute_result",
          "data": {
            "text/plain": [
              "array([[1],\n",
              "       [1],\n",
              "       [1]])"
            ]
          },
          "metadata": {},
          "execution_count": 21
        }
      ]
    },
    {
      "cell_type": "code",
      "source": [
        "linalg.kron(A,B)"
      ],
      "metadata": {
        "colab": {
          "base_uri": "https://localhost:8080/"
        },
        "id": "YF_wzfjaJMqT",
        "outputId": "16326b24-8e44-4108-aefd-74f51c49c5f9"
      },
      "execution_count": null,
      "outputs": [
        {
          "output_type": "execute_result",
          "data": {
            "text/plain": [
              "array([[1, 2],\n",
              "       [1, 2],\n",
              "       [1, 2],\n",
              "       [3, 4],\n",
              "       [3, 4],\n",
              "       [3, 4]])"
            ]
          },
          "metadata": {},
          "execution_count": 22
        }
      ]
    },
    {
      "cell_type": "code",
      "source": [
        "# 5.b)\n",
        "B = np.array([[1,1,1]])"
      ],
      "metadata": {
        "id": "Ameg1paKIq5A"
      },
      "execution_count": null,
      "outputs": []
    },
    {
      "cell_type": "code",
      "source": [
        "linalg.kron(A,B)"
      ],
      "metadata": {
        "colab": {
          "base_uri": "https://localhost:8080/"
        },
        "id": "sp7MBpOnJEry",
        "outputId": "47f5f569-34a5-4f9c-8129-12c2d6a48826"
      },
      "execution_count": null,
      "outputs": [
        {
          "output_type": "execute_result",
          "data": {
            "text/plain": [
              "array([[1, 1, 1, 2, 2, 2],\n",
              "       [3, 3, 3, 4, 4, 4]])"
            ]
          },
          "metadata": {},
          "execution_count": 24
        }
      ]
    },
    {
      "cell_type": "markdown",
      "source": [
        "## **Ejercicio 5)** Autovalores y autovectores\n",
        "\n",
        "Considere una matriz $A$ de $n\\times m$. Luego, existen un conjunto de escalares $\\{\\lambda_1,...,\\lambda_n\\}$ y un correspondiente conjunto de vectores distintos $\\{v_1,...,v_n\\}$ tales que\n",
        "\n",
        "\\begin{eqnarray}\n",
        "Av_i = \\lambda_i v_i \\;\\;\\;\\; (1)\n",
        "\\end{eqnarray}\n",
        "\n",
        "para todo $i\\in\\{1,...,n\\}$. Estos $\\lambda_i$ y $v_i$ se denominan autovalores y autovectores a derecha de $A$, respectivamente. Los autovalores pueden repetirse, pueden ser nulos y se los suele ordenar de mayor a menor en orden descendiente de valor absoluto: $|\\lambda_1|\\geq |\\lambda_2|\\geq ...\\geq |\\lambda_n|\\geq 0$. Los autovectores pueden normalizarse, ya que si $v_i$ es autovector, luego $v_i/|v_i|$ también lo es.\n",
        "\n",
        "Los autovectores constituyen una base del dominio de $A$. Esto es muy útil porque permite escribir cualquier vector $v$ en el dominio de $A$ como una combinación linal de sus autovectores\n",
        "\n",
        "\\begin{eqnarray}\n",
        "v = \\sum_i c_i v_i\n",
        "\\end{eqnarray}\n",
        "\n",
        "Luego, calcular el producto de $A$ con $c$ resulta muy simple\n",
        "\n",
        "\\begin{eqnarray}\n",
        "Av = A\\left(\\sum_i c_i v_i\\right) = \\sum_i c_iAv_i = \\sum_i c_i\\lambda_iv_i\n",
        "\\end{eqnarray}\n",
        "\n",
        "Análogamente, existen un conjunto de escalares $\\{\\mu_1,...,\\mu_m\\}$ y un correspondiente conjunto de vectores diferentes $\\{u_1,...,u_m\\}$ de $A$, llamados autovalores y autovectores a izquierda de $A$, respectivamente, y son tales que\n",
        "\n",
        "\\begin{eqnarray}\n",
        "u_jA = \\mu_j u_j \\;\\;\\;\\; (2)\n",
        "\\end{eqnarray}\n",
        "\n",
        "para todo $j\\in\\{1,...,m\\}$.\n",
        "\n",
        "**a)** Use `linalg.eigvals()` para calcular los autovalores a derecha de la matriz \n",
        "\n",
        "\\begin{equation}\n",
        "A = \\left(\n",
        "\\begin{array}{cc}\n",
        "0 & -1 \\\\\n",
        "1 &  0\n",
        "\\end{array}\n",
        "\\right)\n",
        "\\end{equation}\n",
        "\n",
        "Referencias:\n",
        "\n",
        "* https://docs.scipy.org/doc/scipy/reference/generated/scipy.linalg.eig.html#scipy.linalg.eig\n",
        "\n",
        "**b)** Use `linalg.eig()` para calcular los autovalores y los correspondientes autovectores a derecha de $A$.\n",
        "\n",
        "**c)** Verifique que la ecuación $(1)$ se cumple.\n",
        "\n",
        "**d)** Use `linalg.eig()` para calcular los autovalores y los correspondientes autovectores a izquierda de $A$.\n",
        "\n",
        "**e)** Verifique que la ecuación $(2)$ se cumple."
      ],
      "metadata": {
        "id": "2OsaX5tGJ3QD"
      }
    },
    {
      "cell_type": "code",
      "source": [
        "# 5.a)\n",
        "#A = np.array([[0., -1.], [1., 0.]])\n",
        "A = np.array([[1., 2.], [3., 4.]])\n",
        "linalg.eigvals(A)"
      ],
      "metadata": {
        "colab": {
          "base_uri": "https://localhost:8080/"
        },
        "id": "MmZ790fmKNQP",
        "outputId": "c2ce6dc0-105c-447f-d1df-79d42dba5363"
      },
      "execution_count": null,
      "outputs": [
        {
          "output_type": "execute_result",
          "data": {
            "text/plain": [
              "array([-0.37228132+0.j,  5.37228132+0.j])"
            ]
          },
          "metadata": {},
          "execution_count": 46
        }
      ]
    },
    {
      "cell_type": "code",
      "source": [
        "# 5.b)\n",
        "revals,revecs = linalg.eig(A, left=False, right=True)"
      ],
      "metadata": {
        "id": "PHFyhWbY6AJ-"
      },
      "execution_count": null,
      "outputs": []
    },
    {
      "cell_type": "code",
      "source": [
        "revals"
      ],
      "metadata": {
        "colab": {
          "base_uri": "https://localhost:8080/"
        },
        "id": "fpwXKI379Pyi",
        "outputId": "2dce8b7f-dd80-4f64-b946-744ef8b5029e"
      },
      "execution_count": null,
      "outputs": [
        {
          "output_type": "execute_result",
          "data": {
            "text/plain": [
              "array([-0.37228132+0.j,  5.37228132+0.j])"
            ]
          },
          "metadata": {},
          "execution_count": 48
        }
      ]
    },
    {
      "cell_type": "code",
      "source": [
        "revecs"
      ],
      "metadata": {
        "colab": {
          "base_uri": "https://localhost:8080/"
        },
        "id": "B8mcpTV79RZT",
        "outputId": "1cb91c53-9f12-469c-f485-c8049218a8d5"
      },
      "execution_count": null,
      "outputs": [
        {
          "output_type": "execute_result",
          "data": {
            "text/plain": [
              "array([[-0.82456484, -0.41597356],\n",
              "       [ 0.56576746, -0.90937671]])"
            ]
          },
          "metadata": {},
          "execution_count": 49
        }
      ]
    },
    {
      "cell_type": "code",
      "source": [
        "for i in range(len(revals)):\n",
        "     l = revals[i]\n",
        "     #v = revecs[i]\n",
        "     v = revecs.T[i]\n",
        "     #v = revecs.conj()[i]     \n",
        "     print(\"i =\",i+1,\" |A@v_i-l_i*v_i| =\",linalg.norm(A@v - l*v))"
      ],
      "metadata": {
        "colab": {
          "base_uri": "https://localhost:8080/"
        },
        "id": "-sSdnYw689gG",
        "outputId": "979ad664-6e79-4467-efbe-04c8d5adce1a"
      },
      "execution_count": null,
      "outputs": [
        {
          "output_type": "stream",
          "name": "stdout",
          "text": [
            "i = 1  |A@v_i-l_i*v_i| = 5.551115123125783e-17\n",
            "i = 2  |A@v_i-l_i*v_i| = 4.440892098500626e-16\n"
          ]
        }
      ]
    },
    {
      "cell_type": "code",
      "source": [
        "# 5.d)\n",
        "levals,levecs = linalg.eig(A, left=True, right=False)"
      ],
      "metadata": {
        "id": "cvJPND4n8OcT"
      },
      "execution_count": null,
      "outputs": []
    },
    {
      "cell_type": "code",
      "source": [
        "# 5.e)\n",
        "for i in range(len(levals)):\n",
        "     m = levals[i]\n",
        "     #u = levecs[i]     \n",
        "     u = levecs.T[i]\n",
        "     #u = levecs.conj()[i]     \n",
        "     print(\"i =\",i+1,\" |u_i@A-m_i*u_i| =\",linalg.norm(u@A - m*u))"
      ],
      "metadata": {
        "colab": {
          "base_uri": "https://localhost:8080/"
        },
        "id": "zkxwqrbH86hp",
        "outputId": "e7e6f919-4bdf-47ea-a3a2-7d5fa3c136cc"
      },
      "execution_count": null,
      "outputs": [
        {
          "output_type": "stream",
          "name": "stdout",
          "text": [
            "i = 1  |u_i@A-m_i*u_i| = 5.551115123125783e-17\n",
            "i = 2  |u_i@A-m_i*u_i| = 8.881784197001252e-16\n"
          ]
        }
      ]
    },
    {
      "cell_type": "code",
      "source": [],
      "metadata": {
        "id": "UtmXxYxeM16a"
      },
      "execution_count": null,
      "outputs": []
    },
    {
      "cell_type": "markdown",
      "source": [
        "## **Ejercicio 6)** Singular Value Decomposition (SVD)\n",
        "\n",
        "Una matriz compleja $A$ de dimensiones $n\\times m$ se la puede pensar como una transformación lineal $A:V\\to W$ desde un espacio vectorial $V$ de dimensión $m$ a un espacio vectorial $W$ de dimensión $n$. \n",
        "A $V$ se lo suele llamar espacio de salida y a $W$ espacio de llegada.\n",
        "\n",
        "Cualquiera sea $A$, siempre existen matrices $L$, $D$ y $R$, de dimensiones $n\\times n$, $n\\times m$ y $m\\times m$, respectivamente, tales que $U$ y $V$ son unitarias, $S$ es diagonal y\n",
        "\n",
        "\\begin{eqnarray}\n",
        "A = LDR^{\\dagger} \\;\\;\\;\\; (1)\n",
        "\\end{eqnarray}\n",
        "\n",
        "Los valores diagonales\n",
        "\n",
        "\\begin{eqnarray}\n",
        "\\sigma_i := D_{ii}\n",
        "\\end{eqnarray}\n",
        "\n",
        "están definidos para todo $i\\in \\{1,...,k\\}$, donde $k=\\min(n,m)$,\n",
        "se los denomina valores singulares de $A$, son todos reales, no-negativos y se los suele ordenar de mayor a menor, i.e. $\\sigma_1\\geq \\sigma_2 \\geq ... \\geq \\sigma_k\\geq 0$. \n",
        "El número de valores singulares no nulos es el rango de $A$.\n",
        "\n",
        "Los vectores columna $l_1,...,l_n$ de $L$ forman una base ortonormal del espacio vectorial de llegada $W$.\n",
        "Los vectores columna $r_1,...,r_m$ de $R$ forman una base ortonormal del espacio vectorial de salida $V$.\n",
        "Usando estas propiedades, la ecuación $(1)$ puede reescribirse como\n",
        "\n",
        "\\begin{eqnarray}\n",
        "A = \\sum_{i=1}^k \\sigma_i \\, (l_i \\otimes r_i^{\\dagger}) \\;\\;\\;\\; (2)\n",
        "\\end{eqnarray}\n",
        "\n",
        "donde $l_i \\otimes r_i^{\\dagger}$ es la matriz de dimensiones $n\\times m$ resultante del producto de Kronecker entre la matriz $l_i$ de dimensiones $n\\times 1$ y la matriz $r_i^{\\dagger}$ de dimensiones $1\\times m$.\n",
        "\n",
        "Referencias:\n",
        "\n",
        "* https://en.wikipedia.org/wiki/Singular_value_decomposition\n",
        "* https://docs.scipy.org/doc/scipy/reference/generated/scipy.linalg.svd.html#scipy.linalg.svd\n",
        "\n",
        "**a)** Cree una matriz compleja $A$ de dimensiones $n\\times m$ con $n=9$ y $m=6$, cuyas entradas $a_{ij} = x_{ij} + i y_{ij}$ se computen generando números aleatorios $x_{ij}$ e $y_{ij}$ a partir de una distribución normal de media 0 y varianza 1.\n",
        "\n",
        "**b)** Use `linalg.svd()` para calcular la SVD de $A$. Dicha función retorna 3 arrays, digamos `L`, `s` y `Rc`, donde `L` denota a la matriz $L$, `s` denota al vector de valores singulares $(\\sigma_1,\\sigma_2,...,\\sigma_k)$ y `Rc` denota a la matriz compleja conjugada $R^{\\dagger}$.\n",
        "Inspeccione las dimensiones de los arrays retornados.\n",
        "\n",
        "**c)** Use el vector `s` para crear la matriz diagonal $D$ de dimensiones $n\\times m$.\n",
        "\n",
        "**d)** Use `np.allclose()` para verificar numéricamente la ecuación $(1)$."
      ],
      "metadata": {
        "id": "hJq6cMug_8WP"
      }
    },
    {
      "cell_type": "code",
      "source": [
        "# 6.a)\n",
        "n,m = 9, 6\n",
        "A = np.random.randn(n,m) + 1.j*np.random.randn(n,m)"
      ],
      "metadata": {
        "id": "0pUK7GdhAQBy"
      },
      "execution_count": null,
      "outputs": []
    },
    {
      "cell_type": "code",
      "source": [
        "# 6.b)\n",
        "L,s,Rc = linalg.svd(A)"
      ],
      "metadata": {
        "id": "5hHEZHIFYTmC"
      },
      "execution_count": null,
      "outputs": []
    },
    {
      "cell_type": "code",
      "source": [
        "L.shape,s.shape,Rc.shape"
      ],
      "metadata": {
        "id": "CJlv5t_nWvB5",
        "colab": {
          "base_uri": "https://localhost:8080/"
        },
        "outputId": "58352f42-4f91-4b54-852f-1fe41350e96d"
      },
      "execution_count": null,
      "outputs": [
        {
          "output_type": "execute_result",
          "data": {
            "text/plain": [
              "((9, 9), (6,), (6, 6))"
            ]
          },
          "metadata": {},
          "execution_count": 5
        }
      ]
    },
    {
      "cell_type": "code",
      "source": [
        "# 6.c)\n",
        "D = np.zeros((n,m))\n",
        "k=min(n,m)\n",
        "for i in range(k):\n",
        "    D[i,i] = s[i]"
      ],
      "metadata": {
        "id": "4uGDC1hRVYuC"
      },
      "execution_count": null,
      "outputs": []
    },
    {
      "cell_type": "code",
      "source": [
        "# 6.d)\n",
        "np.allclose(A,L@D@Rc)"
      ],
      "metadata": {
        "id": "KBh-w_SHZVB2",
        "colab": {
          "base_uri": "https://localhost:8080/"
        },
        "outputId": "57e0eb36-d5b9-4657-c964-d660da4694a6"
      },
      "execution_count": null,
      "outputs": [
        {
          "output_type": "execute_result",
          "data": {
            "text/plain": [
              "True"
            ]
          },
          "metadata": {},
          "execution_count": 7
        }
      ]
    },
    {
      "cell_type": "code",
      "source": [
        "# 6.e) Forma compacta de la SVD\n",
        "cL,s,cRc = linalg.svd(A,full_matrices=False)\n",
        "cL.shape,s.shape,cRc.shape"
      ],
      "metadata": {
        "colab": {
          "base_uri": "https://localhost:8080/"
        },
        "id": "hAyTEcHGVb67",
        "outputId": "c78bdd00-75c8-44b3-f118-fa5baefdf278"
      },
      "execution_count": null,
      "outputs": [
        {
          "output_type": "execute_result",
          "data": {
            "text/plain": [
              "((9, 6), (6,), (6, 6))"
            ]
          },
          "metadata": {},
          "execution_count": 80
        }
      ]
    },
    {
      "cell_type": "code",
      "source": [
        "D = np.diag(s)\n",
        "np.allclose(A,cL@D@cRc)"
      ],
      "metadata": {
        "colab": {
          "base_uri": "https://localhost:8080/"
        },
        "id": "JgM0MnzNXT8u",
        "outputId": "f24a6533-1c20-44a9-b9bc-a56c2a1772a3"
      },
      "execution_count": null,
      "outputs": [
        {
          "output_type": "execute_result",
          "data": {
            "text/plain": [
              "True"
            ]
          },
          "metadata": {},
          "execution_count": 81
        }
      ]
    },
    {
      "cell_type": "code",
      "source": [
        "# 6.f) Cálculo de los valores singulares, únicamente.\n",
        "np.allclose(s,linalg.svd(A,compute_uv=False))"
      ],
      "metadata": {
        "colab": {
          "base_uri": "https://localhost:8080/"
        },
        "id": "CbQHYSoXVe64",
        "outputId": "d6f1d51c-06e5-406a-8cd0-fcc5a84e04ac"
      },
      "execution_count": null,
      "outputs": [
        {
          "output_type": "execute_result",
          "data": {
            "text/plain": [
              "True"
            ]
          },
          "metadata": {},
          "execution_count": 82
        }
      ]
    }
  ]
}