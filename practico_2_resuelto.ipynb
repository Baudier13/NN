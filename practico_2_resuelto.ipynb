{
  "nbformat": 4,
  "nbformat_minor": 0,
  "metadata": {
    "colab": {
      "provenance": [],
      "collapsed_sections": [],
      "include_colab_link": true
    },
    "kernelspec": {
      "name": "python3",
      "display_name": "Python 3"
    },
    "language_info": {
      "name": "python"
    }
  },
  "cells": [
    {
      "cell_type": "markdown",
      "metadata": {
        "id": "view-in-github",
        "colab_type": "text"
      },
      "source": [
        "<a href=\"https://colab.research.google.com/github/Baudier13/NN/blob/main/practico_2_resuelto.ipynb\" target=\"_parent\"><img src=\"https://colab.research.google.com/assets/colab-badge.svg\" alt=\"Open In Colab\"/></a>"
      ]
    },
    {
      "cell_type": "markdown",
      "source": [
        "# Familiarizandose con **Numpy**\n",
        "\n",
        "Referencias:\n",
        "* https://www.datacamp.com/cheat-sheet/numpy-cheat-sheet-data-analysis-in-python\n",
        "* https://towardsdatascience.com/a-cheat-sheet-on-generating-random-numbers-in-numpy-5fe95ec2286\n",
        "\n",
        "## **Ejercicio 1)** Importando librerías\n",
        "\n",
        "Importe las librerías `numpy` para operar con arrays, `scipy` para operar con algebra lineal y `matplotlib.pyplot` para graficar."
      ],
      "metadata": {
        "id": "NRYEofSD0xoF"
      }
    },
    {
      "cell_type": "code",
      "source": [
        "import numpy as np\n",
        "import scipy as sp\n",
        "import matplotlib.pyplot as plt"
      ],
      "metadata": {
        "id": "I8N3D_nU1_oT"
      },
      "execution_count": null,
      "outputs": []
    },
    {
      "cell_type": "markdown",
      "source": [
        "## **Ejercicio 2)** Creando arrays\n",
        "\n",
        "**a)** Cree un array de enteros `a` a partir de la lista `[1,2,3]`.\n",
        "\n",
        "**b)** Cree un array bidimensional de flotantes `b` a partir de la lista de listas `[[1.5,2,3],[4,5,6]]`.\n",
        "\n",
        "**c)** Cree un array tridimensional de flotantes `b` a partir de la lista de listas `[[[1.5,2,3],[4,5,6]],[[3,2,1],[4,5,6]]]`."
      ],
      "metadata": {
        "id": "NcaGEHAd10sb"
      }
    },
    {
      "cell_type": "code",
      "source": [
        "# 2.a)\n",
        "a = np.array([1,2,3])\n",
        "# 2.b)\n",
        "b = np.array([[1.5,2,3],[4,5,6]], dtype = float)\n",
        "# 2.c)\n",
        "c = np.array([[[1.5,2,3],[4,5,6]],[[3,2,1],[4,5,6]]], dtype = float)"
      ],
      "metadata": {
        "id": "kmcjSK0BCua3"
      },
      "execution_count": null,
      "outputs": []
    },
    {
      "cell_type": "code",
      "source": [
        "c"
      ],
      "metadata": {
        "colab": {
          "base_uri": "https://localhost:8080/"
        },
        "id": "AqCxkpZqQ9Bb",
        "outputId": "1b786536-1f81-4288-a13b-110110f9d9a4"
      },
      "execution_count": null,
      "outputs": [
        {
          "output_type": "execute_result",
          "data": {
            "text/plain": [
              "array([[[1.5, 2. , 3. ],\n",
              "        [4. , 5. , 6. ]],\n",
              "\n",
              "       [[3. , 2. , 1. ],\n",
              "        [4. , 5. , 6. ]]])"
            ]
          },
          "metadata": {},
          "execution_count": 4
        }
      ]
    },
    {
      "cell_type": "markdown",
      "source": [
        "## **Ejercicio 3)** Inicializamdo arrays\n",
        "\n",
        "**a)** Utilice `np.zeros` para crear un array bidimensional de flotantes incializados a `0.0`, y de dimensiones de tamaños `(3,4)`.\n",
        "\n",
        "**b)** Utilice `np.ones` para crear un array tridimensional de enteros inicializados a `1`, y de dimensiones `(2,3,4)`.\n",
        "\n",
        "**c)** Utilice `np.arange` para crear un array `d` de valores enteros equiespaciados de a `5` entre `10` y `25`.\n",
        "\n",
        "**d)** Utilice `np.linspace` para crear un array de `9` valores flotantes equiespaciados entre `0.0` y `9.0`.\n",
        "\n",
        "**e)** Utilice `np.full` para crear un array bidimensional de entradas iguales a `7`, y de dimesiones `(2,2)`.\n",
        "\n",
        "**f)** Utilice `np.eye` para crear una matriz identidad de dimensiones 2x2.\n",
        "\n",
        "**g)** Utilice `np.random.random` para crear un array bidimensional de dimensiones 2x2 inicializado con valores aleatorios uniformemente sorteados del intervalo $[0,1]$.\n",
        "\n",
        "**h)** Utilice `np.empty` para crear un array bidimensional sin inicializar y de dimensiones `(3,2)`.\n"
      ],
      "metadata": {
        "id": "qxuzt1pLQAzE"
      }
    },
    {
      "cell_type": "code",
      "source": [
        "# 3.a)\n",
        "np.zeros((3,4)) #Create an array of zeros\n",
        "# 3.b)\n",
        "np.ones((2,3,4),dtype=np.int16) #Create an array of ones\n",
        "# 3.c)\n",
        "d = np.arange(10,25,5)#Create an array of evenly spaced values (step value)\n",
        "# 3.d)\n",
        "np.linspace(0,2,9) #Create an array of evenlyspaced values (number of samples)\n",
        "# 3.e)\n",
        "e = np.full((2,2),7)#Create a constant array\n",
        "# 3.f)\n",
        "f = np.eye(2) #Create a 2X2 identity matrix\n",
        "# 3.g)\n",
        "np.random.random((2,2)) #Create an array with random values\n",
        "# 3.h)\n",
        "np.empty((3,2)) #Create an empty array"
      ],
      "metadata": {
        "colab": {
          "base_uri": "https://localhost:8080/"
        },
        "id": "am2dMRPnC0BJ",
        "outputId": "bdb2ae6b-70af-46a6-d0f6-ab86a367be36"
      },
      "execution_count": null,
      "outputs": [
        {
          "output_type": "execute_result",
          "data": {
            "text/plain": [
              "array([[1.39069238e-309, 1.39069238e-309],\n",
              "       [1.39069238e-309, 1.39069238e-309],\n",
              "       [1.39069238e-309, 1.39069238e-309]])"
            ]
          },
          "metadata": {},
          "execution_count": 5
        }
      ]
    },
    {
      "cell_type": "markdown",
      "source": [
        "## **Ejercicio 4)** Inspeccionando arrays\n",
        "\n",
        "Considere los arrays de los ejercicios 2) y 3).\n",
        "\n",
        "**a)** Utilizando `.shape`, determine cuales son las dimensiones del array `a`.\n",
        "\n",
        "**b)** Utilizando la función `len()`, determine el *largo* del array `a`.\n",
        "\n",
        "**c)** Utilizando `.ndim`, determine el número de dimensiones del array `b`.\n",
        "\n",
        "**d)** Utilizando `.size`, determine el número de entradas que tienen `e`.\n",
        "\n",
        "**e)** Utilizando `.dtype`, determine el tipo de los datos contenidos por el array `b`.\n",
        "\n",
        "**f)** Utilizando `.dtype.name`, determine el nombre del tipo de los datos contenidos por el array `b`.\n",
        "\n",
        "**g)** Utilizando `.astype`, convierta el array `b` a un array de tipo `int`.\n",
        "\n"
      ],
      "metadata": {
        "id": "XYA7TEySCIF6"
      }
    },
    {
      "cell_type": "code",
      "source": [
        "# 4.a)\n",
        "a.shape #Array dimensions\n",
        "# 4.b)\n",
        "len(a)#Length of array\n",
        "# 4.c)\n",
        "b.ndim #Number of array dimensions\n",
        "# 4.d)\n",
        "e.size #Number of array elements\n",
        "# 4.e)\n",
        "b.dtype  #Data type of array elements\n",
        "# 4.f)\n",
        "b.dtype.name  #Name of data type\n",
        "# 4.g)\n",
        "b.astype(int) #Convert an array to a different type"
      ],
      "metadata": {
        "id": "3w4J3xLLR8J2",
        "colab": {
          "base_uri": "https://localhost:8080/"
        },
        "outputId": "178d1128-5304-4099-83ff-14dc3fd7a0c4"
      },
      "execution_count": null,
      "outputs": [
        {
          "output_type": "execute_result",
          "data": {
            "text/plain": [
              "array([[1, 2, 3],\n",
              "       [4, 5, 6]])"
            ]
          },
          "metadata": {},
          "execution_count": 6
        }
      ]
    },
    {
      "cell_type": "markdown",
      "source": [
        "## **Ejercicio 5)** Tipos de datos\n",
        "\n",
        "**a)** Cree un array que contenga elementos de tipo `np.int64`.\n",
        "\n",
        "**b)** Cree un array que contenga elementos de tipo `np.float32`.\n",
        "\n",
        "**c)** Cree un array que contenga elementos de tipo `np.complex128`.\n",
        "\n",
        "**d)** Cree un array que contenga elementos de tipo `np.bool`.\n",
        "\n",
        "**e)** Cree un array que contenga elementos de tipo `np.object`.\n",
        "\n",
        "**f)** Cree un array que contenga elementos de tipo `np.string_`.\n",
        "\n",
        "**g)** Cree un array que contenga elementos de tipo `np.unicode_`."
      ],
      "metadata": {
        "id": "NIvk_fOTpihu"
      }
    },
    {
      "cell_type": "code",
      "source": [
        "# 5.a)\n",
        "np.array([1,2,3],dtype=np.int64)\n",
        "# 5.b)\n",
        "np.array([1,2,3],dtype=np.float32)\n",
        "# 5.c)\n",
        "np.array([1+3.j,2,3],dtype=complex)\n",
        "# 5.d)\n",
        "np.array([1,0,1],dtype=bool)\n",
        "# 5.e)\n",
        "np.array([1,\"hola\",[3,4]],dtype=object)\n",
        "# 5.f)\n",
        "np.array([\"hola\",\"mundo\",\"argentina\"],dtype=np.string_)\n",
        "# 5.g)\n",
        "np.array([\"hola\",\"mundo\",'😀',u'\\u03bcm'],dtype=np.unicode_)"
      ],
      "metadata": {
        "colab": {
          "base_uri": "https://localhost:8080/"
        },
        "id": "1MHRaUbvpjTl",
        "outputId": "6fbff324-90fd-42ba-c51c-3c1721cebba8"
      },
      "execution_count": null,
      "outputs": [
        {
          "output_type": "execute_result",
          "data": {
            "text/plain": [
              "array(['hola', 'mundo', '😀', 'μm'], dtype='<U5')"
            ]
          },
          "metadata": {},
          "execution_count": 7
        }
      ]
    },
    {
      "cell_type": "markdown",
      "source": [
        "## **Ejercicio 6)** Operando sobre arrays\n",
        "\n",
        "Considere los arrays de los ejercicios 2) y 3).\n",
        "\n",
        "**a)** Calcule la resta `a-b` de los arrays `a` y `b` y almacene el resultado en un array `g`.\n",
        "\n",
        "**b)** Notar que `a` y `b` poseen diferentes dimensiones (i.e., `a.shape` es distinto de `b.shape`) y, sin embargo, en el inciso anterior numpy computa la suma `a+b`. Explique lo que ocurre.\n",
        "\n",
        "**c)** Compare el anterior resultado con el uso de `np.substract`.\n",
        "\n",
        "**d)** Calcule la suma `a-b` de los arrays `a` y `b`.\n",
        "\n",
        "**e)** Compare el anterior resultado con el uso de `np.add`.\n",
        "\n",
        "**f)** Calcule la división punto a punto  `a/b` de `a` y `b`.\n",
        "\n",
        "**g)** Compare el anterior resultado con el uso de `np.divide`.\n",
        "\n",
        "**h)** Calcule la multiplicación punto a punto  `a*b` de `a` y `b`.\n",
        "\n",
        "**i)** Compare el anterior resultado con el uso de `np.multiply`.\n",
        "\n",
        "**j)** Calcule la exponencial punto a punto  `np.exp(b)` de `b`.\n",
        "\n",
        "**k)** Calcule la raíz cuadrada punto a punto  `np.sqrt(b)` de `b`.\n",
        "\n",
        "**l)** Calcule el seno punto a punto  `np.sin(a)` de `a`.\n",
        "\n",
        "**m)** Calcule el coseno punto a punto  `np.sin(b)` de `b`.\n",
        "\n",
        "**n)** Calcule el logaritmo natural punto a punto  `np.log(a)` de `a`.\n",
        "\n",
        "**o)** Calcule el producto punto `e.dot(f)` entre `e` y `f`.\n",
        "\n",
        "**p)** Compare el anterior resultado con el uso de `np.dot`.\n",
        "\n",
        "**q)** Explique las diferentes opciones que puede adoptar el producto punto de numpy según el número de dimensiones que tengan sus factores.\n",
        "\n",
        "Ayuda: use https://numpy.org/doc/stable/reference/generated/numpy.dot.html"
      ],
      "metadata": {
        "id": "DKT4mjnssUjE"
      }
    },
    {
      "cell_type": "code",
      "source": [
        "# 6.a)\n",
        "g = a - b #Subtraction"
      ],
      "metadata": {
        "id": "S0j5b3fiSZ1U"
      },
      "execution_count": null,
      "outputs": []
    },
    {
      "cell_type": "markdown",
      "source": [
        "###  Rta. 6.b)\n",
        "\n",
        "Explicarlo en la pizarra. Mirar:\n",
        "\n",
        "   https://numpy.org/doc/stable/reference/generated/numpy.add.html\n",
        "\n",
        "   https://www.yaohong.vip/post/python/numpyadd/"
      ],
      "metadata": {
        "id": "y2hjdLNUScxr"
      }
    },
    {
      "cell_type": "code",
      "source": [
        "# 6.c)\n",
        "np.subtract(a,b) #Subtraction\n",
        "# 6.d)\n",
        "b + a #Addition \n",
        "# 6.e)\n",
        "np.add(b,a) #Addition \n",
        "# 6.f)\n",
        "a/b #Division \n",
        "# 6.g)\n",
        "np.divide(a,b) #Division \n",
        "# 6.h)\n",
        "a * b #Multiplication \n",
        "# 6.i)\n",
        "np.multiply(a,b) #Multiplication \n",
        "# 6.j)\n",
        "np.exp(b) #Exponentiation\n",
        "# 6.k)\n",
        "np.sqrt(b) #Square root\n",
        "# 6.l)\n",
        "np.sin(a)  #Print sines of an array\n",
        "# 6.m)\n",
        "np.cos(b) #Elementwise cosine\n",
        "# 6.n)\n",
        "np.log(a)#Elementwise natural logarithm\n",
        "# 6.o)\n",
        "e.dot(f) #Dot product \n",
        "# 6.p)\n",
        "np.dot(e,f) #Dot product "
      ],
      "metadata": {
        "colab": {
          "base_uri": "https://localhost:8080/"
        },
        "id": "CoWXWHi5qNRD",
        "outputId": "3d073b34-f42e-408d-aef5-ad8a424ab88a"
      },
      "execution_count": null,
      "outputs": [
        {
          "output_type": "execute_result",
          "data": {
            "text/plain": [
              "array([[7., 7.],\n",
              "       [7., 7.]])"
            ]
          },
          "metadata": {},
          "execution_count": 9
        }
      ]
    },
    {
      "cell_type": "markdown",
      "source": [
        " ### Rta. 6.q)\n",
        "\n",
        " Explicarlo en la pizarra"
      ],
      "metadata": {
        "id": "1CaeY-SdX_SQ"
      }
    },
    {
      "cell_type": "markdown",
      "source": [
        "## **Ejercicio 7)** Comparando arrays\n",
        "\n",
        "**a)** Use `==` para realizar una compación punto a punto de los arrays `a` y `b`.\n",
        "\n",
        "**b)** Use `<` para realizar una comparación punto a punto del array `b` con el escalar `2`.\n",
        "\n",
        "**c)** Use `np.array_equal(a,b)` para determinar si `a` y `b` son iguales como arrays."
      ],
      "metadata": {
        "id": "Jo3x-Y7WZBBu"
      }
    },
    {
      "cell_type": "code",
      "source": [
        "# 7.a)\n",
        "a == b #Elementwise comparison\n",
        "# 7.b)\n",
        "a < 2 #Elementwise comparison\n",
        "# 7.c)\n",
        "np.array_equal(a, b) #Arraywise comparison"
      ],
      "metadata": {
        "colab": {
          "base_uri": "https://localhost:8080/"
        },
        "id": "H9n8g9-GZAM6",
        "outputId": "f5a6af29-b413-44a0-ba05-f746389381dd"
      },
      "execution_count": null,
      "outputs": [
        {
          "output_type": "execute_result",
          "data": {
            "text/plain": [
              "False"
            ]
          },
          "metadata": {},
          "execution_count": 10
        }
      ]
    },
    {
      "cell_type": "markdown",
      "source": [
        "## **Ejercicio 8)** *Copiando* arrays\n",
        "\n",
        "**a)** Use `.view()` para crear una vista del array `a`.\n",
        "\n",
        "**b)** Use `.copy()` para crear una copa del array `a`."
      ],
      "metadata": {
        "id": "JUrKqiWLZScG"
      }
    },
    {
      "cell_type": "code",
      "source": [
        "# 8.a)\n",
        "h = a.view()#Create a view of the array with the same data\n",
        "# 8.b.1)\n",
        "np.copy(a) #Create a copy of the array\n",
        "# 8.b.2)\n",
        "h = a.copy() #Create a deep copy of the array"
      ],
      "metadata": {
        "id": "7bQI_mVoZRoS"
      },
      "execution_count": null,
      "outputs": []
    },
    {
      "cell_type": "markdown",
      "source": [
        "## **Ejercicio 9)** Ordenado\n",
        "\n",
        "**a)** Use `.sort()` para ordenar los elementos de `a`.\n",
        "\n",
        "**b)** Ordene los elementos de `a` a lo largo del eje `0`. Explique."
      ],
      "metadata": {
        "id": "rBJYDjW8ZZNw"
      }
    },
    {
      "cell_type": "code",
      "source": [
        "# 9.a)\n",
        "a.sort() #Sort an array\n",
        "# 9.b)\n",
        "c.sort(axis=0) #Sort the elements of an array's axis"
      ],
      "metadata": {
        "id": "UAOLCdPtZk2B"
      },
      "execution_count": null,
      "outputs": []
    },
    {
      "cell_type": "code",
      "source": [
        "z = np.array([[4,2,6],[3,1,5]])"
      ],
      "metadata": {
        "id": "hhPkPx0agHMV"
      },
      "execution_count": null,
      "outputs": []
    },
    {
      "cell_type": "code",
      "source": [
        "z"
      ],
      "metadata": {
        "colab": {
          "base_uri": "https://localhost:8080/"
        },
        "id": "OQzoh5gfhLgo",
        "outputId": "31cc459e-dea5-41ed-d4dd-41607fec0c38"
      },
      "execution_count": null,
      "outputs": [
        {
          "output_type": "execute_result",
          "data": {
            "text/plain": [
              "array([[4, 2, 6],\n",
              "       [3, 1, 5]])"
            ]
          },
          "metadata": {},
          "execution_count": 15
        }
      ]
    },
    {
      "cell_type": "code",
      "source": [
        "z.sort(axis=0)\n",
        "z"
      ],
      "metadata": {
        "colab": {
          "base_uri": "https://localhost:8080/"
        },
        "id": "Kyb1QCudgMGl",
        "outputId": "84fcbf14-d0b5-44d2-f0f4-1a3eba608ea4"
      },
      "execution_count": null,
      "outputs": [
        {
          "output_type": "execute_result",
          "data": {
            "text/plain": [
              "array([[3, 1, 5],\n",
              "       [4, 2, 6]])"
            ]
          },
          "metadata": {},
          "execution_count": 16
        }
      ]
    },
    {
      "cell_type": "code",
      "source": [
        "z.sort(axis=1)\n",
        "z"
      ],
      "metadata": {
        "colab": {
          "base_uri": "https://localhost:8080/"
        },
        "id": "RKwnE3KghKug",
        "outputId": "d624cedd-025f-4102-c330-e9e0e8fd0caf"
      },
      "execution_count": null,
      "outputs": [
        {
          "output_type": "execute_result",
          "data": {
            "text/plain": [
              "array([[1, 3, 5],\n",
              "       [2, 4, 6]])"
            ]
          },
          "metadata": {},
          "execution_count": 17
        }
      ]
    },
    {
      "cell_type": "markdown",
      "source": [
        "## **Ejercicio 10)** Indexado y *slicing* (rebanado) de arrays\n",
        "\n",
        "**a)** Seleccione el segundo elemento de `a`.\n",
        "\n",
        "**b)** Seleccione el elemento en la fila 1 y columna 2 de `b`.\n",
        "\n",
        "Si `n` y `m` son enteros, luego `[n:m]` indica el rango de índices que van desde `n` hasta `m-1`.\n",
        "\n",
        "**c)** Seleccione el rango `[0:2]` de elementos de `a`.\n",
        "\n",
        "**d)** Seleccione los elementos de `b` en el rango `[0:2]` de filas de `a` y la columna `1`.\n",
        "\n",
        "**e)** Seleccione todos los elementos de `b` que esten en el rango de filas `[0:1]` y el rango completo de columnas.\n",
        "\n",
        "**f)** Uso de *elipsis*. Seleccione los elementos de `c` indexados por `[1,...]`. Es esto lo mismo que lo indexado por `[1,:,:]`?\n",
        "\n",
        "Si `n`, `m` y `s` son enteros, luego `[n:m:s]` indica el rango de índices que van desde `n` hasta `m-1` saltando de a `s` elementos.\n",
        "\n",
        "**g)** Utilice lo mencionado anteriormente para acceder a los elementos de `a` de forma invertida.\n",
        "\n",
        "**h)** Seleccione los elementos de `a` que sean menores que dos. \n",
        "\n",
        "**i)** Seleccione los elementos de `b` indicados por la lista de índices `[(1,0),(0,1),(1,2),(0,0)]` utilizando, correspondientemente, una lista de indices fila y una lista de índices columna.\n",
        "\n",
        "**j)** Utilizando una lista de indices fila, seleccione las filas `1,0,1,0` de `b`, y luego, para cada selección anterior, utilice una lista de índices columna para seleccionar las columnas `0,1,2,0`."
      ],
      "metadata": {
        "id": "eLeebs0YZlLK"
      }
    },
    {
      "cell_type": "code",
      "source": [
        "z = [1,2,3,4,5,6,7,8,9]\n",
        "z[::-2]"
      ],
      "metadata": {
        "colab": {
          "base_uri": "https://localhost:8080/"
        },
        "id": "KBHlpAJnoOWh",
        "outputId": "348f28ab-1638-4132-acb1-719cd72308d0"
      },
      "execution_count": null,
      "outputs": [
        {
          "output_type": "execute_result",
          "data": {
            "text/plain": [
              "[9, 7, 5, 3, 1]"
            ]
          },
          "metadata": {},
          "execution_count": 18
        }
      ]
    },
    {
      "cell_type": "code",
      "source": [
        "# 10.a)\n",
        "a[2] #Select the element at the 2nd index\n",
        "# 10.b)\n",
        "b[1,2] #Select the element at row 1 column 2(equivalent to b[1][2])\n",
        "\n",
        "# 10.c)\n",
        "a[0:2]#Select items at index 0 and 1\n",
        "# 10.d)\n",
        "b[0:2,1] #Select items at rows 0 and 1 in column 1\n",
        "# 10.e)\n",
        "b[:1] #Select all items at row0(equivalent to b[0:1, :])\n",
        "# 10.f)\n",
        "c[1,...] #Same as[1,:,:]\n",
        "# 10.g)\n",
        "a[ : : -1] #Reversed array a array([3, 2, 1])\n",
        "\n",
        "# 10.h)\n",
        "a[a<2] #Select elements from a less than 2\n",
        "\n",
        "# 10.i)\n",
        "b[[1,0,1, 0],[0,1, 2, 0]] #Select elements(1,0),(0,1),(1,2) and (0,0)\n",
        "# 11.j)\n",
        "b[[1,0,1, 0]][:,[0,1,2,0]] #Select a subset of the matrix’s rows and columns"
      ],
      "metadata": {
        "colab": {
          "base_uri": "https://localhost:8080/"
        },
        "id": "DKfWU3ABZrO6",
        "outputId": "96909fb3-774a-4adc-dc0b-f3612aea538f"
      },
      "execution_count": null,
      "outputs": [
        {
          "output_type": "execute_result",
          "data": {
            "text/plain": [
              "array([[4. , 5. , 6. , 4. ],\n",
              "       [1.5, 2. , 3. , 1.5],\n",
              "       [4. , 5. , 6. , 4. ],\n",
              "       [1.5, 2. , 3. , 1.5]])"
            ]
          },
          "metadata": {},
          "execution_count": 19
        }
      ]
    },
    {
      "cell_type": "markdown",
      "source": [
        "## **Ejercicio 11)** transposición\n",
        "\n",
        "**a)** Use `np.transpose()` para calcular la traspuesta del array `b`, y asignarlo a una variable `i`.\n",
        "\n",
        "**b)** Use `.T` para acceder a `i` de forma traspuesta. Es esta forma traspuesta igual a `b`?"
      ],
      "metadata": {
        "id": "ElU003n_Z21x"
      }
    },
    {
      "cell_type": "code",
      "source": [
        "# 11.a)\n",
        "i = np.transpose(b) #Permute array dimensions\n",
        "# 11.b)\n",
        "i.T #Permute array dimensions"
      ],
      "metadata": {
        "colab": {
          "base_uri": "https://localhost:8080/"
        },
        "id": "PdUyQZaibDQk",
        "outputId": "45ab149c-7c23-42a8-fbd2-e9ff62d2249a"
      },
      "execution_count": null,
      "outputs": [
        {
          "output_type": "execute_result",
          "data": {
            "text/plain": [
              "array([[1.5, 2. , 3. ],\n",
              "       [4. , 5. , 6. ]])"
            ]
          },
          "metadata": {},
          "execution_count": 20
        }
      ]
    },
    {
      "cell_type": "markdown",
      "source": [
        "## **Ejercicio 12)** Redimensionado\n",
        "\n",
        "**a)** Use `.ravel()` para *achatar* el array `b`.\n",
        "\n",
        "**b)** Use `.reshape()` para redimensionar el array `g` de manera que adquiera dimensiones especificadas por la tupla `(3,-2)`. \n",
        "\n",
        "**c)** Que indica aquí el signo negativo del segundo índice?"
      ],
      "metadata": {
        "id": "QIaiu19baXiQ"
      }
    },
    {
      "cell_type": "code",
      "source": [
        "# 12.a)\n",
        "b.ravel() #Flatten the array\n",
        "# 12.b)\n",
        "g.reshape(3, -1) #Reshape, but don’t change data"
      ],
      "metadata": {
        "colab": {
          "base_uri": "https://localhost:8080/"
        },
        "id": "3f1juN38aUiO",
        "outputId": "dc69f7c5-d352-48d7-9799-b3be7a39a150"
      },
      "execution_count": null,
      "outputs": [
        {
          "output_type": "execute_result",
          "data": {
            "text/plain": [
              "array([[-0.5,  0. ],\n",
              "       [ 0. , -3. ],\n",
              "       [-3. , -3. ]])"
            ]
          },
          "metadata": {},
          "execution_count": 21
        }
      ]
    },
    {
      "cell_type": "code",
      "source": [
        "# 12.c) Un sólo índice negativo indica usar el tamaño que que falta en la \n",
        "# dimensión correspondiente para completar el tamaño total del array.\n",
        "z = np.array([[1,2,3],[4,5,6]])\n",
        "z"
      ],
      "metadata": {
        "colab": {
          "base_uri": "https://localhost:8080/"
        },
        "id": "UOTtNgshsa2V",
        "outputId": "a60b13a1-ce52-4726-f68b-1af33b8ab8ee"
      },
      "execution_count": null,
      "outputs": [
        {
          "output_type": "execute_result",
          "data": {
            "text/plain": [
              "array([[1, 2, 3],\n",
              "       [4, 5, 6]])"
            ]
          },
          "metadata": {},
          "execution_count": 22
        }
      ]
    },
    {
      "cell_type": "code",
      "source": [
        "z.shape"
      ],
      "metadata": {
        "colab": {
          "base_uri": "https://localhost:8080/"
        },
        "id": "s5E4KR5rsoCM",
        "outputId": "1b4fe539-c151-409e-8e54-1db7e0df467c"
      },
      "execution_count": null,
      "outputs": [
        {
          "output_type": "execute_result",
          "data": {
            "text/plain": [
              "(2, 3)"
            ]
          },
          "metadata": {},
          "execution_count": 23
        }
      ]
    },
    {
      "cell_type": "code",
      "source": [
        "z.reshape(3,-2)"
      ],
      "metadata": {
        "colab": {
          "base_uri": "https://localhost:8080/"
        },
        "id": "ftIfZ-yYsULT",
        "outputId": "b9758a28-3113-4e86-84cf-852775f9ac6d"
      },
      "execution_count": null,
      "outputs": [
        {
          "output_type": "execute_result",
          "data": {
            "text/plain": [
              "array([[1, 2],\n",
              "       [3, 4],\n",
              "       [5, 6]])"
            ]
          },
          "metadata": {},
          "execution_count": 24
        }
      ]
    },
    {
      "cell_type": "code",
      "source": [
        "z.reshape(-3,2)"
      ],
      "metadata": {
        "colab": {
          "base_uri": "https://localhost:8080/"
        },
        "id": "SK8Ykgxzse1M",
        "outputId": "9f384eaf-0c33-4dda-bfe4-e45798d5a228"
      },
      "execution_count": null,
      "outputs": [
        {
          "output_type": "execute_result",
          "data": {
            "text/plain": [
              "array([[1, 2],\n",
              "       [3, 4],\n",
              "       [5, 6]])"
            ]
          },
          "metadata": {},
          "execution_count": 25
        }
      ]
    },
    {
      "cell_type": "code",
      "source": [
        "w = np.array([[[1,2,3],[4,5,6]],[[7,8,9],[10,11,12]],[[13,14,15],[16,17,18]]])\n",
        "w"
      ],
      "metadata": {
        "colab": {
          "base_uri": "https://localhost:8080/"
        },
        "id": "DBECJwqLtgzs",
        "outputId": "22f69260-7403-43ae-91c7-5ca744eed3a5"
      },
      "execution_count": null,
      "outputs": [
        {
          "output_type": "execute_result",
          "data": {
            "text/plain": [
              "array([[[ 1,  2,  3],\n",
              "        [ 4,  5,  6]],\n",
              "\n",
              "       [[ 7,  8,  9],\n",
              "        [10, 11, 12]],\n",
              "\n",
              "       [[13, 14, 15],\n",
              "        [16, 17, 18]]])"
            ]
          },
          "metadata": {},
          "execution_count": 26
        }
      ]
    },
    {
      "cell_type": "code",
      "source": [
        "w.shape"
      ],
      "metadata": {
        "colab": {
          "base_uri": "https://localhost:8080/"
        },
        "id": "ba3znNzAts2y",
        "outputId": "a204ba83-76e0-4d61-d7ad-a7f9fd7a5962"
      },
      "execution_count": null,
      "outputs": [
        {
          "output_type": "execute_result",
          "data": {
            "text/plain": [
              "(3, 2, 3)"
            ]
          },
          "metadata": {},
          "execution_count": 27
        }
      ]
    },
    {
      "cell_type": "code",
      "source": [
        "w.reshape(-1,3,2)"
      ],
      "metadata": {
        "colab": {
          "base_uri": "https://localhost:8080/"
        },
        "id": "DAMejr0itvV6",
        "outputId": "3cf17a12-ca19-42a1-c763-30dd83c89cfc"
      },
      "execution_count": null,
      "outputs": [
        {
          "output_type": "execute_result",
          "data": {
            "text/plain": [
              "array([[[ 1,  2],\n",
              "        [ 3,  4],\n",
              "        [ 5,  6]],\n",
              "\n",
              "       [[ 7,  8],\n",
              "        [ 9, 10],\n",
              "        [11, 12]],\n",
              "\n",
              "       [[13, 14],\n",
              "        [15, 16],\n",
              "        [17, 18]]])"
            ]
          },
          "metadata": {},
          "execution_count": 28
        }
      ]
    },
    {
      "cell_type": "code",
      "source": [
        "#w.reshape(-1,-1,2)"
      ],
      "metadata": {
        "id": "ppk1HY2Ytz8h"
      },
      "execution_count": null,
      "outputs": []
    },
    {
      "cell_type": "markdown",
      "source": [
        "## **Ejercicio 13)** Agregando y quitando elementos\n",
        "\n",
        "**a)** Use `np.resize()` para crear a partir del array `h` un nuevo array de tamaño y dimensiones diferentes indicadas por `(2,6)`.\n",
        "\n",
        "**b)** Use `np.append()` para crear un nuevo array que agrege los elementos de `g` al final de los elementos de `h`. Notar que `h` y `g` tienen diferentes dimensiones. Cómo resuelve `numpy` esta cuestión?\n",
        "\n",
        "**c)** Use `np.insert()` para crear una copia de `a` en donde se inserta el número `5` en la posición indexada por `1`.\n",
        "\n",
        "**d)** Use `np.delete()` para eliminar los elementos de `a` indicados por la lista de índices `[1]`."
      ],
      "metadata": {
        "id": "-NfN6hr4afE9"
      }
    },
    {
      "cell_type": "code",
      "source": [
        "# 13.a)\n",
        "np.resize(h,(2,6)) #Return a new arraywith shape(2,6)\n",
        "# 13.b)\n",
        "np.append(h,g) #Append items to an array\n",
        "# 13.c)\n",
        "np.insert(a,1,5)  #Insert items in an array\n",
        "# 13.d)\n",
        "np.delete(a,[1])  #Delete items from an array"
      ],
      "metadata": {
        "colab": {
          "base_uri": "https://localhost:8080/"
        },
        "id": "eHAdt7bUaRN2",
        "outputId": "b6faf8c0-ee99-4228-ea48-387f855bdc5c"
      },
      "execution_count": null,
      "outputs": [
        {
          "output_type": "execute_result",
          "data": {
            "text/plain": [
              "array([1, 3])"
            ]
          },
          "metadata": {},
          "execution_count": 30
        }
      ]
    },
    {
      "cell_type": "markdown",
      "source": [
        "## **Ejercicio 14)** Combinando arrays\n",
        "\n",
        "**a)** Use `np.concatenate()` para concatenar los arrays `a` y `d`.\n",
        "\n",
        "**b)** Use `np.vstack()` para apilar verticalmente los arrays `a` y `b`.\n",
        "\n",
        "**c)** Use `np.row_stack()` para apilar verticalmente los arrays `e` y `f`.\n",
        "\n",
        "**d)** Use `np.hstack()` para apilar horizontalmente los arrays `e` y `f`.\n",
        "\n",
        "**e)** Use `np.column_stack()` para apilar horizontalmente los arrays `a` y `d`."
      ],
      "metadata": {
        "id": "qtvq4B1NaRhe"
      }
    },
    {
      "cell_type": "code",
      "source": [
        "# 14.a)\n",
        "np.concatenate((a,d),axis=0) #Concatenate arrays\n",
        "# 14.b)\n",
        "np.vstack((a,b)) #Stack arrays vertically(row wise)\n",
        "# 14.c)\n",
        "np.row_stack([e,f]) #Stack arrays vertically(row wise)\n",
        "# 14.d)\n",
        "np.hstack([e,f]) #Stack arrays horizontally(column wise)\n",
        "# 14.e)\n",
        "np.column_stack((a,d)) #Create stacked column wise arrays"
      ],
      "metadata": {
        "id": "0NqrIYB3bB61"
      },
      "execution_count": null,
      "outputs": []
    },
    {
      "cell_type": "markdown",
      "source": [
        "## **Ejercicio 15)** *Separando* arrays\n",
        "\n",
        "**a)** Use `np.hsplit()` para separar horizontalmente el array `a` en 3 partes. \n",
        "\n",
        "**b)** Use `np.vsplit()` para separar verticalmente el array `c` en 2 partes.\n",
        "\n",
        "**c)** Cree el array `z` dado por \n",
        "\n",
        "  [[1, 2, 3, 4],\n",
        "   [2, 0, 0, 2],\n",
        "   [3, 1, 1, 0]]\n",
        "\n",
        "y sepárelo en dos partes a lo largo del eje `1`."
      ],
      "metadata": {
        "id": "QXtaTV8aazoG"
      }
    },
    {
      "cell_type": "code",
      "source": [
        "# 15.a)\n",
        "np.hsplit(a,3) #Split the array horizontally at the 3rd index\n",
        "# 15.b)\n",
        "np.vsplit(c,2) #Split the array vertically at the 2nd index\n",
        "# 15.c)\n",
        "# create a 2d numpy array\n",
        "z = np.array([[1, 2, 3, 4],\n",
        "              [2, 0, 0, 2],\n",
        "              [3, 1, 1, 0]])\n",
        "# split the array into 2 subarrays horizontally\n",
        "sub_arrays = np.split(arr, 2, axis=1)\n",
        "# display the sub_arrays\n",
        "sub_arrays"
      ],
      "metadata": {
        "id": "w1zDcFsua-lN",
        "colab": {
          "base_uri": "https://localhost:8080/",
          "height": 235
        },
        "outputId": "5f7e7cdd-318f-41cc-874f-dbf791df822f"
      },
      "execution_count": null,
      "outputs": [
        {
          "output_type": "error",
          "ename": "NameError",
          "evalue": "ignored",
          "traceback": [
            "\u001b[0;31m---------------------------------------------------------------------------\u001b[0m",
            "\u001b[0;31mNameError\u001b[0m                                 Traceback (most recent call last)",
            "\u001b[0;32m<ipython-input-31-61919120451d>\u001b[0m in \u001b[0;36m<module>\u001b[0;34m\u001b[0m\n\u001b[1;32m      9\u001b[0m               [3, 1, 1, 0]])\n\u001b[1;32m     10\u001b[0m \u001b[0;31m# split the array into 2 subarrays horizontally\u001b[0m\u001b[0;34m\u001b[0m\u001b[0;34m\u001b[0m\u001b[0;34m\u001b[0m\u001b[0m\n\u001b[0;32m---> 11\u001b[0;31m \u001b[0msub_arrays\u001b[0m \u001b[0;34m=\u001b[0m \u001b[0mnp\u001b[0m\u001b[0;34m.\u001b[0m\u001b[0msplit\u001b[0m\u001b[0;34m(\u001b[0m\u001b[0marr\u001b[0m\u001b[0;34m,\u001b[0m \u001b[0;36m2\u001b[0m\u001b[0;34m,\u001b[0m \u001b[0maxis\u001b[0m\u001b[0;34m=\u001b[0m\u001b[0;36m1\u001b[0m\u001b[0;34m)\u001b[0m\u001b[0;34m\u001b[0m\u001b[0;34m\u001b[0m\u001b[0m\n\u001b[0m\u001b[1;32m     12\u001b[0m \u001b[0;31m# display the sub_arrays\u001b[0m\u001b[0;34m\u001b[0m\u001b[0;34m\u001b[0m\u001b[0;34m\u001b[0m\u001b[0m\n\u001b[1;32m     13\u001b[0m \u001b[0msub_arrays\u001b[0m\u001b[0;34m\u001b[0m\u001b[0;34m\u001b[0m\u001b[0m\n",
            "\u001b[0;31mNameError\u001b[0m: name 'arr' is not defined"
          ]
        }
      ]
    },
    {
      "cell_type": "markdown",
      "source": [
        "## **Ejercicio 16)** Generando números aleatorios\n",
        "\n",
        "**a)** Use `np.random.random()` para generar un número aleatorio de tipo float64 a partir de la distribución uniforme en $[0,1]$.\n",
        "\n",
        "**b)** Use `np.random.random()` para crear un array de 10 números aleatorios de tipo float64 generados a partir de la distribución uniforme en $[0,1]$.\n",
        "\n",
        "**c)** Use `np.random.random()` para crear un array dos dimensional de dimensiones `(3,4)` conteniendo números aleatorios de tipo float64 generados a partir de la distribución uniforme en $[0,1]$.\n",
        "\n",
        "**d)** Use `np.random.randn()` para generar un número aleatorio de tipo float64 a partir de la distribución normal centrada en $\\mu=0$ y de varianza $\\sigma^2=1$. \n",
        "\n",
        "**e)** Use `np.random.randn()` para generar un número aleatorio de tipo float64 a partir de la distribución normal centrada en $\\mu=5$ y de varianza $\\sigma^2=9$.\n",
        "\n",
        "**f)** Use `np.random.randn()` para generar un array de dimensiones `(3,2,3)` conteniendo números aleatorios de tipo float64 generados a partir de la distribución normal centrada en $\\mu=-1$ y de varianza $\\sigma^2=2$.\n",
        "\n",
        "**g)** Use `np.random.randint()` para generar un número aleatorio de tipo int64 a partir de la distribución uniforme en $\\{0,1,2,3\\}$.\n",
        "\n",
        "**h)** Use `np.random.randint()` para generar un número aleatorio de tipo int64 a partir de la distribución uniforme en $\\{10,11,12,13,14,15\\}$.\n",
        "\n",
        "**i)** Use `np.random.randint()` para generar un array de dimensiones `(3,2,3)` conteniendo números aleatorios de tipo int64 generados a partir de la distribución uniforme en $\\{0,1\\}$.\n",
        "\n",
        "**j)** Use `np.random.choice()` para seleccionar uniformemente al azar un elemento de la lista `[\"perro\",\"gato\",\"loro\",\"caballo\",\"vaca\"]`.\n",
        "\n",
        "**k)** Use `np.random.choice()` para crear un array de dimensiones `(3,3)` con selecciones generadas uniformemente al azar de los elementos de la lista `[\"perro\",\"gato\",\"loro\",\"caballo\",\"vaca\"]`.\n",
        "\n",
        "**l)** Use `np.random.choice()` para crear un array de dimensiones `(3,3,3)` con selecciones generadas al azar de los elementos de la lista `[\"perro\",\"gato\",\"loro\",\"caballo\",\"vaca\"]` de acuerdo a la correspondiente lista de probabilidades `[8/16,4/16,2/16,1/16,1/16]`.\n",
        "\n",
        "**m)** Use `np.random.permutation()` generar una permutación, seleccionada uniformemente al azar una de las `n!` permutaciones que existen de un conjunto de `n` elementos, de una la lista de números entre `0` y `n-1` para `n=10` denominada `lista_n`.\n",
        "\n",
        "**n)** Repita lo anterior usando `np.random.shuffle()` para aleatorizar la lista `lista_n` *in situ*."
      ],
      "metadata": {
        "id": "sBolXn9yxIU7"
      }
    },
    {
      "cell_type": "code",
      "source": [
        "# 16.a)\n",
        "np.random.random()\n",
        "# 16.b)\n",
        "np.random.random(10)\n",
        "# 16.c)\n",
        "np.random.random((3,4))\n",
        "# 16.d)\n",
        "np.random.randn()\n",
        "# 16.e)\n",
        "3.*np.random.randn()+5.\n",
        "# 16.f)\n",
        "np.sqrt(2)*np.random.randn(3,2,3)-1.\n",
        "# 16.g)\n",
        "np.random.randint(4)\n",
        "# 16.h)\n",
        "np.random.randint(10,16)\n",
        "# 16.i)\n",
        "np.random.randint(0,2,(3,2,3))\n",
        "# 16.j)\n",
        "np.random.choice([\"perro\",\"gato\",\"loro\",\"caballo\",\"vaca\"])\n",
        "# 16.k)\n",
        "np.random.choice([\"perro\",\"gato\",\"loro\",\"caballo\",\"vaca\"],size=(3,3))\n",
        "# 16.l)\n",
        "np.random.choice([\"perro\",\"gato\",\"loro\",\"caballo\",\"vaca\"],size=(3,3,3),p=[8/16,4/16,2/16,1/16,1/16])\n",
        "# 16.m)\n",
        "lista_n = np.arange(10)\n",
        "np.random.permutation(lista_n)\n",
        "# 16.n)\n",
        "np.random.shuffle(lista_n)\n",
        "lista_n"
      ],
      "metadata": {
        "colab": {
          "base_uri": "https://localhost:8080/"
        },
        "id": "UMoFrNm1xEns",
        "outputId": "87ac38df-e3f0-4595-e797-42417004354b"
      },
      "execution_count": null,
      "outputs": [
        {
          "output_type": "execute_result",
          "data": {
            "text/plain": [
              "array([1, 2, 6, 3, 7, 4, 9, 0, 8, 5])"
            ]
          },
          "metadata": {},
          "execution_count": 50
        }
      ]
    }
  ]
}