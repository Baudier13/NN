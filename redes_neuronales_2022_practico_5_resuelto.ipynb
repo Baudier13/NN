{
  "nbformat": 4,
  "nbformat_minor": 0,
  "metadata": {
    "colab": {
      "provenance": [],
      "collapsed_sections": [],
      "include_colab_link": true
    },
    "kernelspec": {
      "name": "python3",
      "display_name": "Python 3"
    },
    "language_info": {
      "name": "python"
    }
  },
  "cells": [
    {
      "cell_type": "markdown",
      "metadata": {
        "id": "view-in-github",
        "colab_type": "text"
      },
      "source": [
        "<a href=\"https://colab.research.google.com/github/Baudier13/NN/blob/main/redes_neuronales_2022_practico_5_resuelto.ipynb\" target=\"_parent\"><img src=\"https://colab.research.google.com/assets/colab-badge.svg\" alt=\"Open In Colab\"/></a>"
      ]
    },
    {
      "cell_type": "markdown",
      "source": [
        "# El modelo *Integrate and Fire*\n",
        "\n",
        "## Teoría\n",
        "\n",
        "El modelo *Integrate and Fire* del comportamiento de una neurona viene descripto por dos ingredientes. En primer lugar, la ODE\n",
        "\n",
        "\\begin{eqnarray}\n",
        "\\frac{dV}{dt}\n",
        "&=&\n",
        "\\frac{1}{\\tau}\n",
        "\\left(\n",
        "E-V(t)\n",
        "+\n",
        "RI(t)\n",
        "\\right)\n",
        "\\end{eqnarray}\n",
        "\n",
        "donde:\n",
        "\n",
        "* $V(t)$ representa el potencial de membrana al tiempo $t$,\n",
        "\n",
        "* $E\\approx -65mV$ representa el potencial de reposo,\n",
        "\n",
        "* $\\tau\\approx 10ms$ representa el tiempo de relajación,\n",
        "\n",
        "* $R\\approx 10M\\Omega$ representa una resistencia eléctrica, y\n",
        "\n",
        "* $I(t)\\approx 1nA$ representa una corriente/señal de entrada.\n",
        "\n",
        "En segundo lugar, un mecanismo de disparo definido por\n",
        "\n",
        "\\begin{eqnarray}\n",
        "V(t) \\to E\n",
        "\\end{eqnarray}\n",
        "\n",
        "cuando \n",
        "\n",
        "\\begin{eqnarray}\n",
        "V(t) > V_u\n",
        "\\end{eqnarray}\n",
        "\n",
        "donde:\n",
        "\n",
        "* $V_u \\approx -50mV$ representa un potencial umbral.\n",
        "\n",
        "Es decir, según el mecanismo de disparo, el potencial de membrana $V(t)$ se resetea a su valor de reposo $E$ si supera cierto valor umbral $V_u$.\n",
        "\n",
        "## Unidades\n",
        "\n",
        "* p = pico = $10^{-12}$\n",
        "* n = nano = $10^{-9}$\n",
        "* $\\mu$ = micro = $10^{-6}$\n",
        "* m = mili = $10^{-3}$\n",
        "* ...\n",
        "* k = kilo = $10^{3}$\n",
        "* M = Mega = $10^{6}$\n",
        "* G = Giga = $10^{9}$\n",
        "* T = Tera = $10^{12}$\n",
        "\n",
        "### Ley de Ohm\n",
        "\n",
        "Si $\\Omega$ = Ohmio, V = Voltio y A = Amper, entonces\n",
        "\n",
        "$$ 1\\, Ohm = 1 \\Omega = \\frac{1 V}{1 A} $$\n",
        "\n",
        "### Ley RC\n",
        "\n",
        "Si s = segundos y F = Faradios, entonces\n",
        "\n",
        "$$ 1 s = 1 \\Omega \\times 1 F $$ \n",
        "\n",
        "### Hertz\n",
        "\n",
        "Si Hz = Hertz, luego\n",
        "\n",
        "$$ 1 Hz = \\frac{1}{1 s} $$\n",
        "\n",
        "### Referencias\n",
        "\n",
        "* https://technologystudent.com/elec1/ohm1.htm\n",
        "\n",
        "* https://en.wikipedia.org/wiki/Biological_neuron_model#Leaky_integrate-and-fire\n",
        "\n",
        "* https://compneuro.neuromatch.io/tutorials/W2D3_BiologicalNeuronModels/student/W2D3_Tutorial1.html"
      ],
      "metadata": {
        "id": "NRYEofSD0xoF"
      }
    },
    {
      "cell_type": "markdown",
      "source": [
        "\n",
        "\n",
        "## **Ejercicio 1)** Importando librerías\n",
        "\n",
        "**a)** Importe las librerías `numpy` para operar con arrays, `scipy` para utilizar rutinas de algebra lineal y `matplotlib.pyplot` para graficar.\n",
        "\n",
        "**b)** Suba el archivo \"libreria\" `ode.py` que fabricó en el práctico 4), e impórtelo."
      ],
      "metadata": {
        "id": "xSg4xeHbPFTb"
      }
    },
    {
      "cell_type": "code",
      "source": [
        "# 1.a)\n",
        "import numpy as np\n",
        "import scipy as sp\n",
        "import scipy.linalg as linalg\n",
        "import matplotlib.pyplot as plt"
      ],
      "metadata": {
        "id": "I8N3D_nU1_oT"
      },
      "execution_count": null,
      "outputs": []
    },
    {
      "cell_type": "code",
      "source": [
        "# 1.b)\n",
        "import ode"
      ],
      "metadata": {
        "id": "RmyNi-fhTmWm"
      },
      "execution_count": null,
      "outputs": []
    },
    {
      "cell_type": "markdown",
      "source": [
        "## **Ejercicio 2)** Dinámica con mecanismo de disparo desactivado\n",
        "\n",
        "En lo que sigue, se considera desactivado el mecanismo de disparo.\n",
        "\n",
        "**a)** Resuelva analíticamente la ODE del modelo *Integrate and Fire* para una condición inicial arbitraria $V(0)=V_0$ y una corriente de entrada $I=0$.\n",
        "\n",
        "**b)** Grafique la solución para $V_0=10mV$ y $t\\in [0,100]ms$. Incorpore al gráfico una línea punteada indicando el potencial de reposo.\n",
        "\n",
        "**c)** Realice un análisis geométrico de la solución calculada. Incorpore flechas del campo vectorial así como los puntos fijos estables, inestables y marginales, si los hubiere.\n",
        "\n",
        "**d)** Repita **a)**, **b)** y **c)** para el caso de corriente de entrada constante, $I=2$nA.\n",
        "\n",
        "### Extra\n",
        "\n",
        "**e)** Resuelva analíticamente la ODE para una corriente de entrada $I:t\\to I(t)$ arbitraria."
      ],
      "metadata": {
        "id": "NcaGEHAd10sb"
      }
    },
    {
      "cell_type": "code",
      "source": [
        "# 2.a)"
      ],
      "metadata": {
        "id": "2EwuGG0gZs_-"
      },
      "execution_count": null,
      "outputs": []
    },
    {
      "cell_type": "markdown",
      "source": [
        "Partimos de la ODE para $I=0$\n",
        "\n",
        "\\begin{eqnarray}\n",
        "\\frac{dV}{dt}\n",
        "&=&\n",
        "\\frac{1}{\\tau}\n",
        "\\left(\n",
        "E-V(t)\n",
        "\\right)\n",
        "\\end{eqnarray}\n",
        "\n",
        "Para resolverla, se propone el cambio de variable $x(t)=E-V(t)$, obteniéndose\n",
        "\n",
        "\\begin{eqnarray}\n",
        "\\frac{dx}{dt}\n",
        "&=&\n",
        "-\n",
        "\\frac{1}{\\tau}\n",
        "x\n",
        "\\\\\n",
        "\\frac{dx}{x}\n",
        "&=&\n",
        "-\n",
        "\\frac{1}{\\tau}\n",
        "dt\n",
        "\\\\\n",
        "\\ln x(t) - \\ln x(0)\n",
        "&=&\n",
        "-\n",
        "\\frac{t}{\\tau}\n",
        "\\\\\n",
        "\\ln x(t)\n",
        "&=&\n",
        "-\n",
        "\\frac{t}{\\tau}\n",
        "+\n",
        "\\ln x(0)\n",
        "\\\\\n",
        "x(t)\n",
        "&=&\n",
        "x(0)e^{-\\frac{t}{\\tau}}\n",
        "\\\\\n",
        "E-V(t)\n",
        "&=&\n",
        "\\left(E-V(0)\\right)e^{-\\frac{t}{\\tau}}\n",
        "\\\\\n",
        "V(t)\n",
        "&=&\n",
        "E+\\left(V(0)-E\\right)e^{-\\frac{t}{\\tau}}\n",
        "\\end{eqnarray}"
      ],
      "metadata": {
        "id": "P4PcT2m4P7z-"
      }
    },
    {
      "cell_type": "code",
      "source": [
        "# 2.b)\n",
        "E = -65 #mV\n",
        "tau = 10 #ms\n",
        "V0 = 10 #mV\n",
        "\n",
        "def V(t):\n",
        "    return E+(V0-E)*np.exp(-t/tau)"
      ],
      "metadata": {
        "id": "JkRb6t_5Rlax"
      },
      "execution_count": null,
      "outputs": []
    },
    {
      "cell_type": "code",
      "source": [
        "plt.xlabel('$t$ [ms]')\n",
        "plt.ylabel('$V(t)$ [mV]')\n",
        "#plt.xlim(-0.1,5.1)\n",
        "#plt.ylim(-0.1,1.1)\n",
        "valores_t=np.linspace(0,100,100)\n",
        "valores_V=np.vectorize(V)(valores_t)\n",
        "plt.plot(valores_t,valores_V,label=\"\",linestyle='-',c='red')\n",
        "plt.plot(valores_t,np.zeros(len(valores_t)),label=\"\",linestyle='--',c='gray')\n",
        "plt.plot(valores_t,E*np.ones(len(valores_t)),label=\"$E=V^*$\",linestyle='--',c='cyan')\n",
        "plt.title('Integrate and Fire: sin disparo ni corriente')\n",
        "plt.legend()"
      ],
      "metadata": {
        "colab": {
          "base_uri": "https://localhost:8080/",
          "height": 316
        },
        "id": "YucVmUkBR0eW",
        "outputId": "d5731869-6eec-4923-eb2b-2c139d71f4f4"
      },
      "execution_count": null,
      "outputs": [
        {
          "output_type": "execute_result",
          "data": {
            "text/plain": [
              "<matplotlib.legend.Legend at 0x7f2c22af5a50>"
            ]
          },
          "metadata": {},
          "execution_count": 7
        },
        {
          "output_type": "display_data",
          "data": {
            "text/plain": [
              "<Figure size 432x288 with 1 Axes>"
            ],
            "image/png": "[encoded data removed]"
          },
          "metadata": {
            "needs_background": "light"
          }
        }
      ]
    },
    {
      "cell_type": "code",
      "source": [
        "# 2.c)"
      ],
      "metadata": {
        "id": "Sy9z1tUqZyOj"
      },
      "execution_count": null,
      "outputs": []
    },
    {
      "cell_type": "markdown",
      "source": [
        "El lado derecho de la ODE es\n",
        "\n",
        "\\begin{eqnarray}\n",
        "f(V) = \\frac{1}{\\tau}(E-V)\n",
        "\\end{eqnarray}\n",
        "\n",
        "Por ende, $V(t)=V^*$ es un punto fijo si\n",
        "\n",
        "\\begin{eqnarray}\n",
        "0\n",
        "=\n",
        "f(V^*)\n",
        "&=&\n",
        "\\frac{1}{\\tau}\n",
        "\\left(\n",
        "E-V^*\n",
        "\\right)\n",
        "\\\\\n",
        "V^* \n",
        "&=&\n",
        "E\n",
        "\\end{eqnarray}\n",
        "\n",
        "Dicho punto fijo es estable porque\n",
        "\n",
        "\\begin{eqnarray}\n",
        "f'(V^*)\n",
        "=\n",
        "\\frac{-1}{\\tau}\n",
        "<\n",
        "0\n",
        "\\end{eqnarray}\n",
        "\n",
        "Con ello, graficamos"
      ],
      "metadata": {
        "id": "3vegUQTrTh12"
      }
    },
    {
      "cell_type": "code",
      "source": [
        "Vfix = E\n",
        "def f(V):\n",
        "    return (E-V)/tau\n",
        "plt.xlabel('$V$ [mV]')\n",
        "plt.ylabel('$dV/dt=f(V)$ [mV/ms]')\n",
        "#plt.xlim(-0.1,5.1)\n",
        "#plt.ylim(-0.1,1.1)\n",
        "valores_V=np.linspace(-120,20,100)\n",
        "valores_f=np.vectorize(f)(valores_V)\n",
        "plt.plot(valores_V,valores_f,label=\"\",linestyle='-',c='red')\n",
        "plt.plot(valores_V,np.zeros(len(valores_V)),label=\"\",linestyle='--',c='gray')\n",
        "plt.plot([Vfix,Vfix],[-8,8],label=\"$V^*=E$\",linestyle='--',c='cyan')\n",
        "plt.arrow(Vfix-20.0,0.0,10.0,0.0,head_width=0.5,head_length=2,fc='g',ec='g')\n",
        "plt.arrow(Vfix+20.0,0.0,-10.0,0.0,head_width=0.5,head_length=2,fc='g',ec='g')\n",
        "plt.scatter([Vfix],[0],c='black')\n",
        "plt.title('Integrate and Fire: sin disparo ni corriente')\n",
        "plt.legend()"
      ],
      "metadata": {
        "colab": {
          "base_uri": "https://localhost:8080/",
          "height": 316
        },
        "id": "fSKe_aeWRi0l",
        "outputId": "cb27eab7-b60e-406f-cc88-8d2ef0c0d66b"
      },
      "execution_count": null,
      "outputs": [
        {
          "output_type": "execute_result",
          "data": {
            "text/plain": [
              "<matplotlib.legend.Legend at 0x7f2c224cfc10>"
            ]
          },
          "metadata": {},
          "execution_count": 9
        },
        {
          "output_type": "display_data",
          "data": {
            "text/plain": [
              "<Figure size 432x288 with 1 Axes>"
            ],
            "image/png": "[encoded data removed]"
          },
          "metadata": {
            "needs_background": "light"
          }
        }
      ]
    },
    {
      "cell_type": "code",
      "source": [
        "# 2.d.a)"
      ],
      "metadata": {
        "id": "MMNGtrVxZ3GI"
      },
      "execution_count": null,
      "outputs": []
    },
    {
      "cell_type": "markdown",
      "source": [
        "Ahora, $I=2$nA constante. Hay un punto fijo determinado por\n",
        "\n",
        "\\begin{eqnarray}\n",
        "0\n",
        "=\n",
        "\\frac{dV}{dt}\n",
        "&=&\n",
        "\\frac{1}{\\tau}\n",
        "\\left(\n",
        "E+RI-V(t)\n",
        "\\right)\n",
        "\\end{eqnarray}\n",
        "\n",
        "i.e. \n",
        "\n",
        "\\begin{eqnarray}\n",
        "V^*\n",
        "&=&\n",
        "E+RI=-65mV+(10\\times 10^6\\Omega)(2\\times 10^{-9}A)\n",
        "\\\\\n",
        "&=&-65mV+20\\times 10^{-3}\\Omega A\n",
        "\\\\\n",
        "&=&-65mV+20\\times 10^{-3}V\n",
        "\\\\\n",
        "&=&\n",
        "-65mV+20mV\n",
        "\\\\\n",
        "&=&\n",
        "-45mV\n",
        "\\end{eqnarray}\n",
        "\n",
        "Proponemos el cambio de variable $x=V^*-V$, y obtenemos\n",
        "\n",
        "\\begin{eqnarray}\n",
        "\\frac{dx}{dt}\n",
        "&=&\n",
        "-\n",
        "\\frac{1}{\\tau}\n",
        "x\n",
        "\\\\\n",
        "&...&\n",
        "\\\\\n",
        "x(t)\n",
        "&=&\n",
        "x(0)e^{-\\frac{t}{\\tau}}\n",
        "\\\\\n",
        "V^*-V(t)\n",
        "&=&\n",
        "\\left(V^*-V(0)\\right)e^{-\\frac{t}{\\tau}}\n",
        "\\\\\n",
        "V(t)\n",
        "&=&\n",
        "V^*+\\left(V(0)-V^*\\right)e^{-\\frac{t}{\\tau}}\n",
        "\\end{eqnarray}"
      ],
      "metadata": {
        "id": "jNqFtQ8lWNEx"
      }
    },
    {
      "cell_type": "code",
      "source": [
        "# 2.d.b)\n",
        "E = -65 #mV\n",
        "tau = 10 #ms\n",
        "V0 = 10 #mV\n",
        "I = 2 #nA\n",
        "R = 10 #MOhms\n",
        "Vfix = E+I*R\n",
        "def V(t):\n",
        "    return Vfix+(V0-Vfix)*np.exp(-t/tau)"
      ],
      "metadata": {
        "id": "k84Sfo_4TxRE"
      },
      "execution_count": null,
      "outputs": []
    },
    {
      "cell_type": "code",
      "source": [
        "plt.xlabel('$t$ [ms]')\n",
        "plt.ylabel('$V(t)$ [mV]')\n",
        "#plt.xlim(-0.1,5.1)\n",
        "#plt.ylim(-0.1,1.1)\n",
        "valores_t=np.linspace(0,100,100)\n",
        "valores_V=np.vectorize(V)(valores_t)\n",
        "plt.plot(valores_t,valores_V,label=\"\",linestyle='-',c='red')\n",
        "plt.plot(valores_t,[Vfix]*len(valores_t),label=\"$V^*$\",linestyle='--',c='cyan')\n",
        "plt.plot(valores_t,np.zeros(len(valores_t)),label=\"\",linestyle='--',c='gray')\n",
        "plt.title('Integrate and Fire: sin disparo y corriente constante')\n",
        "plt.legend()"
      ],
      "metadata": {
        "colab": {
          "base_uri": "https://localhost:8080/",
          "height": 316
        },
        "id": "zCTa-pMBTxTS",
        "outputId": "34608d8a-61a0-4cec-ac1e-81866c5c72f6"
      },
      "execution_count": null,
      "outputs": [
        {
          "output_type": "execute_result",
          "data": {
            "text/plain": [
              "<matplotlib.legend.Legend at 0x7f2c224b0510>"
            ]
          },
          "metadata": {},
          "execution_count": 12
        },
        {
          "output_type": "display_data",
          "data": {
            "text/plain": [
              "<Figure size 432x288 with 1 Axes>"
            ],
            "image/png": "[encoded data removed]"
          },
          "metadata": {
            "needs_background": "light"
          }
        }
      ]
    },
    {
      "cell_type": "code",
      "source": [
        "# 2.d.c)"
      ],
      "metadata": {
        "id": "Cbb2otpaaMRn"
      },
      "execution_count": null,
      "outputs": []
    },
    {
      "cell_type": "markdown",
      "source": [
        "De manera similar al caso anterior, el lado derecho de la ODE es\n",
        "\n",
        "\\begin{eqnarray}\n",
        "f(V)\n",
        "&=&\n",
        "\\frac{1}{\\tau}(E+IR-V)\n",
        "\\end{eqnarray}\n",
        "\n",
        "Por ende, existe un punto fijo $V^*$ dado por\n",
        "\n",
        "\\begin{eqnarray}\n",
        "0\n",
        "=\n",
        "f(V)\n",
        "&=&\n",
        "\\frac{1}{\\tau}(E+IR-V)\n",
        "\\\\\n",
        "V^*\n",
        "&=&\n",
        "E+IR\n",
        "\\end{eqnarray}\n",
        "\n",
        "El punto fijo es estable porque\n",
        "\n",
        "\\begin{eqnarray}\n",
        "f'(V^*)\n",
        "=\n",
        "\\frac{-1}{\\tau}\n",
        "<\n",
        "0\n",
        "\\end{eqnarray}\n",
        " \n",
        " Por ende, graficamos\n"
      ],
      "metadata": {
        "id": "o_I-di02aOVH"
      }
    },
    {
      "cell_type": "code",
      "source": [
        "def f(V):\n",
        "    return (Vfix-V)/tau\n",
        "plt.xlabel('$V$ [mV]')\n",
        "plt.ylabel('$dV/dt=f(V)$ [mV/ms]')\n",
        "#plt.xlim(-0.1,5.1)\n",
        "#plt.ylim(-0.1,1.1)\n",
        "valores_V=np.linspace(-120,20,100)\n",
        "valores_f=np.vectorize(f)(valores_V)\n",
        "plt.plot(valores_V,valores_f,label=\"\",linestyle='-',c='red')\n",
        "plt.plot(valores_V,np.zeros(len(valores_V)),label=\"\",linestyle='--',c='gray')\n",
        "plt.plot([Vfix,Vfix],[-8,8],label=\"$V^*=E+IR$\",linestyle='--',c='cyan')\n",
        "plt.arrow(Vfix-20.0,0.0,10.0,0.0,head_width=0.5,head_length=2,fc='g',ec='g')\n",
        "plt.arrow(Vfix+20.0,0.0,-10.0,0.0,head_width=0.5,head_length=2,fc='g',ec='g')\n",
        "plt.scatter([Vfix],[0],c='black')\n",
        "plt.title('Integrate and Fire: sin disparo ni corriente')\n",
        "plt.legend()"
      ],
      "metadata": {
        "colab": {
          "base_uri": "https://localhost:8080/",
          "height": 316
        },
        "id": "em3keRBBTxV-",
        "outputId": "d2866fe2-b821-438e-9521-1539bf42c275"
      },
      "execution_count": null,
      "outputs": [
        {
          "output_type": "execute_result",
          "data": {
            "text/plain": [
              "<matplotlib.legend.Legend at 0x7f2c22417610>"
            ]
          },
          "metadata": {},
          "execution_count": 14
        },
        {
          "output_type": "display_data",
          "data": {
            "text/plain": [
              "<Figure size 432x288 with 1 Axes>"
            ],
            "image/png": "[encoded data removed]"
          },
          "metadata": {
            "needs_background": "light"
          }
        }
      ]
    },
    {
      "cell_type": "code",
      "source": [
        "# 2.e)"
      ],
      "metadata": {
        "id": "WLD1oTwiTxYK"
      },
      "execution_count": null,
      "outputs": []
    },
    {
      "cell_type": "markdown",
      "source": [
        "### El método del factor de integración\n",
        "\n",
        "La solución se obtiene por el *método del factor de integración*.\n",
        "Considérese una ODE de la forma\n",
        "\n",
        "\\begin{eqnarray}\n",
        "\\frac{dx}{dt}(t)\n",
        "+\n",
        "p(t)x(t)\n",
        "=\n",
        "q(t)\n",
        "\\;\\;\\;\\;\n",
        "\\;\\;\\;\\;\n",
        "(1)\n",
        "\\end{eqnarray}\n",
        "\n",
        "donde, $p:t\\to p(t)$ y $q:t\\to q(t)$ son funciones arbitrarias.\n",
        "Asumiendo que la condición inicial es $x(t_0)$, se propone el factor de integración\n",
        "\n",
        "\\begin{eqnarray}\n",
        "g(t):=e^{h(t)}:=e^{\\int_{t_0}^t dt'\\, p(t')}\n",
        "\\end{eqnarray}\n",
        "\n",
        "el cuál satisface\n",
        "\n",
        "\\begin{eqnarray}\n",
        "\\frac{dg}{dt}(t)\n",
        "&=&\n",
        "\\frac{de^{h(t)}}{dt}(t)\n",
        "\\\\\n",
        "&=&\n",
        "e^{h(t)}\\frac{dh}{dt}(t)\n",
        "\\\\\n",
        "&=&\n",
        "e^{h(t)}p(t)\n",
        "\\\\\n",
        "&=&\n",
        "g(t)p(t)\n",
        "\\end{eqnarray}\n",
        "\n",
        "Luego\n",
        "\n",
        "\\begin{eqnarray}\n",
        "\\frac{dgx}{dt}(t)\n",
        "&=&\n",
        "\\frac{dg}{dt}(t)x(t)\n",
        "+\n",
        "g(t)\\frac{dx}{dt}(t)\n",
        "\\\\\n",
        "&=&\n",
        "g(t)p(t)x(t)\n",
        "+\n",
        "g(t)\\frac{dx}{dt}(t)\n",
        "\\\\\n",
        "&=&\n",
        "g(t)\n",
        "\\bigg(\n",
        "p(t)x(t)\n",
        "+\n",
        "\\frac{dx}{dt}(t)\n",
        "\\bigg)\n",
        "\\\\\n",
        "&=&\n",
        "g(t)\n",
        "q(t)\n",
        "\\end{eqnarray}\n",
        "\n",
        "donde, en la última línea, utilizamos la ODE de la Ec. $(1)$.\n",
        "De esta manera, se puede integrar\n",
        "\n",
        "\\begin{eqnarray}\n",
        "\\int_{t_0}^t dt'\\,\n",
        "\\frac{dgx}{dt}(t')\n",
        "=\n",
        "g(t)x(t)-g(t_0)x(t_0)\n",
        "&=&\n",
        "\\int dt_{t_0}^t\\,\n",
        "g(t)\n",
        "q(t)\n",
        "\\end{eqnarray}\n",
        "\n",
        "En resumen, la solución a la ODE de la Ec. $(1)$ es\n",
        "\n",
        "\\begin{eqnarray}\n",
        "x(t)\n",
        "&=&\n",
        "\\frac{1}{g(t)}\n",
        "\\left(\n",
        "g(t_0)x(t_0)\n",
        "+\n",
        "\\int_{t_0}^t dt'\\,\n",
        "g(t')\n",
        "q(t')\n",
        "\\right)\n",
        "\\end{eqnarray}\n",
        "\n",
        "### Aplicación del método a la ODE del modelo Integrated and Fire\n",
        "\n",
        "La ODE puede reescribirse como\n",
        "\n",
        "\\begin{eqnarray}\n",
        "\\frac{dV}{dt}(t)\n",
        "+\n",
        "\\frac{1}{\\tau}V(t)\n",
        "&=&\n",
        "\\frac{1}{\\tau}\n",
        "\\bigg(\n",
        "E\n",
        "+\n",
        "RI(t)\n",
        "\\bigg)\n",
        "\\end{eqnarray}\n",
        "\n",
        "en donde se reconocen las identificaciones\n",
        "\n",
        "* $x(t) = V(t)$\n",
        "\n",
        "* $p(t) = \\frac{1}{\\tau}$\n",
        "\n",
        "* $q(t) = E+RI(t)$.\n",
        "\n",
        "De esta manera\n",
        "\n",
        "\\begin{eqnarray}\n",
        "g(t)\n",
        "&=&\n",
        "e^{h(t)}\n",
        "\\\\\n",
        "&=&\n",
        "e^{\\int_{t_0}^t dt' p(t)}\n",
        "\\\\\n",
        "&=&\n",
        "e^{\\int_{t_0}^t dt' \\tau^{-1}}\n",
        "\\\\\n",
        "&=&\n",
        "e^{\\frac{t-t_0}{\\tau}}\n",
        "\\end{eqnarray}\n",
        "\n",
        "Luego, la solución de la ODE resulta\n",
        "\n",
        "\\begin{eqnarray}\n",
        "V(t)\n",
        "&=&\n",
        "e^{-\\frac{t-t_0}{\\tau}}\n",
        "\\left(\n",
        "V(t_0)\n",
        "+\n",
        "\\frac{1}{\\tau}\n",
        "\\int_{t_0}^t dt'\\,\n",
        "e^{\\frac{'t-t_0}{\\tau}}\n",
        "\\left(\n",
        "E\n",
        "+\n",
        "RI(t')\n",
        "\\right)\n",
        "\\right)\n",
        "\\end{eqnarray}"
      ],
      "metadata": {
        "id": "vgwMntkAMuja"
      }
    },
    {
      "cell_type": "markdown",
      "source": [
        "## **Ejercicio 3)** Dinámica con mecanismo de disparo activado\n",
        "\n",
        "**a)** Resuelva numéricamente la ODE del modelo *Integrate and Fire* en el intervalo $t\\in [0,200]ms$ para la condición inicial $V(0)=E$ y una corriente de entrada $I(t)=I_0$ para todo $t$ con $I_0=2nA$. Utilice el paso de integración $h=0.05ms$.\n",
        "\n",
        "**b)** Grafique la solución computada en el inciso **3.a)**. Incorpore al gráfico la solución exacta del inciso **2.a)**, en donde el mecanismo de disparo está desactivado, para la misma condición inicial del inciso **3.a)**. Grafique, también, líneas punteadas horizontales marcando los valores de $V^*$ y $V_u$.\n",
        "\n",
        "**c)** Para el caso indicado en el inciso **3.a)**, calcule analíticamente el período de disparo. \n",
        "Observe si el valor computado corresponde con el observado en el inciso **3.b)**.\n",
        "Grafíque la frencuencia en función de $I_0$.\n",
        "Que ocurre para valores pequeños de $I_0$?\n",
        "\n",
        "\n",
        "**d)** Repita **3.a)** y **3.b)** con $I_e(t)=I_0 \\cos(t/30ms)$ e $I_0=2.5nA$ para $0\\,ms\\leq t\\leq 500\\,ms$. En este caso, no incluya la solución exacta del inciso **2.a)**, pero sí lineas punteadas horizontales para marcar los valores de $E$ y $V_u$.\n",
        "\n",
        "**e)** Repita **3.a)** y **3.b)** con \n",
        "\n",
        "\\begin{equation}\n",
        "I(t)= I_0 \\, \\left( \n",
        "    \\cos{\\left( \\frac{t}{3ms} \\right)} +\n",
        "    \\sin{\\left( \\frac{t}{5ms} \\right)} +\n",
        "    \\cos{\\left( \\frac{t}{7ms} \\right)} +\n",
        "    \\sin{\\left( \\frac{t}{11ms} \\right)} +\n",
        "    \\cos{\\left( \\frac{t}{13ms} \\right)}  \\right)^2 \\, nA \\,\n",
        "    \\;\\;\\;(4)\n",
        "\\end{equation}\n",
        "\n",
        "e $I_0=0.35 nA$ para $0\\,ms\\leq t\\leq 200\\,ms$. Al igual que en inciso anterior, no incluya la solución exacta del inciso **2.a)**, pero sí lineas punteadas horizontales para marcar los valores de $E$ y $V_u$."
      ],
      "metadata": {
        "id": "ZA8o18QvZLWY"
      }
    },
    {
      "cell_type": "code",
      "source": [
        "E   = -65 #mV\n",
        "tau = 10  #ms\n",
        "R   = 10  #mOhms\n",
        "I0  = 2   #nA\n",
        "def I(t):\n",
        "    return I0 #nA\n",
        "Vu  = -50 #mV\n",
        "\n",
        "p = [E,tau,R,I,Vu]\n",
        "\n",
        "def f(x,t,p):\n",
        "    \"\"\"\n",
        "    V   = x[0]\n",
        "    E   = p[0]\n",
        "    tau = p[1]\n",
        "    R   = p[2]\n",
        "    I   = p[3]\n",
        "    Vu  = p[4]\n",
        "\n",
        "    donde I : t -> I(t)\n",
        "    \"\"\"\n",
        "    V   = x[0]\n",
        "    E   = p[0]\n",
        "    tau = p[1]\n",
        "    R   = p[2]\n",
        "    I   = p[3]\n",
        "    #Vu  = p[4]\n",
        "    return np.array([(E+R*I(t)-V)/tau])\n",
        "\n",
        "def c(x,t,p):\n",
        "    \"\"\"\n",
        "    V   = x[0]\n",
        "    E   = p[0]\n",
        "    tau = p[1]\n",
        "    R   = p[2]\n",
        "    I   = p[3]\n",
        "    Vu  = p[4]\n",
        "\n",
        "    donde I : t -> I(t)\n",
        "    \"\"\"  \n",
        "    V   = x[0]\n",
        "    E   = p[0]\n",
        "    #tau = p[1]\n",
        "    #R   = p[2]\n",
        "    #I   = p[3]\n",
        "    Vu  = p[4]\n",
        "    if V>Vu:\n",
        "        V=E\n",
        "    return np.array([V])"
      ],
      "metadata": {
        "id": "TsHJjcCmTxa1"
      },
      "execution_count": null,
      "outputs": []
    },
    {
      "cell_type": "code",
      "source": [
        "a  = 0   #ms\n",
        "b  = 200 #ms\n",
        "xa = np.array([E])\n",
        "h = 0.05 # ms\n",
        "k = int((b-a)/h)"
      ],
      "metadata": {
        "id": "f1SzEpA3cSOJ"
      },
      "execution_count": null,
      "outputs": []
    },
    {
      "cell_type": "code",
      "source": [
        "t,w= ode.integrador_ode(ode.rk4,f,xa,a,b,k,p,c=c)"
      ],
      "metadata": {
        "id": "s_JtAOh1TxdF"
      },
      "execution_count": null,
      "outputs": []
    },
    {
      "cell_type": "code",
      "source": [
        "# 3.b)\n",
        "V0=E\n",
        "Vfix = E+I(0)*R\n",
        "def Vex(t):\n",
        "    return Vfix+(V0-Vfix)*np.exp(-t/tau)"
      ],
      "metadata": {
        "id": "IvOVlllUe-_Y"
      },
      "execution_count": null,
      "outputs": []
    },
    {
      "cell_type": "code",
      "source": [
        "plt.xlabel('$t$ [ms]')\n",
        "plt.ylabel('$V(t)$ [mV]')\n",
        "#plt.xlim(-0.1,5.1)\n",
        "#plt.ylim(-0.1,1.1)\n",
        "valores_t=t\n",
        "valores_V=w[0,:]\n",
        "plt.plot(valores_t,valores_V,label=\"con disparo\",linestyle='-',c='red')\n",
        "plt.plot(valores_t,np.vectorize(Vex)(valores_t),label=\"sin disparo\",linestyle='--',c='blue')\n",
        "plt.plot(valores_t,[Vfix]*len(valores_t),label=\"$V^*$\",linestyle='--',c='cyan')\n",
        "plt.plot(valores_t,[Vu]*len(valores_t),label=\"$V_u$\",linestyle='--',c='green')\n",
        "#plt.plot(valores_t,np.zeros(len(valores_t)),label=\"\",linestyle='--',c='gray')\n",
        "plt.title('Integrate and Fire: sin disparo y corriente constante')\n",
        "plt.legend()"
      ],
      "metadata": {
        "colab": {
          "base_uri": "https://localhost:8080/",
          "height": 316
        },
        "id": "8XS2j67qTxfe",
        "outputId": "49b8db4d-ea05-4502-d728-232354c85431"
      },
      "execution_count": null,
      "outputs": [
        {
          "output_type": "execute_result",
          "data": {
            "text/plain": [
              "<matplotlib.legend.Legend at 0x7f2c2230ba50>"
            ]
          },
          "metadata": {},
          "execution_count": 20
        },
        {
          "output_type": "display_data",
          "data": {
            "text/plain": [
              "<Figure size 432x288 with 1 Axes>"
            ],
            "image/png": "[encoded data removed]"
          },
          "metadata": {
            "needs_background": "light"
          }
        }
      ]
    },
    {
      "cell_type": "code",
      "source": [
        "# 3.c)"
      ],
      "metadata": {
        "id": "DGHW2GTunHzu"
      },
      "execution_count": null,
      "outputs": []
    },
    {
      "cell_type": "markdown",
      "source": [
        "El período de disparo es el tiempo $t$ en el cual $V(t)$ alcanza el valor $V_u$ partiendo del valor de reseteo $V(0)=E$. Como se calculó en el inciso **)**, la solución exacta para este caso viene dada por\n",
        "\n",
        "\n",
        "\\begin{eqnarray}\n",
        "V(t)\n",
        "&=&\n",
        "V^*+\\left(V(0)-V^*\\right)e^{-\\frac{t}{\\tau}}\n",
        "\\end{eqnarray}\n",
        "\n",
        "donde $V^*=E+RI_0$ y $V(0)=E$. Luego\n",
        "\n",
        "\\begin{eqnarray}\n",
        "V(t)\n",
        "&=&\n",
        "E+I_0R\\bigg(1-e^{-\\frac{t}{\\tau}}\\bigg)\n",
        "\\end{eqnarray}\n",
        "\n",
        "Entonces,\n",
        "\n",
        "\\begin{eqnarray}\n",
        "1-\\frac{V_u-E}{I_0R}\n",
        "&=&\n",
        "e^{-\\frac{t}{\\tau}}\n",
        "\\\\\n",
        "-\\tau\\ln\\bigg(1-\\frac{V_u-E}{I_0R}\\bigg)\n",
        "&=&\n",
        "t\n",
        "\\\\\n",
        "t\n",
        "&=&\n",
        "\\tau\\ln\\bigg(\\frac{I_0R}{E+RI_0-V_u}\\bigg)\n",
        "\\end{eqnarray}\n",
        "\n",
        "Esta fórmula tiene sentido siempre que \n",
        "\n",
        "$$E+RI_0>V_u$$\n",
        "\n",
        "Es decir, deja de tener sentido cuando el valor de la corriente $I_0$ se aproxima a la corriente crítica $I_c:=(V_u-E)/R=1.5nA$ por arriba."
      ],
      "metadata": {
        "id": "DranefvYnJl4"
      }
    },
    {
      "cell_type": "code",
      "source": [
        "# Corriente crítica.\n",
        "Ic = (Vu-E)/R"
      ],
      "metadata": {
        "id": "bJ5d17pnshva"
      },
      "execution_count": null,
      "outputs": []
    },
    {
      "cell_type": "code",
      "source": [
        "def periodo(I0):\n",
        "    return tau*np.log(I0*R/(I0*R+E-Vu))    \n",
        "def frecuencia(I0):\n",
        "    return 1/periodo(I0)"
      ],
      "metadata": {
        "id": "OMmPVTjdtLtr"
      },
      "execution_count": null,
      "outputs": []
    },
    {
      "cell_type": "code",
      "source": [
        "valores_I0 = np.linspace(Ic+0.01,2*Ic,10)\n",
        "\n",
        "plt.xlabel('$I_0$ [nA]')\n",
        "plt.ylabel('frecuencia [1/ms]')\n",
        "#plt.xlim(-0.1,5.1)\n",
        "#plt.ylim(-0.1,1.1)\n",
        "plt.scatter(np.linspace(0,Ic,10),np.zeros(10),label=\"\",linestyle='--',c='blue')\n",
        "plt.scatter(valores_I0,np.vectorize(frecuencia)(valores_I0),label=\"\",linestyle='--',c='blue')\n",
        "#plt.plot(valores_t,np.vectorize(Vex)(valores_t),label=\"sin disparo\",linestyle='--',c='blue')\n",
        "#plt.plot(valores_t,[Vfix]*len(valores_t),label=\"$V^*$\",linestyle='--',c='cyan')\n",
        "#plt.plot(valores_t,[Vu]*len(valores_t),label=\"$V_u$\",linestyle='--',c='green')\n",
        "#plt.plot(valores_t,np.zeros(len(valores_t)),label=\"\",linestyle='--',c='gray')\n",
        "plt.title('Integrate and Fire: frecuencia de disparo')\n",
        "#plt.legend()"
      ],
      "metadata": {
        "colab": {
          "base_uri": "https://localhost:8080/",
          "height": 316
        },
        "id": "5dG-pf-HrqAY",
        "outputId": "c82e8767-0d5b-4d5f-dc4d-714598a40467"
      },
      "execution_count": null,
      "outputs": [
        {
          "output_type": "execute_result",
          "data": {
            "text/plain": [
              "Text(0.5, 1.0, 'Integrate and Fire: frecuencia de disparo')"
            ]
          },
          "metadata": {},
          "execution_count": 24
        },
        {
          "output_type": "display_data",
          "data": {
            "text/plain": [
              "<Figure size 432x288 with 1 Axes>"
            ],
            "image/png": "[encoded data removed]"
          },
          "metadata": {
            "needs_background": "light"
          }
        }
      ]
    },
    {
      "cell_type": "code",
      "source": [
        "I0 = 2 #nA\n",
        "t = periodo(I0)\n",
        "frec = frecuencia(I0)\n",
        "print(\"El período para el caso en que I_0=2nA es \",t,\"ms. y la frecuencia es \",frec,\" Hz.\")\n",
        "print(\"Esto coincide (aproximadamente) con lo observado en la figura.\")"
      ],
      "metadata": {
        "colab": {
          "base_uri": "https://localhost:8080/"
        },
        "id": "a8z4RvDro_tI",
        "outputId": "ac3a57ee-3b76-40c3-910d-fa1fac6f80e1"
      },
      "execution_count": null,
      "outputs": [
        {
          "output_type": "stream",
          "name": "stdout",
          "text": [
            "El período para el caso en que I_0=2nA es  13.862943611198906 ms. y la frecuencia es  0.07213475204444816  Hz.\n",
            "Esto coincide (aproximadamente) con lo observado en la figura.\n"
          ]
        }
      ]
    },
    {
      "cell_type": "code",
      "source": [
        "# 3.d)\n",
        "a=0   #ms\n",
        "b=500 #ms\n",
        "I0 = 2.5 #nA\n",
        "def I(t):\n",
        "    return I0*np.cos(t/30)\n",
        "p = [E,tau,R,I,Vu]"
      ],
      "metadata": {
        "id": "G4w_ZlPBcxQw"
      },
      "execution_count": null,
      "outputs": []
    },
    {
      "cell_type": "code",
      "source": [
        "t,w= ode.integrador_ode(ode.rk4,f,xa,a,b,k,p,c=c)"
      ],
      "metadata": {
        "id": "TWeROmmlcxTY"
      },
      "execution_count": null,
      "outputs": []
    },
    {
      "cell_type": "code",
      "source": [
        "plt.xlabel('$t$ [ms]')\n",
        "plt.ylabel('$V(t)$ [mV]')\n",
        "#plt.xlim(-0.1,5.1)\n",
        "#plt.ylim(-0.1,1.1)\n",
        "valores_t=t\n",
        "valores_V=w[0,:]\n",
        "plt.plot(valores_t,valores_V,label=\"con disparo\",linestyle='-',c='red')\n",
        "plt.plot(valores_t,[E]*len(valores_t),label=\"$E$\",linestyle='--',c='cyan')\n",
        "plt.plot(valores_t,[Vu]*len(valores_t),label=\"$V_u$\",linestyle='--',c='green')\n",
        "plt.title('Integrate and Fire: sin disparo y corriente constante')\n",
        "plt.legend()"
      ],
      "metadata": {
        "colab": {
          "base_uri": "https://localhost:8080/",
          "height": 316
        },
        "id": "DRXNQvkIcxVp",
        "outputId": "48a93d25-691e-44b2-b52e-df7be73dc4d8"
      },
      "execution_count": null,
      "outputs": [
        {
          "output_type": "execute_result",
          "data": {
            "text/plain": [
              "<matplotlib.legend.Legend at 0x7f2c222a0e10>"
            ]
          },
          "metadata": {},
          "execution_count": 37
        },
        {
          "output_type": "display_data",
          "data": {
            "text/plain": [
              "<Figure size 432x288 with 1 Axes>"
            ],
            "image/png": "[encoded data removed]"
          },
          "metadata": {
            "needs_background": "light"
          }
        }
      ]
    },
    {
      "cell_type": "code",
      "source": [
        "# 3.e)\n",
        "a=0   #ms\n",
        "b=200 #ms\n",
        "I0 = 0.35 #nA\n",
        "def I(t):\n",
        "    return I0*(np.cos(t/3)+np.sin(t/5)+np.cos(t/7)+np.sin(t/11)+np.cos(t/13))**2\n",
        "p = [E,tau,R,I,Vu]"
      ],
      "metadata": {
        "id": "CCbWZfnDcxav"
      },
      "execution_count": null,
      "outputs": []
    },
    {
      "cell_type": "code",
      "source": [
        "plt.xlabel('$t$ [ms]')\n",
        "plt.ylabel('$I(t)$ [nA]')\n",
        "plt.xlim(-0.1,200)\n",
        "#plt.ylim(-0.1,1.1)\n",
        "valores_t=t\n",
        "plt.plot(valores_t,np.vectorize(I)(valores_t),label=\"\",linestyle='-',c='red')\n",
        "plt.title('')\n",
        "plt.legend()"
      ],
      "metadata": {
        "colab": {
          "base_uri": "https://localhost:8080/",
          "height": 322
        },
        "id": "2_Q1_rwXUYBw",
        "outputId": "a48e4203-5fe8-4793-8e97-770fa774fdbe"
      },
      "execution_count": null,
      "outputs": [
        {
          "output_type": "stream",
          "name": "stderr",
          "text": [
            "WARNING:matplotlib.legend:No handles with labels found to put in legend.\n"
          ]
        },
        {
          "output_type": "execute_result",
          "data": {
            "text/plain": [
              "<matplotlib.legend.Legend at 0x7f2c2144fd50>"
            ]
          },
          "metadata": {},
          "execution_count": 41
        },
        {
          "output_type": "display_data",
          "data": {
            "text/plain": [
              "<Figure size 432x288 with 1 Axes>"
            ],
            "image/png": "[encoded data removed]"
          },
          "metadata": {
            "needs_background": "light"
          }
        }
      ]
    },
    {
      "cell_type": "code",
      "source": [
        "t,w= ode.integrador_ode(ode.rk4,f,xa,a,b,k,p,c=c)"
      ],
      "metadata": {
        "id": "UK2be_HITxr-"
      },
      "execution_count": null,
      "outputs": []
    },
    {
      "cell_type": "code",
      "source": [
        "plt.xlabel('$t$ [ms]')\n",
        "plt.ylabel('$V(t)$ [mV]')\n",
        "#plt.xlim(-0.1,5.1)\n",
        "#plt.ylim(-0.1,1.1)\n",
        "valores_t=t\n",
        "valores_V=w[0,:]\n",
        "plt.plot(valores_t,valores_V,label=\"con disparo\",linestyle='-',c='red')\n",
        "plt.plot(valores_t,[E]*len(valores_t),label=\"$E$\",linestyle='--',c='cyan')\n",
        "plt.plot(valores_t,[Vu]*len(valores_t),label=\"$V_u$\",linestyle='--',c='green')\n",
        "plt.title('Integrate and Fire: sin disparo y corriente constante')\n",
        "plt.legend()"
      ],
      "metadata": {
        "colab": {
          "base_uri": "https://localhost:8080/",
          "height": 316
        },
        "id": "hseRmlGDqHJb",
        "outputId": "232ce0bf-4fe9-4d31-a5e0-81dbb3dd08ff"
      },
      "execution_count": null,
      "outputs": [
        {
          "output_type": "execute_result",
          "data": {
            "text/plain": [
              "<matplotlib.legend.Legend at 0x7f2c220fe2d0>"
            ]
          },
          "metadata": {},
          "execution_count": 31
        },
        {
          "output_type": "display_data",
          "data": {
            "text/plain": [
              "<Figure size 432x288 with 1 Axes>"
            ],
            "image/png": "[encoded data removed]"
          },
          "metadata": {
            "needs_background": "light"
          }
        }
      ]
    },
    {
      "cell_type": "code",
      "source": [],
      "metadata": {
        "id": "gJP4UK4pqHL3"
      },
      "execution_count": null,
      "outputs": []
    }
  ]
}